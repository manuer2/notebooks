{
 "cells": [
  {
   "cell_type": "markdown",
   "id": "42011e00-cf0a-436a-976e-64b391f1b327",
   "metadata": {},
   "source": [
    "# Les dictionnaires\n",
    "\n",
    "Dans ce chapitre, nous abordons un autre type de structures de données utilisé en Python : les **dictionnaires**.\n",
    "\n",
    "## Définition\n",
    "\n",
    "Un dictionnaire est un objet structuré permettant d'associer des **valeurs** à des **clés**. On peut comparer un dictionnaire à une liste dont les indices des éléments peuvent être des chaînes de caractères. Les dictionnaires sont particulièrement adaptés à la représentation de données contenant des associations, comme par exemple&nbsp;:\n",
    "\n",
    "* un carnet d'adresses (associations entre des noms et des adresses électroniques ou postales)\n",
    "* un glossaire (associations entre des termes et leurs définitions).\n",
    "\n",
    "Dans d'autres langages comme PHP, les dictionnaires sont appelés des « tableaux associatifs ».\n",
    "\n",
    "## Caractéristiques d'un dictionnaire\n",
    "\n",
    "En Python, un dictionnaire est une **collection d'éléments muable**, ce qui signifie qu'on peut le modifier directement sans utiliser d'affectation. Chaque élément d'un dictionnaire est un couple `clé : valeur`, où la clé peut être &nbsp;:\n",
    "\n",
    "* un nombre entier\n",
    "* un nombre réel\n",
    "* une chaîne\n",
    "* un tuple contenant des entiers, des réels ou des chaînes\n",
    "\n",
    "et la valeur peut être&nbsp;:\n",
    "\n",
    "* un objet de type simple (entier, réel, chaîne, booléen)\n",
    "* un objet structuré (liste, tuple, dictionnaire ensemble, etc).\n",
    "\n",
    "La duplication de clé n'est pas autorisée : à une clé ne peut correspondre qu'un seul couple `clé : valeur` et donc une seule valeur. À la différence d'une liste, un dictionnaire n'est pas une séquence. Par conséquent, ses éléments ne sont pas ordonnés. Il est impossible d'accéder à un élément d'un dictionnaire à l'aide de sa position (ce qui est logique, puisque la notion d'ordre et donc de position n'existe pas). Il est également impossible d'accéder à un sous-dictionnaire à l'aide de la technique de « slicing ».\n",
    "\n",
    "## Notation et création d'un dictionnaire\n",
    "\n",
    "La notation d'un dictionnaire s'effectue à l'aide des accolades&nbsp;:\n",
    "\n",
    "* `{` pour indiquer le début du dictionnaire\n",
    "* `}` pour indiquer la fin.\n",
    "\n",
    "À l'intérieur des accolades, les différents éléments sont séparés pas des virgules. Par exemple : `{'entrée':'crudités', 'plat':'lasagnes', 'dessert':'fruit'}`. Il existe un cas particulier de dictionnaire : le dictionnaire vide ne contenant aucun élément. Dans ce cas, la notation s'effectue avec uniquement les accolades : `{}`. \n",
    "Dans un programme, la création d'un dictionnaire peut se faire de deux façons&nbsp;:\n",
    "\n",
    "* soit par une simple affectation du dictionnaire complet dans une variable structurée, comme dans l'exemple ci-dessous. Le nom de la variable est alors appelé son identifiant et permet de le référencer dans le programme. "
   ]
  },
  {
   "cell_type": "code",
   "execution_count": 2,
   "id": "d2165501-984a-4cf3-8a2b-d7c519caee72",
   "metadata": {},
   "outputs": [
    {
     "name": "stdout",
     "output_type": "stream",
     "text": [
      "{'entrée': 'crudités', 'plat': 'lasagnes', 'dessert': 'fruit'}\n"
     ]
    }
   ],
   "source": [
    "repas = {'entrée':'crudités', 'plat':'lasagnes', 'dessert':'fruit'}\n",
    "print(repas)"
   ]
  },
  {
   "cell_type": "markdown",
   "id": "a49f1cb6-de80-424a-9f10-526a32e30fa0",
   "metadata": {},
   "source": [
    "* soit en partant d'un dictionnaire vide, auquel on ajoute des éléments un par un. L'ajout d'un élément dans un dictionnaire s'effectue à l'aide d'une affectation de la forme&nbsp;:"
   ]
  },
  {
   "cell_type": "code",
   "execution_count": null,
   "id": "aadcae4f-0b68-4a1c-93dc-8f175a1a94b4",
   "metadata": {},
   "outputs": [],
   "source": [
    "id_dict[cle] = valeur"
   ]
  },
  {
   "cell_type": "markdown",
   "id": "93761792-d56b-40d8-9b19-3db4ee3faba8",
   "metadata": {},
   "source": [
    "où `id_dict` est l'identifiant du dictionnaire, `cle` est la clé de l'élément et `valeur` la valeur qu'on lui associe. Si la clé est déjà présente dans le dictionnaire, il n'y aura pas de création d'un nouvel élément (la duplication de clé est interdite) mais remplacement de la valeur associée à la clé.\n",
    "Le programme ci-dessous crée un dictionnaire associant à certains numéros de départements (sous forme de chaînes) les noms des départements correspondants (sous forme de chaînes également), puis modifie l'un des éléments."
   ]
  },
  {
   "cell_type": "code",
   "execution_count": 4,
   "id": "416894c6-376a-42c0-8ac6-91b2f813b909",
   "metadata": {},
   "outputs": [
    {
     "name": "stdout",
     "output_type": "stream",
     "text": [
      "{'01': 'Ain', '02': 'Aisne', '03': 'Allier', '04': 'Alpes de Haute Provence', '05': 'Hautes Alpes', '06': 'Alpes maritimes'}\n",
      "{'01': 'Ain', '02': 'Aisne', '03': 'Allier', '04': 'Alpes de Haute Provence', '05': ('Hautes Alpes', 'Briançon'), '06': 'Alpes maritimes'}\n"
     ]
    }
   ],
   "source": [
    "dpt = {}   # Au départ, le dictionnaire est vide\n",
    "dpt = {'01':'Ain', '02':'Aisne', '03':'Allier'}  # On crée les 3 premiers éléments en une seule affectation\n",
    "# Puis on ajoute un par un 3 autres éléments\n",
    "dpt['04'] = 'Alpes de Haute Provence'\n",
    "dpt['05'] = 'Hautes Alpes'\n",
    "dpt['06'] = 'Alpes maritimes'\n",
    "print(dpt)\n",
    "# On modifie la valeur associée à la clé '05' en ajoutant à la valeur le nom du chef-lieu du département correspondant\n",
    "dpt['05'] = ('Hautes Alpes', 'Briançon')\n",
    "print(dpt)"
   ]
  },
  {
   "cell_type": "markdown",
   "id": "e42bb166-da84-499f-8a54-3beeb02fd43b",
   "metadata": {},
   "source": [
    "Notons que cet exemple permet d'illuster le fait qu'au sein d'un même dictionnaire, le type des valeurs (mais également celui des clés !) peut varier.\n",
    "\n",
    "## Accès aux valeurs d'un dictionnaire\n",
    "\n",
    "L'accès à une valeur d'un dictionnaire s'effectue à l'aide de sa clé, selon la syntaxe générale suivante&nbsp;:"
   ]
  },
  {
   "cell_type": "code",
   "execution_count": null,
   "id": "f27a5c68-e2e2-4ffc-a7fe-9d23e36229e2",
   "metadata": {},
   "outputs": [],
   "source": [
    "id_dict[cle]"
   ]
  },
  {
   "cell_type": "markdown",
   "id": "302928d1-e741-461f-a144-d6f8ae222ffa",
   "metadata": {},
   "source": [
    "Si la valeur de la clé indiquée n'existe pas, cela provoque une erreur. Le programme suivant affiche les valeurs associées à certaines clés du dictionnaire créé précédemment."
   ]
  },
  {
   "cell_type": "code",
   "execution_count": 6,
   "id": "48aed588-3a2a-48ac-abbe-fae3614a1adc",
   "metadata": {},
   "outputs": [
    {
     "name": "stdout",
     "output_type": "stream",
     "text": [
      "Le numéro 04 correspond au département Alpes de Haute Provence.\n",
      "Le numéro 06 correspond au département Alpes maritimes.\n"
     ]
    },
    {
     "ename": "KeyError",
     "evalue": "1",
     "output_type": "error",
     "traceback": [
      "\u001b[1;31m---------------------------------------------------------------------------\u001b[0m",
      "\u001b[1;31mKeyError\u001b[0m                                  Traceback (most recent call last)",
      "Input \u001b[1;32mIn [6]\u001b[0m, in \u001b[0;36m<cell line: 3>\u001b[1;34m()\u001b[0m\n\u001b[0;32m      1\u001b[0m \u001b[38;5;28mprint\u001b[39m(\u001b[38;5;124mf\u001b[39m\u001b[38;5;124m\"\u001b[39m\u001b[38;5;124mLe numéro 04 correspond au département \u001b[39m\u001b[38;5;132;01m{\u001b[39;00mdpt[\u001b[38;5;124m'\u001b[39m\u001b[38;5;124m04\u001b[39m\u001b[38;5;124m'\u001b[39m]\u001b[38;5;132;01m}\u001b[39;00m\u001b[38;5;124m.\u001b[39m\u001b[38;5;124m\"\u001b[39m)\n\u001b[0;32m      2\u001b[0m \u001b[38;5;28mprint\u001b[39m(\u001b[38;5;124mf\u001b[39m\u001b[38;5;124m\"\u001b[39m\u001b[38;5;124mLe numéro 06 correspond au département \u001b[39m\u001b[38;5;132;01m{\u001b[39;00mdpt[\u001b[38;5;124m'\u001b[39m\u001b[38;5;124m06\u001b[39m\u001b[38;5;124m'\u001b[39m]\u001b[38;5;132;01m}\u001b[39;00m\u001b[38;5;124m.\u001b[39m\u001b[38;5;124m\"\u001b[39m)\n\u001b[1;32m----> 3\u001b[0m \u001b[38;5;28mprint\u001b[39m(\u001b[38;5;124mf\u001b[39m\u001b[38;5;124m\"\u001b[39m\u001b[38;5;124mLe numéro 01 correspond au département \u001b[39m\u001b[38;5;132;01m{\u001b[39;00mdpt[\u001b[38;5;241m1\u001b[39m]\u001b[38;5;132;01m}\u001b[39;00m\u001b[38;5;124m.\u001b[39m\u001b[38;5;124m\"\u001b[39m)\n",
      "\u001b[1;31mKeyError\u001b[0m: 1"
     ]
    }
   ],
   "source": [
    "print(f\"Le numéro 04 correspond au département {dpt['04']}.\")\n",
    "print(f\"Le numéro 06 correspond au département {dpt['06']}.\")\n",
    "print(f\"Le numéro 01 correspond au département {dpt[1]}.\")"
   ]
  },
  {
   "cell_type": "markdown",
   "id": "4d8d52a2-d014-4411-ac17-0b8739a8bc6d",
   "metadata": {},
   "source": [
    "## Opérations usuelles sur les dictionnaires"
   ]
  },
  {
   "cell_type": "markdown",
   "id": "ca1a3e7b-d209-4311-9c8b-71a02330c0d5",
   "metadata": {},
   "source": [
    "### Séquence des clés : la méthode **keys()**"
   ]
  },
  {
   "cell_type": "markdown",
   "id": "a196ba14-b366-4fd1-8e9c-5550a68ef9bc",
   "metadata": {},
   "source": [
    "### Séquence des valeurs : la méthode **values()**"
   ]
  },
  {
   "cell_type": "markdown",
   "id": "fc3bfab8-e5fb-4648-a3e4-2a6e7576f193",
   "metadata": {},
   "source": [
    "### Séquence des tuples (clé, valeur) : la méthode **items()**"
   ]
  },
  {
   "cell_type": "markdown",
   "id": "2c221840-a85c-4b08-a188-93bfa40fa1b9",
   "metadata": {},
   "source": [
    "### Valeur associée à une clé : les méthodes **get()** et **setdefault()**"
   ]
  },
  {
   "cell_type": "markdown",
   "id": "42740b05-b972-4dc5-9293-e0241f150ab4",
   "metadata": {},
   "source": [
    "### Modification d'une valeur associée à une clé : la méthode **update()**"
   ]
  },
  {
   "cell_type": "markdown",
   "id": "6c07d099-8b92-4877-95ea-a59f33c588f9",
   "metadata": {},
   "source": [
    "### Nombre d'éléments : la fonction **len()**"
   ]
  },
  {
   "cell_type": "markdown",
   "id": "6e560ba5-48f0-42e3-a2f5-4694fbbdb842",
   "metadata": {},
   "source": [
    "### Suppression d'un élément : la méthode **pop()**"
   ]
  },
  {
   "cell_type": "markdown",
   "id": "f0429663-3a45-43e4-8e43-63dd2668d3cb",
   "metadata": {},
   "source": [
    "### Opérateur **in** et test d'appartenance"
   ]
  },
  {
   "cell_type": "markdown",
   "id": "51e73ae0-b6c0-449f-9c15-f523addc5d73",
   "metadata": {},
   "source": [
    "### Réinitialisation : la méthode **clear()**"
   ]
  },
  {
   "cell_type": "markdown",
   "id": "d9911320-4e4a-4373-b0f5-f24e4dcbf63e",
   "metadata": {},
   "source": [
    "### Copie : la méthode **copy()**"
   ]
  },
  {
   "cell_type": "markdown",
   "id": "5657cf60-4235-405b-918b-b43cbb12d922",
   "metadata": {},
   "source": [
    "## Parcours complet d'un dictionnaire"
   ]
  },
  {
   "cell_type": "markdown",
   "id": "eb82a438-6cb7-4aaa-ae65-cb943d298b76",
   "metadata": {},
   "source": [
    "### Parcours sur la séquence des clés"
   ]
  },
  {
   "cell_type": "markdown",
   "id": "d25d6d3b-a05d-4a97-aa78-9f22eed97153",
   "metadata": {},
   "source": [
    "### Parcours sur la séquence des valeurs"
   ]
  },
  {
   "cell_type": "markdown",
   "id": "82c84712-9b42-4bbc-a92e-60f85e9ffd32",
   "metadata": {},
   "source": [
    "### Parcours sur la séquence des tuples (clé, valeur)"
   ]
  },
  {
   "cell_type": "markdown",
   "id": "ba37476e-f317-4368-8919-832a9d5038fa",
   "metadata": {},
   "source": [
    "## Compréhension de dictionnaire"
   ]
  }
 ],
 "metadata": {
  "kernelspec": {
   "display_name": "Python 3 (ipykernel)",
   "language": "python",
   "name": "python3"
  },
  "language_info": {
   "codemirror_mode": {
    "name": "ipython",
    "version": 3
   },
   "file_extension": ".py",
   "mimetype": "text/x-python",
   "name": "python",
   "nbconvert_exporter": "python",
   "pygments_lexer": "ipython3",
   "version": "3.9.12"
  }
 },
 "nbformat": 4,
 "nbformat_minor": 5
}
