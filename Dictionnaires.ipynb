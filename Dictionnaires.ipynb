{
 "cells": [
  {
   "cell_type": "markdown",
   "id": "42011e00-cf0a-436a-976e-64b391f1b327",
   "metadata": {},
   "source": [
    "# Les dictionnaires\n",
    "\n",
    "Dans ce chapitre, nous abordons un autre type de structures de données utilisé en Python : les **dictionnaires**.\n",
    "\n",
    "## Définition\n",
    "\n",
    "Un dictionnaire est un objet structuré permettant d'associer des **valeurs** à des **clés**. On peut comparer un dictionnaire à une liste dont les indices des éléments peuvent être autre chose que des nombres entiers : des chaînes, des réels, des tuples, etc. Les dictionnaires sont particulièrement adaptés à la représentation de données contenant des associations, comme par exemple&nbsp;:\n",
    "\n",
    "* un carnet d'adresses (associations entre des noms et des adresses électroniques ou postales)\n",
    "* un glossaire (associations entre des termes et leurs définitions).\n",
    "\n",
    "Dans d'autres langages comme PHP, les dictionnaires sont appelés des « tableaux associatifs ».\n",
    "\n",
    "## Caractéristiques d'un dictionnaire\n",
    "\n",
    "En Python, un dictionnaire est une **collection d'éléments muable**, ce qui signifie qu'on peut le modifier directement sans utiliser d'affectation. Chaque élément d'un dictionnaire est un couple `clé : valeur`, où la clé peut être &nbsp;:\n",
    "\n",
    "* un nombre entier\n",
    "* un nombre réel\n",
    "* une chaîne\n",
    "* un tuple contenant des entiers, des réels ou des chaînes\n",
    "\n",
    "et la valeur peut être&nbsp;:\n",
    "\n",
    "* un objet de type simple (entier, réel, chaîne, booléen)\n",
    "* un objet structuré (liste, tuple, dictionnaire, ensemble, etc).\n",
    "\n",
    "La duplication de clé n'est pas autorisée : à une clé ne peut correspondre qu'un seul couple `clé : valeur` et donc une seule valeur. À la différence d'une liste, un dictionnaire n'est pas une séquence. Par conséquent, ses éléments ne sont pas ordonnés. Il est donc impossible d'accéder à un élément d'un dictionnaire à l'aide de sa position (ce qui est logique, puisque la notion d'ordre et donc de position n'existe pas). Il est également impossible d'accéder à un sous-dictionnaire à l'aide de la technique de « slicing ».\n",
    "\n",
    "## Notation et création d'un dictionnaire\n",
    "\n",
    "La notation d'un dictionnaire s'effectue à l'aide des accolades&nbsp;:\n",
    "\n",
    "* `{` pour indiquer le début du dictionnaire\n",
    "* `}` pour indiquer la fin.\n",
    "\n",
    "À l'intérieur des accolades, les différents éléments sont séparés pas des virgules. Par exemple : `{'entrée':'crudités', 'plat':'lasagnes', 'dessert':'fruit'}`. Il existe un cas particulier de dictionnaire : le dictionnaire vide ne contenant aucun élément. Dans ce cas, la notation s'effectue avec uniquement les accolades : `{}`. \n",
    "Dans un programme, la création d'un dictionnaire peut se faire de deux façons&nbsp;:\n",
    "\n",
    "* soit par une simple affectation du dictionnaire complet dans une variable structurée, comme dans l'exemple ci-dessous. Le nom de la variable est l'identifiant du dictionnaire et permet de le référencer dans le programme. "
   ]
  },
  {
   "cell_type": "code",
   "execution_count": 1,
   "id": "d2165501-984a-4cf3-8a2b-d7c519caee72",
   "metadata": {},
   "outputs": [
    {
     "name": "stdout",
     "output_type": "stream",
     "text": [
      "{'entrée': 'crudités', 'plat': 'lasagnes', 'dessert': 'fruit'}\n"
     ]
    }
   ],
   "source": [
    "repas = {'entrée':'crudités', 'plat':'lasagnes', 'dessert':'fruit'}\n",
    "print(repas)"
   ]
  },
  {
   "cell_type": "markdown",
   "id": "a49f1cb6-de80-424a-9f10-526a32e30fa0",
   "metadata": {},
   "source": [
    "* soit en partant d'un dictionnaire vide, auquel on ajoute des éléments un par un. L'ajout d'un élément dans un dictionnaire s'effectue à l'aide d'une affectation de la forme&nbsp;:"
   ]
  },
  {
   "cell_type": "code",
   "execution_count": null,
   "id": "aadcae4f-0b68-4a1c-93dc-8f175a1a94b4",
   "metadata": {},
   "outputs": [],
   "source": [
    "id_dict[cle] = valeur"
   ]
  },
  {
   "cell_type": "markdown",
   "id": "93761792-d56b-40d8-9b19-3db4ee3faba8",
   "metadata": {},
   "source": [
    "où `id_dict` est l'identifiant du dictionnaire, `cle` est la clé de l'élément et `valeur` la valeur qu'on lui associe. Si la clé est déjà présente dans le dictionnaire, il n'y aura pas de création d'un nouvel élément (la duplication de clé est interdite) mais remplacement de la valeur associée à la clé.\n",
    "Le programme ci-dessous crée un dictionnaire associant à certains numéros de départements (sous forme de chaînes) les noms des départements correspondants (sous forme de chaînes également), puis modifie l'un des éléments."
   ]
  },
  {
   "cell_type": "code",
   "execution_count": 2,
   "id": "416894c6-376a-42c0-8ac6-91b2f813b909",
   "metadata": {},
   "outputs": [
    {
     "name": "stdout",
     "output_type": "stream",
     "text": [
      "{'01': 'Ain', '02': 'Aisne', '03': 'Allier', '04': 'Alpes de Haute Provence', '05': 'Hautes Alpes', '06': 'Alpes maritimes'}\n",
      "{'01': 'Ain', '02': 'Aisne', '03': 'Allier', '04': 'Alpes de Haute Provence', '05': ('Hautes Alpes', 'Briançon'), '06': 'Alpes maritimes'}\n"
     ]
    }
   ],
   "source": [
    "dpt = {}   # Au départ, le dictionnaire est vide\n",
    "dpt = {'01':'Ain', '02':'Aisne', '03':'Allier'}  # On crée les 3 premiers éléments en une seule affectation\n",
    "# Puis on ajoute un par un 3 autres éléments\n",
    "dpt['04'] = 'Alpes de Haute Provence'\n",
    "dpt['05'] = 'Hautes Alpes'\n",
    "dpt['06'] = 'Alpes maritimes'\n",
    "print(dpt)\n",
    "# On modifie la valeur associée à la clé '05' en ajoutant à la valeur le nom du chef-lieu du département correspondant\n",
    "dpt['05'] = ('Hautes Alpes', 'Briançon')\n",
    "print(dpt)"
   ]
  },
  {
   "cell_type": "markdown",
   "id": "e42bb166-da84-499f-8a54-3beeb02fd43b",
   "metadata": {},
   "source": [
    "[Exécution dans Python Tutor](https://pythontutor.com/render.html#code=dpt%20%3D%20%7B%7D%20%20%20%23%20Au%20d%C3%A9part,%20le%20dictionnaire%20est%20vide%0Adpt%20%3D%20%7B'01'%3A'Ain',%20'02'%3A'Aisne',%20'03'%3A'Allier'%7D%20%20%23%20On%20cr%C3%A9e%20les%203%20premiers%20%C3%A9l%C3%A9ments%20en%20une%20seule%20affectation%0A%23%20Puis%20on%20ajoute%20un%20par%20un%203%20autres%20%C3%A9l%C3%A9ments%0Adpt%5B'04'%5D%20%3D%20'Alpes%20de%20Haute%20Provence'%0Adpt%5B'05'%5D%20%3D%20'Hautes%20Alpes'%0Adpt%5B'06'%5D%20%3D%20'Alpes%20maritimes'%0Aprint%28dpt%29%0A%23%20On%20modifie%20la%20valeur%20associ%C3%A9e%20%C3%A0%20la%20cl%C3%A9%20'05'%20en%20ajoutant%20%C3%A0%20la%20valeur%20le%20nom%20du%20chef-lieu%20du%20d%C3%A9partement%20correspondant%0Adpt%5B'05'%5D%20%3D%20%28'Hautes%20Alpes',%20'Brian%C3%A7on'%29%0Aprint%28dpt%29&cumulative=false&curInstr=0&heapPrimitives=nevernest&mode=display&origin=opt-frontend.js&py=311&rawInputLstJSON=%5B%5D&textReferences=false)\n",
    "\n",
    "Notons que cet exemple permet d'illuster le fait qu'au sein d'un même dictionnaire, le type des valeurs (mais également celui des clés !) peut varier.\n",
    "\n",
    "## Accès aux valeurs d'un dictionnaire\n",
    "\n",
    "L'accès à une valeur d'un dictionnaire s'effectue à l'aide de sa clé, selon la syntaxe générale suivante&nbsp;:"
   ]
  },
  {
   "cell_type": "code",
   "execution_count": null,
   "id": "f27a5c68-e2e2-4ffc-a7fe-9d23e36229e2",
   "metadata": {},
   "outputs": [],
   "source": [
    "id_dict[cle]"
   ]
  },
  {
   "cell_type": "markdown",
   "id": "302928d1-e741-461f-a144-d6f8ae222ffa",
   "metadata": {},
   "source": [
    "Si la valeur de la clé indiquée n'existe pas, cela provoque une erreur. Le programme suivant affiche les valeurs associées à certaines clés du dictionnaire créé précédemment."
   ]
  },
  {
   "cell_type": "code",
   "execution_count": 1,
   "id": "48aed588-3a2a-48ac-abbe-fae3614a1adc",
   "metadata": {},
   "outputs": [
    {
     "name": "stdout",
     "output_type": "stream",
     "text": [
      "Le numéro 04 correspond au département Alpes de Haute Provence.\n",
      "Le numéro 06 correspond au département Alpes maritimes.\n"
     ]
    },
    {
     "ename": "KeyError",
     "evalue": "1",
     "output_type": "error",
     "traceback": [
      "\u001b[1;31m---------------------------------------------------------------------------\u001b[0m",
      "\u001b[1;31mKeyError\u001b[0m                                  Traceback (most recent call last)",
      "Input \u001b[1;32mIn [1]\u001b[0m, in \u001b[0;36m<cell line: 4>\u001b[1;34m()\u001b[0m\n\u001b[0;32m      2\u001b[0m \u001b[38;5;28mprint\u001b[39m(\u001b[38;5;124mf\u001b[39m\u001b[38;5;124m\"\u001b[39m\u001b[38;5;124mLe numéro 04 correspond au département \u001b[39m\u001b[38;5;132;01m{\u001b[39;00mdpt[\u001b[38;5;124m'\u001b[39m\u001b[38;5;124m04\u001b[39m\u001b[38;5;124m'\u001b[39m]\u001b[38;5;132;01m}\u001b[39;00m\u001b[38;5;124m.\u001b[39m\u001b[38;5;124m\"\u001b[39m)\n\u001b[0;32m      3\u001b[0m \u001b[38;5;28mprint\u001b[39m(\u001b[38;5;124mf\u001b[39m\u001b[38;5;124m\"\u001b[39m\u001b[38;5;124mLe numéro 06 correspond au département \u001b[39m\u001b[38;5;132;01m{\u001b[39;00mdpt[\u001b[38;5;124m'\u001b[39m\u001b[38;5;124m06\u001b[39m\u001b[38;5;124m'\u001b[39m]\u001b[38;5;132;01m}\u001b[39;00m\u001b[38;5;124m.\u001b[39m\u001b[38;5;124m\"\u001b[39m)\n\u001b[1;32m----> 4\u001b[0m \u001b[38;5;28mprint\u001b[39m(\u001b[38;5;124mf\u001b[39m\u001b[38;5;124m\"\u001b[39m\u001b[38;5;124mLe numéro 01 correspond au département \u001b[39m\u001b[38;5;132;01m{\u001b[39;00mdpt[\u001b[38;5;241m1\u001b[39m]\u001b[38;5;132;01m}\u001b[39;00m\u001b[38;5;124m.\u001b[39m\u001b[38;5;124m\"\u001b[39m)\n",
      "\u001b[1;31mKeyError\u001b[0m: 1"
     ]
    }
   ],
   "source": [
    "dpt = {'01':'Ain', '02':'Aisne', '03':'Allier', '04':'Alpes de Haute Provence', '05':('Hautes Alpes', 'Briançon'), '06' : 'Alpes maritimes'}\n",
    "print(f\"Le numéro 04 correspond au département {dpt['04']}.\")\n",
    "print(f\"Le numéro 06 correspond au département {dpt['06']}.\")\n",
    "print(f\"Le numéro 01 correspond au département {dpt[1]}.\")"
   ]
  },
  {
   "cell_type": "markdown",
   "id": "c3af4782-2218-4bd1-94ee-e2ca7aa3c18f",
   "metadata": {},
   "source": [
    "Notons que si un dictionnaire permet d'accéder à une valeur à partir de sa clé, l'inverse n'est pas vrai : il n'existe pas de mécanisme natif de Python permettant d'accéder à une clé à partir d'une valeur."
   ]
  },
  {
   "cell_type": "markdown",
   "id": "4d8d52a2-d014-4411-ac17-0b8739a8bc6d",
   "metadata": {},
   "source": [
    "## Opérations usuelles sur les dictionnaires"
   ]
  },
  {
   "cell_type": "markdown",
   "id": "ca1a3e7b-d209-4311-9c8b-71a02330c0d5",
   "metadata": {},
   "source": [
    "### Séquence des clés : la méthode **keys()**\n",
    "\n",
    "La méthode **keys()** retourne une séquence contenant toutes les clés d'un dictionnaire. Cette séquence peut être convertie en liste ou en tuple selon les besoins, à l'aide des fonctions **list()** et **tuple()**."
   ]
  },
  {
   "cell_type": "code",
   "execution_count": 2,
   "id": "300abf92-b0d9-45d2-b993-2891bedafa96",
   "metadata": {},
   "outputs": [
    {
     "name": "stdout",
     "output_type": "stream",
     "text": [
      "Séquence des clés : dict_keys(['01', '02', '03', '04', '05', '06'])\n",
      "Liste des clés : ['01', '02', '03', '04', '05', '06']\n",
      "Tuple des clés : ('01', '02', '03', '04', '05', '06')\n"
     ]
    }
   ],
   "source": [
    "dpt = {'01':'Ain', '02':'Aisne', '03':'Allier', '04':'Alpes de Haute Provence', '05':('Hautes Alpes', 'Briançon'), '06' : 'Alpes maritimes'}\n",
    "seq_cles = dpt.keys()\n",
    "seq_cles_liste = list(dpt.keys())\n",
    "seq_cles_tuple = tuple(dpt.keys())\n",
    "print(f\"Séquence des clés : {seq_cles}\")\n",
    "print(f\"Liste des clés : {seq_cles_liste}\")\n",
    "print(f\"Tuple des clés : {seq_cles_tuple}\")"
   ]
  },
  {
   "cell_type": "markdown",
   "id": "a196ba14-b366-4fd1-8e9c-5550a68ef9bc",
   "metadata": {},
   "source": [
    "### Séquence des valeurs : la méthode **values()**\n",
    "\n",
    "La méthode **values()** retourne une séquence contenant toutes les valeurs d'un dictionnaire. Tout comme la séquence de clés, cette séquence peut être convertie en liste ou en tuple selon les besoins."
   ]
  },
  {
   "cell_type": "code",
   "execution_count": 3,
   "id": "f2500e9e-bb47-4ea2-98a9-1354341d0ef7",
   "metadata": {},
   "outputs": [
    {
     "name": "stdout",
     "output_type": "stream",
     "text": [
      "Séquence des valeurs : dict_values(['Ain', 'Aisne', 'Allier', 'Alpes de Haute Provence', ('Hautes Alpes', 'Briançon'), 'Alpes maritimes'])\n",
      "Liste des valeurs : ['Ain', 'Aisne', 'Allier', 'Alpes de Haute Provence', ('Hautes Alpes', 'Briançon'), 'Alpes maritimes']\n",
      "Tuple des valeurs : ('Ain', 'Aisne', 'Allier', 'Alpes de Haute Provence', ('Hautes Alpes', 'Briançon'), 'Alpes maritimes')\n"
     ]
    }
   ],
   "source": [
    "dpt = {'01':'Ain', '02':'Aisne', '03':'Allier', '04':'Alpes de Haute Provence', '05':('Hautes Alpes', 'Briançon'), '06' : 'Alpes maritimes'}\n",
    "seq_val = dpt.values()\n",
    "seq_val_liste = list(dpt.values())\n",
    "seq_val_tuple = tuple(dpt.values())\n",
    "print(f\"Séquence des valeurs : {seq_val}\")\n",
    "print(f\"Liste des valeurs : {seq_val_liste}\")\n",
    "print(f\"Tuple des valeurs : {seq_val_tuple}\")"
   ]
  },
  {
   "cell_type": "markdown",
   "id": "fc3bfab8-e5fb-4648-a3e4-2a6e7576f193",
   "metadata": {},
   "source": [
    "### Séquence des tuples (clé, valeur) : la méthode **items()**\n",
    "\n",
    "La méthode **items()** retourne une séquence contenant tous les tuples (clé, valeur) présents dans un dictionnaire (autrement dit, tous les éléments d'un dictionnaire). Tout comme la séquence de clés, cette séquence peut être convertie en liste ou en tuple selon les besoins."
   ]
  },
  {
   "cell_type": "code",
   "execution_count": 4,
   "id": "e0ad7fbb-6a0f-4d47-a8cd-c3bf87841b47",
   "metadata": {},
   "outputs": [
    {
     "name": "stdout",
     "output_type": "stream",
     "text": [
      "Séquence des tuples (clé, valeur) : dict_items([('01', 'Ain'), ('02', 'Aisne'), ('03', 'Allier'), ('04', 'Alpes de Haute Provence'), ('05', ('Hautes Alpes', 'Briançon')), ('06', 'Alpes maritimes')])\n",
      "Liste des tuples (clé, valeur) : [('01', 'Ain'), ('02', 'Aisne'), ('03', 'Allier'), ('04', 'Alpes de Haute Provence'), ('05', ('Hautes Alpes', 'Briançon')), ('06', 'Alpes maritimes')]\n",
      "Tuple des tuples (clé, valeur) : (('01', 'Ain'), ('02', 'Aisne'), ('03', 'Allier'), ('04', 'Alpes de Haute Provence'), ('05', ('Hautes Alpes', 'Briançon')), ('06', 'Alpes maritimes'))\n"
     ]
    }
   ],
   "source": [
    "dpt = {'01':'Ain', '02':'Aisne', '03':'Allier', '04':'Alpes de Haute Provence', '05':('Hautes Alpes', 'Briançon'), '06' : 'Alpes maritimes'}\n",
    "seq_elem = dpt.items()\n",
    "seq_elem_liste = list(dpt.items())\n",
    "seq_elem_tuple = tuple(dpt.items())\n",
    "print(f\"Séquence des tuples (clé, valeur) : {seq_elem}\")\n",
    "print(f\"Liste des tuples (clé, valeur) : {seq_elem_liste}\")\n",
    "print(f\"Tuple des tuples (clé, valeur) : {seq_elem_tuple}\")"
   ]
  },
  {
   "cell_type": "markdown",
   "id": "2c221840-a85c-4b08-a188-93bfa40fa1b9",
   "metadata": {},
   "source": [
    "### Valeur associée à une clé : les méthodes **get()** et **setdefault()**\n",
    "\n",
    "La méthode **get()** prend en paramètre une clé et retourne en résultat la valeur associée à cette clé. Si la clé  n'est pas présente dans le dictionnaire, la méthode retourne la valeur `None` pour signifier que le résultat est indéfini."
   ]
  },
  {
   "cell_type": "code",
   "execution_count": 5,
   "id": "fe7d9313-13de-422e-9e84-3740eb2f0685",
   "metadata": {},
   "outputs": [
    {
     "name": "stdout",
     "output_type": "stream",
     "text": [
      "Valeur associée à la clé '03' : Allier\n",
      "Valeur associée à la clé '12' : None\n"
     ]
    }
   ],
   "source": [
    "dpt = {'01':'Ain', '02':'Aisne', '03':'Allier', '04':'Alpes de Haute Provence', '05':('Hautes Alpes', 'Briançon'), '06' : 'Alpes maritimes'}\n",
    "print(f\"Valeur associée à la clé '03' : {dpt.get('03')}\")\n",
    "print(f\"Valeur associée à la clé '12' : {dpt.get('12')}\")"
   ]
  },
  {
   "cell_type": "markdown",
   "id": "881b8320-c441-4ae8-bde7-1e75107d5728",
   "metadata": {},
   "source": [
    "La méthode **setdefault()** prend en paramètres une clé et une valeur. Si la clé existe dans le dictionnaire, elle retourne la valeur associée. Si la clé n'existe pas, elle ajoute dans le dictionnaire un nouvel élément dont la clé et la valeur sont celles passées en paramètres... et retourne la valeur passée en paramètre."
   ]
  },
  {
   "cell_type": "code",
   "execution_count": 6,
   "id": "5c9b3d4d-f53e-4990-a096-948e8a5cf4f3",
   "metadata": {},
   "outputs": [
    {
     "name": "stdout",
     "output_type": "stream",
     "text": [
      "Dictionnaire avant setdefault() : {'01': 'Ain', '02': 'Aisne', '03': 'Allier', '04': 'Alpes de Haute Provence', '05': ('Hautes Alpes', 'Briançon'), '06': 'Alpes maritimes'}\n",
      "Valeur retournée par setdefault() : Aveyron\n",
      "Dictionnaire après setdefault() : {'01': 'Ain', '02': 'Aisne', '03': 'Allier', '04': 'Alpes de Haute Provence', '05': ('Hautes Alpes', 'Briançon'), '06': 'Alpes maritimes', '12': 'Aveyron'}\n"
     ]
    }
   ],
   "source": [
    "dpt = {'01':'Ain', '02':'Aisne', '03':'Allier', '04':'Alpes de Haute Provence', '05':('Hautes Alpes', 'Briançon'), '06' : 'Alpes maritimes'}\n",
    "print(f\"Dictionnaire avant setdefault() : {dpt}\")\n",
    "val = dpt.setdefault('12', 'Aveyron')\n",
    "print(f\"Valeur retournée par setdefault() : {val}\")\n",
    "print(f\"Dictionnaire après setdefault() : {dpt}\")"
   ]
  },
  {
   "cell_type": "markdown",
   "id": "42740b05-b972-4dc5-9293-e0241f150ab4",
   "metadata": {},
   "source": [
    "### Insertion ou modification d'éléments : la méthode **update()**\n",
    "\n",
    "La méthode **update()** prend en paramètre un dictionnaire et ajoute tous les éléments de ce dictionnaire dans le dictionnaire sur lequel s'applique la méthode. Si une clé existe déjà, sa valeur associée est remplacée par celle figurant dans le dictionnaire passé en paramètre. La méthode ne retourne pas de valeur et peut être utilisée comme une instruction."
   ]
  },
  {
   "cell_type": "code",
   "execution_count": 7,
   "id": "20caecf8-84f2-440c-bd41-c081403e81a9",
   "metadata": {},
   "outputs": [
    {
     "name": "stdout",
     "output_type": "stream",
     "text": [
      "{'01': 'Ain', '02': 'Aisne', '03': 'Allier', '04': 'Alpes de Haute Provence', '05': ('Hautes Alpes', 'Briançon'), '06': 'Alpes maritimes', '15': 'Aube', '16': 'Var', '17': 'Vendée'}\n",
      "{'01': 'Ain', '02': 'Aisne', '03': 'Allier', '04': 'Alpes de Haute Provence', '05': ('Hautes Alpes', 'Briançon'), '06': 'Alpes maritimes', '15': 'Cantal', '16': 'Charente', '17': 'Charente-maritime'}\n"
     ]
    }
   ],
   "source": [
    "dpt = {'01':'Ain', '02':'Aisne', '03':'Allier', '04':'Alpes de Haute Provence', '05':('Hautes Alpes', 'Briançon'), '06' : 'Alpes maritimes'}\n",
    "dpt.update({'15':'Aube', '16' : 'Var', '17' : 'Vendée'})\n",
    "print(dpt)\n",
    "dpt.update({'15':'Cantal', '16' : 'Charente', '17' : 'Charente-maritime'})\n",
    "print(dpt)"
   ]
  },
  {
   "cell_type": "markdown",
   "id": "6c07d099-8b92-4877-95ea-a59f33c588f9",
   "metadata": {},
   "source": [
    "### Nombre d'éléments : la fonction **len()**\n",
    "\n",
    "La fonction **len()**, vue dans les chapitres précédents sur les chaînes et les listes, retourne également la longueur (c'est-à-dire le nombre d'éléments) d'un dictionnaire."
   ]
  },
  {
   "cell_type": "code",
   "execution_count": 10,
   "id": "aab09bdc-634a-4e61-838c-8bf9baa10056",
   "metadata": {},
   "outputs": [
    {
     "name": "stdout",
     "output_type": "stream",
     "text": [
      "Le dictionnaire contient 9 éléments.\n"
     ]
    }
   ],
   "source": [
    "dpt = {'01':'Ain', '02':'Aisne', '03':'Allier', '04':'Alpes de Haute Provence', '05':('Hautes Alpes', 'Briançon'), '06' : 'Alpes maritimes', '15':'Cantal', '16' : 'Charente', '17' : 'Charente-maritime'}\n",
    "print(f\"Le dictionnaire contient {len(dpt)} éléments.\")"
   ]
  },
  {
   "cell_type": "markdown",
   "id": "6e560ba5-48f0-42e3-a2f5-4694fbbdb842",
   "metadata": {},
   "source": [
    "### Suppression d'un élément : l'instruction **del** et la méthode **pop()**\n",
    "\n",
    "L'instruction **del** permet de supprimer un élément d'un dictionnaire à partir de sa clé. La syntaxe est la suivante&nbsp;:"
   ]
  },
  {
   "cell_type": "code",
   "execution_count": null,
   "id": "6176cad1-1a93-4222-be19-68ffe641e516",
   "metadata": {},
   "outputs": [],
   "source": [
    "del id_dict[cle]"
   ]
  },
  {
   "cell_type": "markdown",
   "id": "2298cdc7-dc37-4cb0-b494-029257f8aba9",
   "metadata": {},
   "source": [
    "où `id_dict` et `cle` sont respectivement l'identifiant du dictionnaire et la clé de l'élément à supprimer. Si la clé n'existe pas, une exception est levée et un message d'erreur s'affiche."
   ]
  },
  {
   "cell_type": "code",
   "execution_count": 11,
   "id": "c7a0eae5-06d8-4122-a0d3-b84e65ba7eb0",
   "metadata": {},
   "outputs": [
    {
     "name": "stdout",
     "output_type": "stream",
     "text": [
      "Dictionnaire avant suppression : {'01': 'Ain', '02': 'Aisne', '03': 'Allier', '04': 'Alpes de Haute Provence', '05': ('Hautes Alpes', 'Briançon'), '06': 'Alpes maritimes', '15': 'Cantal', '16': 'Charente', '17': 'Charente-maritime'}.\n",
      "Dictionnaire après suppression : {'01': 'Ain', '02': 'Aisne', '03': 'Allier', '04': 'Alpes de Haute Provence', '05': ('Hautes Alpes', 'Briançon'), '06': 'Alpes maritimes', '15': 'Cantal', '16': 'Charente'}.\n"
     ]
    },
    {
     "ename": "KeyError",
     "evalue": "'32'",
     "output_type": "error",
     "traceback": [
      "\u001b[1;31m---------------------------------------------------------------------------\u001b[0m",
      "\u001b[1;31mKeyError\u001b[0m                                  Traceback (most recent call last)",
      "Input \u001b[1;32mIn [11]\u001b[0m, in \u001b[0;36m<cell line: 5>\u001b[1;34m()\u001b[0m\n\u001b[0;32m      3\u001b[0m \u001b[38;5;28;01mdel\u001b[39;00m dpt[\u001b[38;5;124m'\u001b[39m\u001b[38;5;124m17\u001b[39m\u001b[38;5;124m'\u001b[39m]\n\u001b[0;32m      4\u001b[0m \u001b[38;5;28mprint\u001b[39m(\u001b[38;5;124mf\u001b[39m\u001b[38;5;124m\"\u001b[39m\u001b[38;5;124mDictionnaire après suppression : \u001b[39m\u001b[38;5;132;01m{\u001b[39;00mdpt\u001b[38;5;132;01m}\u001b[39;00m\u001b[38;5;124m.\u001b[39m\u001b[38;5;124m\"\u001b[39m)\n\u001b[1;32m----> 5\u001b[0m \u001b[38;5;28;01mdel\u001b[39;00m dpt[\u001b[38;5;124m'\u001b[39m\u001b[38;5;124m32\u001b[39m\u001b[38;5;124m'\u001b[39m]\n",
      "\u001b[1;31mKeyError\u001b[0m: '32'"
     ]
    }
   ],
   "source": [
    "dpt = {'01':'Ain', '02':'Aisne', '03':'Allier', '04':'Alpes de Haute Provence', '05':('Hautes Alpes', 'Briançon'), '06' : 'Alpes maritimes', '15':'Cantal', '16' : 'Charente', '17' : 'Charente-maritime'}\n",
    "print(f\"Dictionnaire avant suppression : {dpt}.\")\n",
    "del dpt['17']\n",
    "print(f\"Dictionnaire après suppression : {dpt}.\")\n",
    "del dpt['32']"
   ]
  },
  {
   "cell_type": "markdown",
   "id": "2c093dfd-b4be-4db9-a6c2-4191dc1afafc",
   "metadata": {},
   "source": [
    "La méthode **pop()** s'applique à un dictionnaire et prend en paramètre la clé de l'élément à supprimer. Si la clé existe, elle supprime l'élément correspondant dans le dictionnaire et retourne la valeur associée à l'élément supprimé. Si la clé n'existe pas ou qu'aucun paramètre n'est fourni, une exception est levée et un message d'erreur s'affiche."
   ]
  },
  {
   "cell_type": "code",
   "execution_count": 12,
   "id": "bc48a74d-56c7-4ba8-92b9-3409c7551d3a",
   "metadata": {},
   "outputs": [
    {
     "name": "stdout",
     "output_type": "stream",
     "text": [
      "Dictionnaire avant suppression : {'01': 'Ain', '02': 'Aisne', '03': 'Allier', '04': 'Alpes de Haute Provence', '05': ('Hautes Alpes', 'Briançon'), '06': 'Alpes maritimes', '15': 'Cantal', '16': 'Charente', '17': 'Charente-maritime'}.\n",
      "Dictionnaire après suppression : {'01': 'Ain', '02': 'Aisne', '03': 'Allier', '04': 'Alpes de Haute Provence', '06': 'Alpes maritimes', '15': 'Cantal', '16': 'Charente', '17': 'Charente-maritime'}.\n",
      "Valeur de l'élément supprimé : ('Hautes Alpes', 'Briançon')\n"
     ]
    },
    {
     "ename": "KeyError",
     "evalue": "'25'",
     "output_type": "error",
     "traceback": [
      "\u001b[1;31m---------------------------------------------------------------------------\u001b[0m",
      "\u001b[1;31mKeyError\u001b[0m                                  Traceback (most recent call last)",
      "Input \u001b[1;32mIn [12]\u001b[0m, in \u001b[0;36m<cell line: 6>\u001b[1;34m()\u001b[0m\n\u001b[0;32m      4\u001b[0m \u001b[38;5;28mprint\u001b[39m(\u001b[38;5;124mf\u001b[39m\u001b[38;5;124m\"\u001b[39m\u001b[38;5;124mDictionnaire après suppression : \u001b[39m\u001b[38;5;132;01m{\u001b[39;00mdpt\u001b[38;5;132;01m}\u001b[39;00m\u001b[38;5;124m.\u001b[39m\u001b[38;5;124m\"\u001b[39m)\n\u001b[0;32m      5\u001b[0m \u001b[38;5;28mprint\u001b[39m(\u001b[38;5;124mf\u001b[39m\u001b[38;5;124m\"\u001b[39m\u001b[38;5;124mValeur de l\u001b[39m\u001b[38;5;124m'\u001b[39m\u001b[38;5;124mélément supprimé : \u001b[39m\u001b[38;5;132;01m{\u001b[39;00mval05\u001b[38;5;132;01m}\u001b[39;00m\u001b[38;5;124m\"\u001b[39m)\n\u001b[1;32m----> 6\u001b[0m valinconnu \u001b[38;5;241m=\u001b[39m \u001b[43mdpt\u001b[49m\u001b[38;5;241;43m.\u001b[39;49m\u001b[43mpop\u001b[49m\u001b[43m(\u001b[49m\u001b[38;5;124;43m'\u001b[39;49m\u001b[38;5;124;43m25\u001b[39;49m\u001b[38;5;124;43m'\u001b[39;49m\u001b[43m)\u001b[49m\n\u001b[0;32m      7\u001b[0m \u001b[38;5;28mprint\u001b[39m(\u001b[38;5;124mf\u001b[39m\u001b[38;5;124m\"\u001b[39m\u001b[38;5;124mDictionnaire après suppression : \u001b[39m\u001b[38;5;132;01m{\u001b[39;00mdpt\u001b[38;5;132;01m}\u001b[39;00m\u001b[38;5;124m.\u001b[39m\u001b[38;5;124m\"\u001b[39m)\n\u001b[0;32m      8\u001b[0m \u001b[38;5;28mprint\u001b[39m(\u001b[38;5;124mf\u001b[39m\u001b[38;5;124m\"\u001b[39m\u001b[38;5;124mValeur de l\u001b[39m\u001b[38;5;124m'\u001b[39m\u001b[38;5;124mélément supprimé : \u001b[39m\u001b[38;5;132;01m{\u001b[39;00mvalinconnu\u001b[38;5;132;01m}\u001b[39;00m\u001b[38;5;124m\"\u001b[39m)\n",
      "\u001b[1;31mKeyError\u001b[0m: '25'"
     ]
    }
   ],
   "source": [
    "dpt = {'01':'Ain', '02':'Aisne', '03':'Allier', '04':'Alpes de Haute Provence', '05':('Hautes Alpes', 'Briançon'), '06' : 'Alpes maritimes', '15':'Cantal', '16' : 'Charente', '17' : 'Charente-maritime'}\n",
    "print(f\"Dictionnaire avant suppression : {dpt}.\")\n",
    "val05 = dpt.pop('05')\n",
    "print(f\"Dictionnaire après suppression : {dpt}.\")\n",
    "print(f\"Valeur de l'élément supprimé : {val05}\")\n",
    "valinconnu = dpt.pop('25')\n",
    "print(f\"Dictionnaire après suppression : {dpt}.\")\n",
    "print(f\"Valeur de l'élément supprimé : {valinconnu}\")"
   ]
  },
  {
   "cell_type": "markdown",
   "id": "f0429663-3a45-43e4-8e43-63dd2668d3cb",
   "metadata": {},
   "source": [
    "### Opérateur d'appartenance à un dictionnaire\n",
    "\n",
    "L'opérateur **in** permet de tester si une clé est présente ou non dans un dictionnaire. Sa syntaxe est la suivante&nbsp;:"
   ]
  },
  {
   "cell_type": "code",
   "execution_count": null,
   "id": "5c600f52-a755-4e83-ba61-26b5f6e512f4",
   "metadata": {},
   "outputs": [],
   "source": [
    "cle in id_dict"
   ]
  },
  {
   "cell_type": "markdown",
   "id": "5c3a1c63-4f3e-400c-bae7-63d9f31861db",
   "metadata": {},
   "source": [
    "où `cle` est la clé à tester et `id_dict` l'identifiant du dictionnaire. L'opérateur retourne `True` si la clé est présente et `False` sinon."
   ]
  },
  {
   "cell_type": "code",
   "execution_count": 13,
   "id": "1030a738-4d76-4ede-8960-482776b96658",
   "metadata": {},
   "outputs": [
    {
     "name": "stdout",
     "output_type": "stream",
     "text": [
      "Le département n°16 est-il dans le dictionnaire ? Réponse : True\n",
      "Le département n°85 est-il dans le dictionnaire ? Réponse : False\n"
     ]
    }
   ],
   "source": [
    "dpt = {'01':'Ain', '02':'Aisne', '03':'Allier', '04':'Alpes de Haute Provence', '05':('Hautes Alpes', 'Briançon'), '06' : 'Alpes maritimes', '15':'Cantal', '16' : 'Charente', '17' : 'Charente-maritime'}\n",
    "print(f\"Le département n°16 est-il dans le dictionnaire ? Réponse : {'16' in dpt}\")\n",
    "print(f\"Le département n°85 est-il dans le dictionnaire ? Réponse : {'85' in dpt}\")"
   ]
  },
  {
   "cell_type": "markdown",
   "id": "51e73ae0-b6c0-449f-9c15-f523addc5d73",
   "metadata": {},
   "source": [
    "### Copie : la méthode **copy()**\n",
    "\n",
    "La méthode **copy()** permet d'effectuer une copie d'un dictionnaire. Cette copie est retournée en résultat."
   ]
  },
  {
   "cell_type": "code",
   "execution_count": 14,
   "id": "9dd1c4ba-d285-48f9-ba6e-2e9658597204",
   "metadata": {},
   "outputs": [
    {
     "name": "stdout",
     "output_type": "stream",
     "text": [
      "Affichage du dictionnaire : {'01': 'Ain', '02': 'Aisne', '03': 'Allier', '04': 'Alpes de Haute Provence', '05': ('Hautes Alpes', 'Briançon'), '06': 'Alpes maritimes', '15': 'Cantal', '16': 'Charente', '17': 'Charente-maritime'}\n",
      "Affichage de la copie du dictionnaire : {'01': 'Ain', '02': 'Aisne', '03': 'Allier', '04': 'Alpes de Haute Provence', '05': ('Hautes Alpes', 'Briançon'), '06': 'Alpes maritimes', '15': 'Cantal', '16': 'Charente', '17': 'Charente-maritime'}\n"
     ]
    }
   ],
   "source": [
    "dpt = {'01':'Ain', '02':'Aisne', '03':'Allier', '04':'Alpes de Haute Provence', '05':('Hautes Alpes', 'Briançon'), '06' : 'Alpes maritimes', '15':'Cantal', '16' : 'Charente', '17' : 'Charente-maritime'}\n",
    "print(f\"Affichage du dictionnaire : {dpt}\")\n",
    "copie_dpt = dpt.copy()\n",
    "print(f\"Affichage de la copie du dictionnaire : {copie_dpt}\")"
   ]
  },
  {
   "cell_type": "markdown",
   "id": "d9911320-4e4a-4373-b0f5-f24e4dcbf63e",
   "metadata": {},
   "source": [
    "[Exécution dans Python Tutor](https://pythontutor.com/render.html#code=dpt%20%3D%20%7B'01'%3A'Ain',%20'02'%3A'Aisne',%20'03'%3A'Allier',%20'04'%3A'Alpes%20de%20Haute%20Provence',%20'05'%3A%28'Hautes%20Alpes',%20'Brian%C3%A7on'%29,%20'06'%20%3A%20'Alpes%20maritimes',%20'15'%3A'Cantal',%20'16'%20%3A%20'Charente',%20'17'%20%3A%20'Charente-maritime'%7D%0Aprint%28f%22Affichage%20du%20dictionnaire%20%3A%20%7Bdpt%7D%22%29%0Acopie_dpt%20%3D%20dpt.copy%28%29%0Aprint%28f%22Affichage%20de%20la%20copie%20du%20dictionnaire%20%3A%20%7Bcopie_dpt%7D%22%29&cumulative=false&curInstr=0&heapPrimitives=nevernest&mode=display&origin=opt-frontend.js&py=311&rawInputLstJSON=%5B%5D&textReferences=false)\n",
    "\n",
    "### Réinitialisation : la méthode **clear()**\n",
    "\n",
    "La méthode **clear()** permet de réinitialiser un dictionnaire, c'est-à-dire de supprimer tous les éléments qu'il contient. Elle ne retourne aucune valeur et peut être utilisée comme une instruction."
   ]
  },
  {
   "cell_type": "code",
   "execution_count": 15,
   "id": "6eb5a31b-35d1-4b04-85dd-35fede08752e",
   "metadata": {},
   "outputs": [
    {
     "name": "stdout",
     "output_type": "stream",
     "text": [
      "Affichage avant suppression : {'01': 'Ain', '02': 'Aisne', '03': 'Allier', '04': 'Alpes de Haute Provence', '05': ('Hautes Alpes', 'Briançon'), '06': 'Alpes maritimes', '15': 'Cantal', '16': 'Charente', '17': 'Charente-maritime'}\n",
      "Affichage après suppression : {}\n"
     ]
    }
   ],
   "source": [
    "dpt = {'01':'Ain', '02':'Aisne', '03':'Allier', '04':'Alpes de Haute Provence', '05':('Hautes Alpes', 'Briançon'), '06' : 'Alpes maritimes', '15':'Cantal', '16' : 'Charente', '17' : 'Charente-maritime'}\n",
    "print(f\"Affichage avant suppression : {dpt}\")\n",
    "dpt.clear()\n",
    "print(f\"Affichage après suppression : {dpt}\")"
   ]
  },
  {
   "cell_type": "markdown",
   "id": "5657cf60-4235-405b-918b-b43cbb12d922",
   "metadata": {},
   "source": [
    "## Parcours complet d'un dictionnaire\n",
    "\n",
    "Un dictionnaire est une collection d'objets, et est de ce fait un objet « itérable ». Cela signifie qu'on peut parcourir un à un ses éléments à l'aide d'une boucle `for` pour leur appliquer un traitement. Il existe trois manières d'effectuer un parcours complet d'un dictionnaire&nbsp;:\n",
    "\n",
    "* sur la séquence des clés\n",
    "* sur la séquence des valeurs\n",
    "* sur la séquences des couples clé, valeur.\n",
    "\n",
    "L'ordre dans lequel seront traités les éléments est imprévisible et peut être différent d'un parcours à l'autre."
   ]
  },
  {
   "cell_type": "markdown",
   "id": "eb82a438-6cb7-4aaa-ae65-cb943d298b76",
   "metadata": {},
   "source": [
    "### Parcours sur la séquence des clés\n",
    "\n",
    "Il existe deux syntaxes générales possibles pour la boucle `for` de parcours sur la séquence des clés &nbsp;:"
   ]
  },
  {
   "cell_type": "code",
   "execution_count": null,
   "id": "df9d3e77-bfa5-4da9-b82d-b474d55f9111",
   "metadata": {},
   "outputs": [],
   "source": [
    "for cle in id_dict:\n",
    "    bloc_instructions"
   ]
  },
  {
   "cell_type": "markdown",
   "id": "97d18717-a913-4cf1-96ca-aa1ddc1b6989",
   "metadata": {},
   "source": [
    "et"
   ]
  },
  {
   "cell_type": "code",
   "execution_count": null,
   "id": "543d3703-3056-4683-b48c-0b3a864a5f59",
   "metadata": {},
   "outputs": [],
   "source": [
    "for cle in id_dict.keys():\n",
    "    bloc_instructions"
   ]
  },
  {
   "cell_type": "markdown",
   "id": "ebe0852e-1662-4e3d-8adb-de8bbaa42c6b",
   "metadata": {},
   "source": [
    "Quelle que soit la syntaxe utilisée, le fonctionnement des deux boucles est le même : la variable `cle` va prendre successivement pour valeur toutes les clés présentes dans le dictionnaire. Pour chaque valeur de `cle`, une exécution de `bloc_instructions` est réalisée. Le programme suivant effectue deux parcours complets d'un dictionnaire sur la séquence des clés, en affichant pour chaque élément sa clé et sa valeur."
   ]
  },
  {
   "cell_type": "code",
   "execution_count": 16,
   "id": "6488a50b-92ed-4508-acfd-a33c6591b03d",
   "metadata": {},
   "outputs": [
    {
     "name": "stdout",
     "output_type": "stream",
     "text": [
      "Premier parcours\n",
      "Le département n°01 est : Ain\n",
      "Le département n°02 est : Aisne\n",
      "Le département n°03 est : Allier\n",
      "Le département n°04 est : Alpes de Haute Provence\n",
      "Le département n°05 est : ('Hautes Alpes', 'Briançon')\n",
      "Le département n°06 est : Alpes maritimes\n",
      "Le département n°15 est : Cantal\n",
      "Le département n°16 est : Charente\n",
      "Le département n°17 est : Charente-maritime\n",
      "Second parcours\n",
      "Le département n°01 est : Ain\n",
      "Le département n°02 est : Aisne\n",
      "Le département n°03 est : Allier\n",
      "Le département n°04 est : Alpes de Haute Provence\n",
      "Le département n°05 est : ('Hautes Alpes', 'Briançon')\n",
      "Le département n°06 est : Alpes maritimes\n",
      "Le département n°15 est : Cantal\n",
      "Le département n°16 est : Charente\n",
      "Le département n°17 est : Charente-maritime\n"
     ]
    }
   ],
   "source": [
    "dpt = {'01':'Ain', '02':'Aisne', '03':'Allier', '04':'Alpes de Haute Provence', '05':('Hautes Alpes', 'Briançon'), '06' : 'Alpes maritimes', '15':'Cantal', '16' : 'Charente', '17' : 'Charente-maritime'}\n",
    "print(\"Premier parcours\")\n",
    "for num in dpt:\n",
    "    print(f\"Le département n°{num} est : {dpt[num]}\")\n",
    "print(\"Second parcours\")\n",
    "for num in dpt.keys():\n",
    "    print(f\"Le département n°{num} est : {dpt.get(num)}\")"
   ]
  },
  {
   "cell_type": "markdown",
   "id": "d25d6d3b-a05d-4a97-aa78-9f22eed97153",
   "metadata": {},
   "source": [
    "Notons que ce type de parcours permet d'effectuer des traitements utilisant à la fois les clés et les valeurs des éléments.\n",
    "\n",
    "### Parcours sur la séquence des valeurs\n",
    "\n",
    "La syntaxe de la boucle `for` de parcours sur la séquence des valeurs est la suivante&nbsp;:"
   ]
  },
  {
   "cell_type": "code",
   "execution_count": null,
   "id": "a9281ec4-dc82-4dbb-8a7b-a583e646e555",
   "metadata": {},
   "outputs": [],
   "source": [
    "for val in id_dict.values():\n",
    "    bloc_instructions"
   ]
  },
  {
   "cell_type": "markdown",
   "id": "81c6e6d9-f1f5-4dca-9d40-4bb768d084d8",
   "metadata": {},
   "source": [
    "La variable `val` va prendre successivement pour valeur toutes les valeurs des éléments du dictionnaire. Pour chaque valeur de `val`, une exécution de `bloc_instructions` est réalisée. Le programme suivant effectue un parcours complet d'un dictionnaire sur la séquence des valeurs, en affichant chaque valeur."
   ]
  },
  {
   "cell_type": "code",
   "execution_count": 17,
   "id": "6762af71-76e8-440c-82e1-3b1d62d39122",
   "metadata": {},
   "outputs": [
    {
     "name": "stdout",
     "output_type": "stream",
     "text": [
      "Le département est : Ain\n",
      "Le département est : Aisne\n",
      "Le département est : Allier\n",
      "Le département est : Alpes de Haute Provence\n",
      "Le département est : ('Hautes Alpes', 'Briançon')\n",
      "Le département est : Alpes maritimes\n",
      "Le département est : Cantal\n",
      "Le département est : Charente\n",
      "Le département est : Charente-maritime\n"
     ]
    }
   ],
   "source": [
    "dpt = {'01':'Ain', '02':'Aisne', '03':'Allier', '04':'Alpes de Haute Provence', '05':('Hautes Alpes', 'Briançon'), '06' : 'Alpes maritimes', '15':'Cantal', '16' : 'Charente', '17' : 'Charente-maritime'}\n",
    "for nom_dpt in dpt.values():\n",
    "    print(f\"Le département est : {nom_dpt}\")"
   ]
  },
  {
   "cell_type": "markdown",
   "id": "374d9467-840c-45b4-bfc1-2bb31f65f38d",
   "metadata": {},
   "source": [
    "Notons que ce type de parcours permet d'effectuer des traitements nécessitant d'accéder uniquement aux valeurs des éléments et pas aux clés."
   ]
  },
  {
   "cell_type": "markdown",
   "id": "82c84712-9b42-4bbc-a92e-60f85e9ffd32",
   "metadata": {},
   "source": [
    "### Parcours sur la séquence des couples clé, valeur\n",
    "\n",
    "La syntaxe de la boucle `for` de parcours sur la séquence des couples clé, valeur est la suivante&nbsp;:"
   ]
  },
  {
   "cell_type": "code",
   "execution_count": null,
   "id": "6f84d9a2-cd19-4bf7-9261-125fa790ae25",
   "metadata": {},
   "outputs": [],
   "source": [
    "for cle, val in dpt.items():\n",
    "    bloc_instructions"
   ]
  },
  {
   "cell_type": "markdown",
   "id": "eebc9e75-aa8c-4e36-bc1c-e955280a7a0d",
   "metadata": {},
   "source": [
    "Les variables `cle` et `val` vont prendre successivement pour valeurs tous les couples clé, valeur. Puis pour chaque couple `cle`, `val`, une exécution de `bloc_instructions` est réalisée. Le programme suivant effectue un parcours complet d'un dictionnaire sur la séquence des couples clé, valeur."
   ]
  },
  {
   "cell_type": "code",
   "execution_count": 18,
   "id": "20b8b824-6de5-49e9-8c80-8badd6068dc5",
   "metadata": {},
   "outputs": [
    {
     "name": "stdout",
     "output_type": "stream",
     "text": [
      "Le département n°01 est : Ain\n",
      "Le département n°02 est : Aisne\n",
      "Le département n°03 est : Allier\n",
      "Le département n°04 est : Alpes de Haute Provence\n",
      "Le département n°05 est : ('Hautes Alpes', 'Briançon')\n",
      "Le département n°06 est : Alpes maritimes\n",
      "Le département n°15 est : Cantal\n",
      "Le département n°16 est : Charente\n",
      "Le département n°17 est : Charente-maritime\n"
     ]
    }
   ],
   "source": [
    "dpt = {'01':'Ain', '02':'Aisne', '03':'Allier', '04':'Alpes de Haute Provence', '05':('Hautes Alpes', 'Briançon'), '06' : 'Alpes maritimes', '15':'Cantal', '16' : 'Charente', '17' : 'Charente-maritime'}\n",
    "for num, nom in dpt.items():\n",
    "    print(f\"Le département n°{num} est : {nom}\")"
   ]
  },
  {
   "cell_type": "markdown",
   "id": "719fa8e4-7cfc-47d3-b659-c0b5784d21bf",
   "metadata": {},
   "source": [
    "Notons que ce type de parcours permet d'effectuer des traitements utilisant à la fois les clés et les valeurs des éléments."
   ]
  },
  {
   "cell_type": "markdown",
   "id": "ba37476e-f317-4368-8919-832a9d5038fa",
   "metadata": {},
   "source": [
    "## Compréhension de dictionnaire\n",
    "\n",
    "Comme pour les listes, le mécanisme de compréhension existe pour la création de dictionnaire. Les deux syntaxes (avec et sans conditionnelle) sont les suivantes&nbsp;:"
   ]
  },
  {
   "cell_type": "code",
   "execution_count": null,
   "id": "c076e2aa-158a-4c43-bc8b-3a25c305f300",
   "metadata": {},
   "outputs": [],
   "source": [
    "{cle:val for elem in seq}\n",
    "{cle:val for elem in seq if exp_cond}"
   ]
  },
  {
   "cell_type": "markdown",
   "id": "ef0f4a0e-3733-4ea0-9ac3-aae08868a569",
   "metadata": {},
   "source": [
    "où&nbsp;:\n",
    "\n",
    "* `cle:val` est une expression qui va permettre de générer tous les éléments du dictionnaire\n",
    "* `elem` est une variable\n",
    "* `seq` est une séquence de valeurs (liste, résultat d'une fonction range(), etc)\n",
    "* `exp_cond` est une expression conditionnelle que doivent vérifier tous les éléments du dictionnaire.\n",
    "\n",
    "Le résultat est un dictionnaire contenant un élément `cle:val`, pour chaque exécution de la boucle `for`. En cas de compréhension avec conditionnelle, seuls les éléments `cle:val` vérifiant `exp_cond` seront insérés dans le dictionnaire.\n",
    "Le premier programme ci-dessous crée un dictionnaire qui associe à plusieurs objets contenus dans une liste (les clés) leurs types respectifs (les valeurs)."
   ]
  },
  {
   "cell_type": "code",
   "execution_count": 19,
   "id": "55f43dd0-fa8d-4575-bc65-ad3cf2b6d485",
   "metadata": {},
   "outputs": [
    {
     "name": "stdout",
     "output_type": "stream",
     "text": [
      "{5: <class 'int'>, 3.9: <class 'float'>, 'Bienvenue': <class 'str'>, 12: <class 'int'>, 'Lundi': <class 'str'>, (1, 3): <class 'tuple'>, False: <class 'bool'>}\n"
     ]
    }
   ],
   "source": [
    "vrac = [5, 3.9, 'Bienvenue', 12, 'Lundi', (1, 3), False]\n",
    "dico_type = {elem:type(elem) for elem in vrac}\n",
    "print(dico_type)"
   ]
  },
  {
   "cell_type": "markdown",
   "id": "279d6407-39bd-4f53-a2c5-304f1c019388",
   "metadata": {},
   "source": [
    "Le second programme crée un dictionnaire ayant la même structure que le précédent, mais contenant uniquement les objets numériques (entiers ou réels)."
   ]
  },
  {
   "cell_type": "code",
   "execution_count": 21,
   "id": "0e6a0455-3555-4c68-936e-b0cdc5d52bb5",
   "metadata": {},
   "outputs": [
    {
     "name": "stdout",
     "output_type": "stream",
     "text": [
      "{5: <class 'int'>, 3.9: <class 'float'>, 12: <class 'int'>}\n"
     ]
    }
   ],
   "source": [
    "vrac = [5, 3.9, 'Bienvenue', 12, 'Lundi', (1, 3), False]\n",
    "dico_num = {elem:type(elem) for elem in vrac if type(elem)==int or type(elem)==float}\n",
    "print(dico_num)"
   ]
  }
 ],
 "metadata": {
  "kernelspec": {
   "display_name": "Python 3 (ipykernel)",
   "language": "python",
   "name": "python3"
  },
  "language_info": {
   "codemirror_mode": {
    "name": "ipython",
    "version": 3
   },
   "file_extension": ".py",
   "mimetype": "text/x-python",
   "name": "python",
   "nbconvert_exporter": "python",
   "pygments_lexer": "ipython3",
   "version": "3.9.12"
  },
  "toc-autonumbering": true
 },
 "nbformat": 4,
 "nbformat_minor": 5
}
