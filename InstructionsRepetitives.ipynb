{
 "cells": [
  {
   "cell_type": "markdown",
   "id": "0b27d5b6-6ca6-485e-b9d4-b53b0fdc59f9",
   "metadata": {
    "tags": []
   },
   "source": [
    "# Les instructions répétitives\n",
    "\n",
    "Dans un programme, on doit pouvoir répéter plusieurs fois (voire indéfiniment !) les mêmes traitements. Une **instruction répétitive** ou **boucle** permet de répéter un certain nombre de fois le même bloc d'instructions. Il existe deux instructions répétitives en Python :  la boucle **while** et la boucle **for in**.\n",
    "\n",
    "## La boucle **while**\n",
    "\n",
    "La boucle `while` (cf. figure ci-dessous) permet de répéter l'exécution d'un bloc d'instructions tant qu'une condition est vérifiée. En revanche, dès que la condition devient fausse, l'exécution du bloc d'instructions cesse et le programme se poursuit normalement en séquence.\n",
    "\n",
    "![La boucle while](ImagesNotebook/BoucleWhile.PNG)\n",
    "\n",
    "Sa syntaxe en Python est la suivante&nbsp;:"
   ]
  },
  {
   "cell_type": "code",
   "execution_count": null,
   "id": "082de50e-f489-4038-9f21-8afac6fa2fb3",
   "metadata": {},
   "outputs": [],
   "source": [
    "while exp_cond:\n",
    "    bloc_instructions"
   ]
  },
  {
   "cell_type": "markdown",
   "id": "02488057-99ce-4baf-921e-bc5dc6a7b42a",
   "metadata": {},
   "source": [
    "Il s'agit d'une **instruction composée** comportant&nbsp;:\n",
    "\n",
    "* une ligne d'en-tête terminée par le caractère `:` \n",
    "    * `while exp_cond :`\n",
    "* un bloc d'instruction\n",
    "    * `bloc_instructions`\n",
    "    \n",
    "Le bloc doit obligatoirement être indenté par rapport à la ligne d'en-tête. Cette indentation s'effectue de préférence avec quatre espaces consécutifs, ou bien avec un caractère de tabulation. Elle est souvent effectuée automatiquement par les éditeurs de code Python.\n",
    "\n",
    "Littéralement, le fonctionnement d'une boucle `while` peut s'énoncer à l'aide de la phrase : « Tant que la condition est vraie, exécuter le bloc d'instructions ». Plus concrètement, voici ce qui se passe lors de l'exécution d'une boucle `while`&nbsp;:\n",
    "\n",
    "* la valeur de la condition `exp_cond` est évaluée\n",
    "* si la condition est fausse, l'exécution du programme reprend en séquence après la boucle (`bloc_instructions` n'est pas exécuté)\n",
    "* si la condition est vraie, `bloc_instructions` est exécuté, puis l'exécution du programme reprend sur la ligne d'en-tête où la valeur de la condition sera évaluée à nouveau, et ainsi de suite.\n",
    "\n",
    "Généralement, le nombre d'exécutions du bloc qui seront réalisées ne peut être connu à l'avance, mais dépend de la condition.\n",
    "Le programme ci-dessous implémente un compte à rebours très basique en utilisant une boucle `while`."
   ]
  },
  {
   "cell_type": "code",
   "execution_count": 5,
   "id": "d9384350-45ee-47c2-8e8d-8c2bd2f83ebd",
   "metadata": {},
   "outputs": [
    {
     "name": "stdout",
     "output_type": "stream",
     "text": [
      "Compte à rebours basique :\n",
      "10\n",
      "9\n",
      "8\n",
      "7\n",
      "6\n",
      "5\n",
      "4\n",
      "3\n",
      "2\n",
      "1\n",
      "0\n",
      "Terminé !!\n"
     ]
    }
   ],
   "source": [
    "compteur = 10\n",
    "print(f\"Compte à rebours basique :\")\n",
    "while compteur>=0:\n",
    "    print(f\"{compteur}\")\n",
    "    compteur = compteur - 1\n",
    "print(\"Terminé !!\")"
   ]
  },
  {
   "cell_type": "markdown",
   "id": "f6fba5e4-6552-46ed-9d32-bd08c8700491",
   "metadata": {},
   "source": [
    "Le programme ci-dessous calcule le résultat de la factorielle d'un nombre."
   ]
  },
  {
   "cell_type": "code",
   "execution_count": 6,
   "id": "5d7fa81c-ff9a-49ea-8760-bbed1d24342b",
   "metadata": {},
   "outputs": [
    {
     "name": "stdin",
     "output_type": "stream",
     "text": [
      "Saisissez un nombre entier positif ou nul :  5\n"
     ]
    },
    {
     "name": "stdout",
     "output_type": "stream",
     "text": [
      "Factorielle de 5 est égal à 120.\n"
     ]
    }
   ],
   "source": [
    "n = int(input(\"Saisissez un nombre entier positif ou nul : \"))\n",
    "if n==0 or n==1:\n",
    "    facto = 1\n",
    "else:\n",
    "    facto = n\n",
    "    mult = n-1\n",
    "    while mult>=1:\n",
    "        facto = facto*mult\n",
    "        mult = mult-1\n",
    "print(f\"Factorielle de {n} est égal à {facto}.\")"
   ]
  },
  {
   "cell_type": "markdown",
   "id": "15ee5669-a48f-4215-8eb4-13a71a1da08b",
   "metadata": {},
   "source": [
    "## La boucle **for**\n",
    "\n",
    "La boucle `for` est une instruction répétitive qui est particulièrement adaptée aux deux cas de figure suivants&nbsp;:\n",
    "\n",
    "* pour parcourir des séquences de valeurs entières et répéter le même traitement autant de fois qu'il y a de valeurs dans la séquence (ce traitement peut utiliser les valeurs de la séquence ou bien être totalement indépendant)\n",
    "* pour parcourir des objets **itérables** (c'est-à-dire des objets comprenant plusieurs éléments auxquels on peut accéder individuellement) et appliquer le même traitement sur chacun de leurs éléments.\n",
    "\n",
    "### Parcours de séquences de valeurs entières\n",
    "\n",
    "Dans ce cas de figure, la syntaxe de la boucle `for` est la suivante&nbsp;:"
   ]
  },
  {
   "cell_type": "code",
   "execution_count": null,
   "id": "18e7797c-2513-499c-8f19-1cb1525ec86b",
   "metadata": {},
   "outputs": [],
   "source": [
    "for var in seq_val:\n",
    "    bloc_instructions"
   ]
  },
  {
   "cell_type": "markdown",
   "id": "1bb8206a-ecea-48a6-bf67-ab532588bb6a",
   "metadata": {},
   "source": [
    "Il s'agit d'une **instruction composée** dans laquelle&nbsp;:\n",
    "\n",
    "* `var` est une variable\n",
    "* `seq_val` est une séquence de nombres entiers générée par la fonction `range()` (voir plus loin dans ce chapitre)\n",
    "* `bloc_instructions` est un bloc d'instructions \n",
    "    \n",
    "Le bloc d'instructions doit obligatoirement être indenté par rapport à la ligne d'en-tête `for var in seq_val:`. Cette indentation s'effectue de préférence avec quatre espaces consécutifs, ou bien avec un caractère de tabulation. Elle est souvent effectuée automatiquement par les éditeurs de code Python.\n",
    "\n",
    "Littéralement, on peut énoncer le fonctionnement d'une telle boucle de la manière suivante&nbsp;: « Pour chaque valeur entière `var` contenue dans `seq_val` exécuter le bloc d'instructions ».  Plus concrètement, la variable `var` va prendre successivement pour valeur chacune des valeurs de `seq_val`, de la première à la dernière. Pour chaque valeur, le bloc d'instructions est exécuté. La boucle s'arrête lorsqu'une exécution du bloc a été réalisée pour chaque valeur de `seq_val`.\n",
    "\n",
    "#### La fonction **range()**\n",
    "\n",
    "Comment générer cette fameuse séquence de valeurs `seq_val`&nbsp;? C'est le rôle de la fonction `range()`. Cette fonction prend une, deux ou trois valeurs entières en paramètres et retourne une séquence ordonnée de valeurs entières.\n",
    "\n",
    "##### Syntaxe à un seul paramètre : `range(n)`\n",
    "\n",
    "Lorsqu'un seul paramètre `n` est fourni, il correspond au nombre de valeurs entières que doit contenir la séquence retournée. `range(n)` retourne alors la séquence de `n` valeurs entières consécutives commençant par 0. Par exemple &nbsp;:\n",
    "\n",
    "* `range(6)` retourne la séquence : 0, 1, 2, 3, 4, 5\n",
    "* `range(2)` retourne la séquence : 0, 1\n",
    "\n",
    "##### Syntaxe à deux paramètres : `range(deb, fin)`\n",
    "\n",
    "Lorsque deux paramètres `deb` et `fin` sont fournis (tels que `deb`&le;`fin`)&nbsp;:\n",
    "\n",
    "* `deb` est la valeur débutant la séquence\n",
    "* `fin` est la première valeur non comprise dans la séquence\n",
    "\n",
    "`range(deb, fin)` retourne alors la séquence de valeurs consécutives commençant par `deb` et se terminant par `fin-1`. Par exemple &nbsp;:\n",
    "\n",
    "* `range(3, 8)` retourne la séquence : 3, 4, 5, 6, 7\n",
    "* `range(-2, 5)` retourne la séquence : -2, -1, 0, 1, 2, 3, 4\n",
    "* `range(-10, -2)` retourne la séquence : -10, -9, -8, -7, -6, -5, -4, -3\n",
    "\n",
    "##### Syntaxe à trois paramètres : `range(deb, fin, pas)`\n",
    "\n",
    "Lorsqu'un troisième paramètre `pas` est fourni, celui-ci correspond à l'écart qu'il devra y avoir entre deux valeurs adjacentes de la séquence retournée (en informatique, on appelle cela le **pas**). `range(deb, fin, pas)` retourne alors la séquence de valeurs commençant par `deb` et se terminant par `fin-1`, avec un écart de `pas` entre deux valeurs. Par exemple &nbsp;:\n",
    "\n",
    "* `range(3, 9, 2)` retourne la séquence : 3, 5, 7\n",
    "* `range(3, 10, 2)` retourne la séquence : 3, 5, 7, 9\n",
    "* `range(3, 10, 3)` retourne la séquence : 3, 6, 9\n",
    "* `range(10, -1, -1)` retourne la séquence : 10, 9, 8, 7, 6, 5, 4, 3, 2, 1, 0\n",
    "* `range(-15, 1, 5)` retourne la séquence : -15, -10, -5, 0\n",
    "\n",
    "#### Premier exemple : affichage d'une suite de caractères identiques sur une même ligne\n",
    "\n",
    "Maintenant que le fonctionnement de `range()` a été vu, voici un premier exemple de programme basique utilisant la boucle `for` sur des séquences de valeurs entières. Celui-ci saisit au clavier un nombre entier `nb`, puis affiche sur la même ligne `nb` fois le caractère « ? ». "
   ]
  },
  {
   "cell_type": "code",
   "execution_count": 13,
   "id": "00f7e029-5539-440b-8124-8351960bf39b",
   "metadata": {},
   "outputs": [
    {
     "name": "stdin",
     "output_type": "stream",
     "text": [
      "Saisissez le nombre de symboles souhaité :  10\n"
     ]
    },
    {
     "name": "stdout",
     "output_type": "stream",
     "text": [
      "??????????"
     ]
    }
   ],
   "source": [
    "nb = int(input(\"Saisissez le nombre de symboles souhaité : \"))\n",
    "for i in range(nb):\n",
    "    print(\"?\", end=\"\")"
   ]
  },
  {
   "cell_type": "markdown",
   "id": "f1e27112-8255-4e1f-a221-029f359a365e",
   "metadata": {},
   "source": [
    "Notons que sur cet exemple, l'instruction réalisée dans le bloc : `print(\"?\", end=\"\")` n'utilise pas les valeurs de la séquence retournée par `range(nb)` (i.e., les valeurs successives de `i`). Ces dernières ne servent donc qu'à compter le nombre de fois où l'instruction doit être exécutée.\n",
    "\n",
    "#### Deuxième exemple : calcul de la somme des n premiers entiers positifs\n",
    "\n",
    "Dans ce deuxième exemple, le programme saisit au clavier un nombre entier `n`, puis calcule et affiche la somme des `n` premiers entiers positifs."
   ]
  },
  {
   "cell_type": "code",
   "execution_count": 10,
   "id": "b7a52e51-833f-498d-a3ab-dfd075fc780e",
   "metadata": {},
   "outputs": [
    {
     "name": "stdout",
     "output_type": "stream",
     "text": [
      "Calcul de la somme des n premiers entiers positifs.\n"
     ]
    },
    {
     "name": "stdin",
     "output_type": "stream",
     "text": [
      "Saisissez la valeur de n : 15\n"
     ]
    },
    {
     "name": "stdout",
     "output_type": "stream",
     "text": [
      "La somme des 15 premiers entiers positifs est 120.\n"
     ]
    }
   ],
   "source": [
    "print(\"Calcul de la somme des n premiers entiers positifs.\")\n",
    "n = int(input(\"Saisissez la valeur de n :\"))\n",
    "somme = 0\n",
    "for i in range(1, n+1):\n",
    "    somme = somme+i\n",
    "print(f\"La somme des {n} premiers entiers positifs est {somme}.\")"
   ]
  },
  {
   "cell_type": "markdown",
   "id": "0719c070-215d-49c0-aaec-48f887cb8b90",
   "metadata": {},
   "source": [
    "Cette fois-ci, l'instruction réalisée dans le bloc : `somme = somme+i` va s'exécuter pour chaque valeur `i` de la séquence retournée par `range(1, n+1)`. \n",
    "\n",
    "#### Troisième exemple : calcul de la somme des n premiers entiers positifs pairs\n",
    "\n",
    "Voici pour finir une variante du programme précédent calculant la somme des entiers positifs pairs uniquement."
   ]
  },
  {
   "cell_type": "code",
   "execution_count": 11,
   "id": "d2eb46a7-951f-478a-b920-1fa4217f7764",
   "metadata": {},
   "outputs": [
    {
     "name": "stdout",
     "output_type": "stream",
     "text": [
      "Calcul de la somme des n premiers entiers positifs pairs.\n"
     ]
    },
    {
     "name": "stdin",
     "output_type": "stream",
     "text": [
      "Saisissez la valeur de n : 15\n"
     ]
    },
    {
     "name": "stdout",
     "output_type": "stream",
     "text": [
      "La somme des 15 premiers entiers positifs pairs est 56.\n"
     ]
    }
   ],
   "source": [
    "print(\"Calcul de la somme des n premiers entiers positifs pairs.\")\n",
    "n = int(input(\"Saisissez la valeur de n :\"))\n",
    "somme = 0\n",
    "for i in range(2, n+1, 2):\n",
    "    somme = somme+i\n",
    "print(f\"La somme des {n} premiers entiers positifs pairs est {somme}.\")"
   ]
  },
  {
   "cell_type": "markdown",
   "id": "1af3ceed-6241-4b39-882e-0d2e2fda34a2",
   "metadata": {},
   "source": [
    "### Parcours d'objets **itérables** - Cas des chaînes de caractères\n",
    "\n",
    "En Python, les chaînes sont des séquences de caractères et sont de ce fait des objets **itérables** : cela signifie qu'on peut parcourir un par un les caractères d'une chaîne, du premier jusqu'au dernier. La boucle `for` est particulièrement adaptée pour parcourir les objets itérables du premier jusqu'au dernier élément. Lorsqu'il s'agit d'une chaîne, la syntaxe est la suivante&nbsp;:"
   ]
  },
  {
   "cell_type": "code",
   "execution_count": null,
   "id": "1fb045ac-9fef-486a-9681-1afcd7202c20",
   "metadata": {},
   "outputs": [],
   "source": [
    "for car in ch:\n",
    "    bloc_instructions"
   ]
  },
  {
   "cell_type": "markdown",
   "id": "3f796d2d-3045-4a67-a57e-09bd523e9304",
   "metadata": {},
   "source": [
    "* `car` est une variable\n",
    "* `ch` est une chaîne ou une variable contenant une chaîne\n",
    "* `bloc_instructions` est un bloc d'instructions indenté par rapport à la ligne `for car in ch:`\n",
    "\n",
    "Littéralement : « Pour chaque caractère `car` contenu dans la chaîne `ch` exécuter le bloc d'instructions ». Concrètement, la variable `car` va contenir successivement chacun des caractères de la chaîne `ch`, du premier jusqu'au dernier. Pour chaque caractère, le bloc est exécuté. Voici un exemple de programme qui saisit au clavier une chaîne, puis qui affiche un par un les caractères qu'elle contient."
   ]
  },
  {
   "cell_type": "code",
   "execution_count": 4,
   "id": "a5574c8c-1852-49a3-8ff4-9f6f5332840f",
   "metadata": {},
   "outputs": [
    {
     "name": "stdin",
     "output_type": "stream",
     "text": [
      "Quel est votre prénom ? Anatole\n"
     ]
    },
    {
     "name": "stdout",
     "output_type": "stream",
     "text": [
      "A\n",
      "n\n",
      "a\n",
      "t\n",
      "o\n",
      "l\n",
      "e\n",
      "Au revoir Anatole !!\n"
     ]
    }
   ],
   "source": [
    "myname = input(\"Quel est votre prénom ?\")\n",
    "for car in myname:\n",
    "    print(car)\n",
    "print(f\"Au revoir {myname} !!\")"
   ]
  },
  {
   "cell_type": "markdown",
   "id": "13852d6d-35e1-437d-a609-99b60c7c59ea",
   "metadata": {},
   "source": [
    "Notons qu'une variante de ce programme consiste à parcourir la chaîne à l'aide des indices de ses caractères, en utilisant la boucle `for` de parcours de séquences de valeurs entières. Dans ce cas, la séquence de valeurs à parcourir commence à l'indice 0 (indice du premier caractère) et se termine à l'indice égal à la longueur de la chaîne moins 1 (indice du dernier caractère). Voici ci-dessous cette variante. "
   ]
  },
  {
   "cell_type": "code",
   "execution_count": 6,
   "id": "f3189ec0-6c04-471a-85c3-75779a447072",
   "metadata": {},
   "outputs": [
    {
     "name": "stdin",
     "output_type": "stream",
     "text": [
      "Quel est votre prénom ? Hippolyte\n"
     ]
    },
    {
     "name": "stdout",
     "output_type": "stream",
     "text": [
      "H\n",
      "i\n",
      "p\n",
      "p\n",
      "o\n",
      "l\n",
      "y\n",
      "t\n",
      "e\n",
      "Au revoir Hippolyte !!\n"
     ]
    }
   ],
   "source": [
    "myname = input(\"Quel est votre prénom ?\")\n",
    "for ind in range(0, len(myname)):\n",
    "    print(myname[ind])\n",
    "print(f\"Au revoir {myname} !!\")"
   ]
  },
  {
   "cell_type": "markdown",
   "id": "1f872266-5abf-4171-bf78-c70fb1f2feea",
   "metadata": {},
   "source": [
    "Nous venons de voir l'utilisation de la boucle `for` pour le parcours caractère par caractère d'une chaîne. Il existe d'autres types objets itérables, qui peuvent être parcourus intégralement à l'aide d'une boucle `for` : listes, tuples, dictionnaires, etc. Ces types d'objets, ainsi que la boucle `for` qui leur est associée, feront l'objet de prochains chapitres."
   ]
  }
 ],
 "metadata": {
  "kernelspec": {
   "display_name": "Python 3 (ipykernel)",
   "language": "python",
   "name": "python3"
  },
  "language_info": {
   "codemirror_mode": {
    "name": "ipython",
    "version": 3
   },
   "file_extension": ".py",
   "mimetype": "text/x-python",
   "name": "python",
   "nbconvert_exporter": "python",
   "pygments_lexer": "ipython3",
   "version": "3.9.12"
  },
  "toc-autonumbering": true
 },
 "nbformat": 4,
 "nbformat_minor": 5
}
