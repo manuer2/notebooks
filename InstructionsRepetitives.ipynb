{
 "cells": [
  {
   "cell_type": "markdown",
   "id": "0b27d5b6-6ca6-485e-b9d4-b53b0fdc59f9",
   "metadata": {
    "tags": []
   },
   "source": [
    "# Les instructions répétitives\n",
    "\n",
    "Dans un programme, on doit pouvoir répéter plusieurs fois (voire indéfiniment !) les mêmes traitements. Une **instruction répétitive** ou **boucle** permet de répéter un certain nombre de fois le même bloc d'instructions. Il existe deux instructions répétitives en Python :  la boucle **while** et la boucle **for in**.\n",
    "\n",
    "## La boucle **while**\n",
    "\n",
    "La boucle `while` (cf. figure ci-dessous) permet de répéter l'exécution d'un bloc d'instructions tant qu'une condition est vérifiée. En revanche, dès que la condition devient fausse, l'exécution du bloc d'instructions cesse et le programme se poursuit normlement en séquence.\n",
    "\n",
    "![La boucle while](ImagesNotebook/BoucleWhile.PNG)\n",
    "\n",
    "Sa syntaxe en Python est la suivante&nbsp;:"
   ]
  },
  {
   "cell_type": "code",
   "execution_count": null,
   "id": "082de50e-f489-4038-9f21-8afac6fa2fb3",
   "metadata": {},
   "outputs": [],
   "source": [
    "while exp_cond:\n",
    "    bloc_instructions"
   ]
  },
  {
   "cell_type": "markdown",
   "id": "02488057-99ce-4baf-921e-bc5dc6a7b42a",
   "metadata": {},
   "source": [
    "Il s'agit d'une **instruction composée** comportant&nbsp;:\n",
    "\n",
    "* une ligne d'en-tête terminée par le caractère `:` \n",
    "    * `while exp_cond :`\n",
    "* un bloc d'instruction\n",
    "    * `bloc_instructions`\n",
    "    \n",
    "Le bloc doit obligatoirement être indenté par rapport à la ligne d'en-tête. Cette indentation s'effectue de préférence avec quatre espaces consécutifs, ou bien avec un caractère de tabulation. Elle est souvent effectuée automatiquement par les éditeurs de code Python.\n",
    "\n",
    "Littéralement, le fonctionnement d'une boucle `while` peut s'énoncer à l'aide de la phrase : « Tant que la condition est vraie, exécuter le bloc d'instructions ». Plus concrètement, voici ce qui se passe lors de l'exécution d'une boucle `while`&nbsp;:\n",
    "\n",
    "* la valeur de la condition `exp_cond` est évaluée\n",
    "* si la condition est fausse, l'exécution du programme reprend en séquence après la boucle (`bloc_instructions` n'est pas exécuté)\n",
    "* si la condition est vraie, `bloc_instructions` est exécuté, puis l'exécution du programme reprend sur la ligne d'en-tête où la valeur de la condition sera évaluée à nouveau, et ainsi de suite.\n",
    "\n",
    "Généralement, le nombre d'exécutions du bloc qui seront réalisées ne peut être connu à l'avance, mais dépend de la condition.\n",
    "Le programme ci-dessous implémente un compte à rebours très basique en utilisant une boucle `while`."
   ]
  },
  {
   "cell_type": "code",
   "execution_count": 5,
   "id": "d9384350-45ee-47c2-8e8d-8c2bd2f83ebd",
   "metadata": {},
   "outputs": [
    {
     "name": "stdout",
     "output_type": "stream",
     "text": [
      "Compte à rebours basique :\n",
      "10\n",
      "9\n",
      "8\n",
      "7\n",
      "6\n",
      "5\n",
      "4\n",
      "3\n",
      "2\n",
      "1\n",
      "0\n",
      "Terminé !!\n"
     ]
    }
   ],
   "source": [
    "compteur = 10\n",
    "print(f\"Compte à rebours basique :\")\n",
    "while compteur>=0:\n",
    "    print(f\"{compteur}\")\n",
    "    compteur = compteur - 1\n",
    "print(\"Terminé !!\")"
   ]
  },
  {
   "cell_type": "markdown",
   "id": "f6fba5e4-6552-46ed-9d32-bd08c8700491",
   "metadata": {},
   "source": [
    "Le programme ci-dessous calcule le résultat de la factorielle d'un nombre."
   ]
  },
  {
   "cell_type": "code",
   "execution_count": 6,
   "id": "5d7fa81c-ff9a-49ea-8760-bbed1d24342b",
   "metadata": {},
   "outputs": [
    {
     "name": "stdin",
     "output_type": "stream",
     "text": [
      "Saisissez un nombre entier positif ou nul :  5\n"
     ]
    },
    {
     "name": "stdout",
     "output_type": "stream",
     "text": [
      "Factorielle de 5 est égal à 120.\n"
     ]
    }
   ],
   "source": [
    "n = int(input(\"Saisissez un nombre entier positif ou nul : \"))\n",
    "if n==0 or n==1:\n",
    "    facto = 1\n",
    "else:\n",
    "    facto = n\n",
    "    mult = n-1\n",
    "    while mult>=1:\n",
    "        facto = facto*mult\n",
    "        mult = mult-1\n",
    "print(f\"Factorielle de {n} est égal à {facto}.\")"
   ]
  },
  {
   "cell_type": "markdown",
   "id": "15ee5669-a48f-4215-8eb4-13a71a1da08b",
   "metadata": {},
   "source": [
    "## La boucle **for**\n",
    "\n",
    "La boucle `for` est une instruction répétitive qui est particulièrement adaptée aux deux cas de figure suivants&nbsp;:\n",
    "\n",
    "* lorsque le nombre d'exécutions du bloc à effectuer est connu à l'avance et ne dépend pas d'une condition\n",
    "* pour parcourir des objets **itérables** (c'est-à-dire des objets comprenant plusieurs éléments auxquels on peut accéder individuellement) et appliquer le même traitement sur chacun de leurs éléments.\n",
    "\n",
    "### Nombre d'exécutions du bloc connu à l'avance\n",
    "\n",
    "Dans ce cas de figure, la syntaxe de la boucle `for` est la suivante&nbsp;:"
   ]
  },
  {
   "cell_type": "code",
   "execution_count": null,
   "id": "18e7797c-2513-499c-8f19-1cb1525ec86b",
   "metadata": {},
   "outputs": [],
   "source": [
    "for var in sequ_val:\n",
    "    bloc_instructions"
   ]
  },
  {
   "cell_type": "markdown",
   "id": "1bb8206a-ecea-48a6-bf67-ab532588bb6a",
   "metadata": {},
   "source": [
    "Il s'agit d'une **instruction composée** dans laquelle&nbsp;:\n",
    "\n",
    "* `var` est une variable contenant une valeur entière\n",
    "* `seq_val` est une séquence de nombres entiers générée par la fonction `range()` (voir plus loin dans ce chapitre)\n",
    "* `bloc_instructions` est un bloc d'instructions \n",
    "    \n",
    "Le bloc doit obligatoirement être indenté par rapport à la ligne d'en-tête `for var in seq_val:`. Cette indentation s'effectue de préférence avec quatre espaces consécutifs, ou bien avec un caractère de tabulation. Elle est souvent effectuée automatiquement par les éditeurs de code Python."
   ]
  }
 ],
 "metadata": {
  "kernelspec": {
   "display_name": "Python 3 (ipykernel)",
   "language": "python",
   "name": "python3"
  },
  "language_info": {
   "codemirror_mode": {
    "name": "ipython",
    "version": 3
   },
   "file_extension": ".py",
   "mimetype": "text/x-python",
   "name": "python",
   "nbconvert_exporter": "python",
   "pygments_lexer": "ipython3",
   "version": "3.9.12"
  }
 },
 "nbformat": 4,
 "nbformat_minor": 5
}
