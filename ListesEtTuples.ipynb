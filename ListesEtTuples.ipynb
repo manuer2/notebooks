{
 "cells": [
  {
   "cell_type": "markdown",
   "id": "381673af-f2a2-4128-98bc-cdeb435e8924",
   "metadata": {},
   "source": [
    "# Listes et tuples\n",
    "\n",
    "Dans ce chapitre, nous abordons deux types de structures de données utilisées en Python : les **listes** et les **tuples**.\n",
    "\n",
    "## Pourquoi utiliser des structures de données ?\n",
    "\n",
    "Dans les chapitres précédents, nous n'avons utilisé que des variables simples pour stocker les informations traitées dans nos programmes (ce que nous appelons ici « variable simple » est une variable contenant un objet simple comme un entier, un réel, une chaîne ou un booléen - cf. chapitre sur les bases du langage Python). Ces informations étant peu volumineuses et peu structurées, cette technique était suffisante. Cependant, programmer en utilisant uniquement des variables simples est très largement insuffisant, voire même impossible. \n",
    "\n",
    "Prenons l'exemple d'un programme qui doit calculer la moyenne d'une promo de 500 étudiants à un examen d'économie. Est-ce gérable de déclarer 500 variables : une variable par note ? Pas vraiment.\n",
    "\n",
    "Autre exemple : celui d'un programme qui traite des données textuelles en appliquant un traitement identique à tous les mots d'un texte. Est-ce envisageable de compter au préalable le nombre de mots du texte pour savoir de combien de variables on a besoin ? Absolument pas. Et en supposant que cela soit possible, cela signifie qu'il faudra modifier votre programme si le texte à traiter change...\n",
    "\n",
    "Utiliser uniquement des variables simples suppose de connaître à l'avance la quantité de données à traiter, ce qui est rarement le cas sauf pour des programmes très simples. Et même dans l'hypothèse où il serait possible de quantifier précisément les données, il est inconcevable d'écrire des programmes qui gèrent des centaines, voire des milliers de variables.\n",
    "\n",
    "Autre limitation des variables simples : elles ne permettent pas de mémoriser des données structurées. Prenons l'exemple d'un programme permettant de gérer les clients d'une entreprise commerciale. Un client est décrit à l'aide de différentes caractéristiques : numéro, nom, prénom, adresse, etc. Une variable simple ne permet pas de mémoriser toutes ces informations de types différents (chaînes, nombres, etc). \n",
    "\n",
    "Enfin, et nous terminerons sur cette dernière limitation : les variables simples ne permettent pas de mémoriser des associations entre des informations. Pourtant, ces associations sont monnaie courante : un mot du dictionnaire et sa définition, un n° de département et le nom du département correspondant, un n° d'étudiant et l'étudiant qui lui est associé, etc. Elles ne permettent pas non plus de stocker des données multi-dimensionnelles comme des vecteurs ou des matrices de nombres.\n",
    "\n",
    "Les structures de données ont été introduites en programmation pour pallier aux limitations des objets et variables simples. Il existe différents types de structures de données selon le langage. En python, il en existe quatre principaux :\n",
    "\n",
    "* les listes\n",
    "* les tuples\n",
    "* les dictionnaires\n",
    "* les ensembles\n",
    "\n",
    "Les listes et les tuples sont abordés dans ce chapitre. Les dictionnaires feront l'objet d'un autre chapitre.\n",
    "\n",
    "## Qu'est-ce qu'une liste ?\n",
    "\n",
    "Une liste est une séquence de valeurs (une collection ordonnée d'objets) dont les types peuvent être différents. Chaque valeur figure à une place précise dans la liste (on parle aussi d'**indice**, de **position** ou de **rang**) qui permet de la repérer et d'y accéder. On dit en particulier qu'une liste est indexée sur les indices de ses éléments. Le nombre de valeurs stockées dans une liste est quelconque et peut varier au cours d'un programme. \n",
    "\n",
    "## Notation et création d'une liste\n",
    "\n",
    "La notation d'une liste s'effectue à l'aide des crochets :\n",
    "\n",
    "* `[` pour indiquer le début de la liste\n",
    "* `]` pour indiquer la fin de la liste\n",
    "\n",
    "À l'intérieur des crochets, les différentes valeurs de la liste sont séparées par des virgules. Par exemple : `[3.1416, 25, 154, \"fromage\", \"dessert\"]`. Il existe un cas particulier de liste : la liste vide ne contenant aucun élément. Dans ce cas, la notation s'effectue avec uniquement les crochets : `[]`.\n",
    "Les valeurs d'une liste sont indexées par leur rang dans la liste, en commençant par 0 (rang de la première valeur), puis 1 (rang de la deuxième valeur), etc.\n",
    "\n",
    "![Exemple de liste](ImagesNotebook/ExempleListe.PNG)\n",
    "\n",
    "\n",
    "Une liste doit être mémorisée dans une variable (on parle alors de **variable structurée**). Par exemple : `bazar = [3.1416, 25, 154, \"fromage\", \"dessert\"]`. Le nom de la variable est alors appelé son identifiant et permet de la référencer dans le programme. Une liste est un objet **muable**, dans la mesure où on peut la modifier sans réaliser une nouvelle affectation de la variable qui la contient. \n",
    "\n",
    "## Accès aux éléments d'une liste\n",
    "\n",
    "L'accès aux éléments d'une liste se fait à l'aide de leurs rangs dans la liste avec la notation suivante :\n"
   ]
  },
  {
   "cell_type": "code",
   "execution_count": null,
   "id": "b3f27165-25c0-4e10-9109-71bc5967cab3",
   "metadata": {},
   "outputs": [],
   "source": [
    "id_liste[rang]"
   ]
  },
  {
   "cell_type": "markdown",
   "id": "01bb56b5-3005-4b65-94c3-d26da89c4c57",
   "metadata": {},
   "source": [
    "où `id_liste` est le nom de la variable référençant la liste et `rang` est le rang occupé par l'élément dans la liste. Le rang indiqué doit correspondre à un élément, sous peine de déclencher une erreur d'exécution. Le programme suivant effectue des accès aux éléments d'une liste."
   ]
  },
  {
   "cell_type": "code",
   "execution_count": 2,
   "id": "8736299f-1bf5-4dd5-92c3-b06e4e5408a2",
   "metadata": {},
   "outputs": [
    {
     "name": "stdout",
     "output_type": "stream",
     "text": [
      "Le premier élément de la liste est : 3.1416\n",
      "Le troisième élément de la liste est : 154\n",
      "Le dernier élément de la liste est : dessert\n"
     ]
    },
    {
     "ename": "IndexError",
     "evalue": "list index out of range",
     "output_type": "error",
     "traceback": [
      "\u001b[1;31m---------------------------------------------------------------------------\u001b[0m",
      "\u001b[1;31mIndexError\u001b[0m                                Traceback (most recent call last)",
      "Input \u001b[1;32mIn [2]\u001b[0m, in \u001b[0;36m<cell line: 5>\u001b[1;34m()\u001b[0m\n\u001b[0;32m      3\u001b[0m \u001b[38;5;28mprint\u001b[39m(\u001b[38;5;124mf\u001b[39m\u001b[38;5;124m\"\u001b[39m\u001b[38;5;124mLe troisième élément de la liste est : \u001b[39m\u001b[38;5;132;01m{\u001b[39;00mbazar[\u001b[38;5;241m2\u001b[39m]\u001b[38;5;132;01m}\u001b[39;00m\u001b[38;5;124m\"\u001b[39m)\n\u001b[0;32m      4\u001b[0m \u001b[38;5;28mprint\u001b[39m(\u001b[38;5;124mf\u001b[39m\u001b[38;5;124m\"\u001b[39m\u001b[38;5;124mLe dernier élément de la liste est : \u001b[39m\u001b[38;5;132;01m{\u001b[39;00mbazar[\u001b[38;5;241m4\u001b[39m]\u001b[38;5;132;01m}\u001b[39;00m\u001b[38;5;124m\"\u001b[39m)\n\u001b[1;32m----> 5\u001b[0m \u001b[38;5;28mprint\u001b[39m(\u001b[38;5;124mf\u001b[39m\u001b[38;5;124m\"\u001b[39m\u001b[38;5;124mLe sixième élément de la liste n\u001b[39m\u001b[38;5;124m'\u001b[39m\u001b[38;5;124mexiste pas \u001b[39m\u001b[38;5;132;01m{\u001b[39;00mbazar[\u001b[38;5;241m5\u001b[39m]\u001b[38;5;132;01m}\u001b[39;00m\u001b[38;5;124m. Cette instruction doit produire une erreur.\u001b[39m\u001b[38;5;124m\"\u001b[39m)\n",
      "\u001b[1;31mIndexError\u001b[0m: list index out of range"
     ]
    }
   ],
   "source": [
    "bazar = [3.1416, 25, 154, \"fromage\", \"dessert\"]\n",
    "print(f\"Le premier élément de la liste est : {bazar[0]}\")\n",
    "print(f\"Le troisième élément de la liste est : {bazar[2]}\")\n",
    "print(f\"Le dernier élément de la liste est : {bazar[4]}\")\n",
    "print(f\"Le sixième élément de la liste n'existe pas {bazar[5]}. Cette instruction doit produire une erreur.\")"
   ]
  },
  {
   "cell_type": "markdown",
   "id": "69e7feb1-a709-4f5e-ab22-3e3df8c67123",
   "metadata": {},
   "source": [
    "La dernière instruction de ce programme produit une erreur. En effet, elle contient un accès au sixième élément de la liste : `bazar[5]`. Or cet élément n'existe pas puisque la liste n'en comporte que cinq.\n",
    "\n",
    "La valeur du rang fournie lors de l'accès à un élément peut être négative. Dans ce cas, l'accès aux élements s'effectue à partir de la fin de la liste. Le dernier élément figure alors au rang -1, l'avant-dernier élément au rang -2, etc. "
   ]
  },
  {
   "cell_type": "code",
   "execution_count": 3,
   "id": "bcd96d2a-cafb-4dd9-8b42-96a1ae36837f",
   "metadata": {},
   "outputs": [
    {
     "name": "stdout",
     "output_type": "stream",
     "text": [
      "L'élément de rang -1 est : dessert\n",
      "L'élément de rang -5 est : 3.1416\n"
     ]
    }
   ],
   "source": [
    "print(f\"L'élément de rang -1 est : {bazar[-1]}\")\n",
    "print(f\"L'élément de rang -5 est : {bazar[-5]}\")"
   ]
  },
  {
   "cell_type": "markdown",
   "id": "aefd9018-8a33-4356-9b82-fb61f1962a30",
   "metadata": {},
   "source": [
    "## Accès à une sous-liste (« list slicing »)"
   ]
  }
 ],
 "metadata": {
  "kernelspec": {
   "display_name": "Python 3 (ipykernel)",
   "language": "python",
   "name": "python3"
  },
  "language_info": {
   "codemirror_mode": {
    "name": "ipython",
    "version": 3
   },
   "file_extension": ".py",
   "mimetype": "text/x-python",
   "name": "python",
   "nbconvert_exporter": "python",
   "pygments_lexer": "ipython3",
   "version": "3.9.12"
  }
 },
 "nbformat": 4,
 "nbformat_minor": 5
}
