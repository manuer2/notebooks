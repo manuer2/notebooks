{
 "cells": [
  {
   "cell_type": "markdown",
   "id": "fa86c8ff-fe7c-4a66-849c-43068b9eb67b",
   "metadata": {},
   "source": [
    "# Listes et tuples\n",
    "\n",
    "Dans ce chapitre, nous abordons deux types de structures de données utilisées en Python : les **listes** et les **tuples**.\n",
    "\n",
    "## Pourquoi utiliser des structures de données ?\n",
    "\n",
    "Dans les chapitres précédents, nous n'avons utilisé que des variables simples pour stocker les informations traitées dans nos programmes (ce que nous appelons ici « variable simple » est une variable contenant un objet simple comme un entier, un réel, une chaîne ou un booléen - cf. chapitre sur les bases du langage Python). Ces informations étant peu volumineuses et peu structurées, cette technique était suffisante. Cependant, programmer en utilisant uniquement des variables simples est très largement insuffisant, voire même impossible. \n",
    "\n",
    "Prenons l'exemple d'un programme qui doit calculer la moyenne d'une promo de 500 étudiants à un examen d'économie. Est-ce gérable de déclarer 500 variables : une variable par note ? Pas vraiment.\n",
    "\n",
    "Autre exemple : celui d'un programme qui traite des données textuelles en appliquant un traitement identique à tous les mots d'un texte. Est-ce envisageable de compter au préalable le nombre de mots du texte pour savoir de combien de variables on a besoin ? Absolument pas. Et en supposant que cela soit possible, cela signifie qu'il faudra modifier votre programme si le texte à traiter change...\n",
    "\n",
    "Utiliser uniquement des variables simples suppose de connaître à l'avance la quantité de données à traiter, ce qui est rarement le cas sauf pour des programmes très simples. Et même dans l'hypothèse où il serait possible de quantifier précisément les données, il est inconcevable d'écrire des programmes qui gèrent des centaines, voire des milliers de variables.\n",
    "\n",
    "Autre limitation des variables simples : elles ne permettent pas de mémoriser des données structurées. Prenons l'exemple d'un programme permettant de gérer les clients d'une entreprise commerciale. Un client est décrit à l'aide de différentes caractéristiques : numéro, nom, prénom, adresse, etc. Une variable simple ne permet pas de mémoriser toutes ces informations de types différents (chaînes, nombres, etc). \n",
    "\n",
    "Enfin, et nous terminerons sur cette dernière limitation : les variables simples ne permettent pas de mémoriser des associations entre des informations. Pourtant, ces associations sont monnaie courante : un mot du dictionnaire et sa définition, un n° de département et le nom du département correspondant, un n° d'étudiant et l'étudiant qui lui est associé, etc. Elles ne permettent pas non plus de stocker des données multi-dimensionnelles comme des vecteurs ou des matrices de nombres.\n",
    "\n"
   ]
  }
 ],
 "metadata": {
  "kernelspec": {
   "display_name": "Python 3 (ipykernel)",
   "language": "python",
   "name": "python3"
  },
  "language_info": {
   "codemirror_mode": {
    "name": "ipython",
    "version": 3
   },
   "file_extension": ".py",
   "mimetype": "text/x-python",
   "name": "python",
   "nbconvert_exporter": "python",
   "pygments_lexer": "ipython3",
   "version": "3.9.12"
  }
 },
 "nbformat": 4,
 "nbformat_minor": 5
}
