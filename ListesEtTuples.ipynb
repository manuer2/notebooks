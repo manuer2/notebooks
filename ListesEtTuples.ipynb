{
 "cells": [
  {
   "cell_type": "markdown",
   "id": "381673af-f2a2-4128-98bc-cdeb435e8924",
   "metadata": {},
   "source": [
    "# Listes et tuples\n",
    "\n",
    "Dans ce chapitre, nous abordons deux types de structures de données utilisées en Python : les **listes** et les **tuples**.\n",
    "\n",
    "## Pourquoi utiliser des structures de données ?\n",
    "\n",
    "Dans les chapitres précédents, nous n'avons utilisé que des variables simples pour stocker les informations traitées dans nos programmes (ce que nous appelons ici « variable simple » est une variable contenant un objet simple comme un entier, un réel, une chaîne ou un booléen - cf. chapitre sur les bases du langage Python). Ces informations étant peu volumineuses et peu structurées, cette technique était suffisante. Cependant, programmer en utilisant uniquement des variables simples est très largement insuffisant, voire même impossible. \n",
    "\n",
    "Prenons l'exemple d'un programme qui doit calculer la moyenne d'une promo de 500 étudiants à un examen d'économie. Est-ce gérable de déclarer 500 variables : une variable par note ? Pas vraiment.\n",
    "\n",
    "Autre exemple : celui d'un programme qui traite des données textuelles en appliquant un traitement identique à tous les mots d'un texte. Est-ce envisageable de compter au préalable le nombre de mots du texte pour savoir de combien de variables on a besoin ? Absolument pas. Et en supposant que cela soit possible, cela signifie qu'il faudra modifier votre programme si le texte à traiter change...\n",
    "\n",
    "Utiliser uniquement des variables simples suppose de connaître à l'avance la quantité de données à traiter, ce qui est rarement le cas sauf pour des programmes très simples. Et même dans l'hypothèse où il serait possible de quantifier précisément les données, il est inconcevable d'écrire des programmes qui gèrent des centaines, voire des milliers de variables.\n",
    "\n",
    "Autre limitation des variables simples : elles ne permettent pas de mémoriser des données structurées. Prenons l'exemple d'un programme permettant de gérer les clients d'une entreprise commerciale. Un client est décrit à l'aide de différentes caractéristiques : numéro, nom, prénom, adresse, etc. Une variable simple ne permet pas de mémoriser toutes ces informations de types différents (chaînes, nombres, etc). \n",
    "\n",
    "Enfin, et nous terminerons sur cette dernière limitation : les variables simples ne permettent pas de mémoriser des associations entre des informations. Pourtant, ces associations sont monnaie courante : un mot du dictionnaire et sa définition, un n° de département et le nom du département correspondant, un n° d'étudiant et l'étudiant qui lui est associé, etc. Elles ne permettent pas non plus de stocker des données multi-dimensionnelles comme des vecteurs ou des matrices de nombres.\n",
    "\n",
    "Les structures de données ont été introduites en programmation pour pallier aux limitations des objets et variables simples. Il existe différents types de structures de données selon le langage. En python, il en existe quatre principaux :\n",
    "\n",
    "* les listes\n",
    "* les tuples\n",
    "* les dictionnaires\n",
    "* les ensembles\n",
    "\n",
    "Les listes et les tuples sont abordés dans ce chapitre. Les dictionnaires feront l'objet d'un autre chapitre.\n",
    "\n",
    "## Qu'est-ce qu'une liste ?\n",
    "\n",
    "Une liste est une séquence de valeurs (une collection ordonnée d'objets) dont les types peuvent être différents. Chaque valeur figure à une place précise dans la liste (on parle aussi d'**indice**, de **position** ou de **rang**) qui permet de la repérer et d'y accéder. On dit en particulier qu'une liste est indexée sur les indices de ses éléments. Le nombre de valeurs stockées dans une liste est quelconque et peut varier au cours d'un programme. \n",
    "\n",
    "## Notation et création d'une liste\n",
    "\n",
    "La notation d'une liste s'effectue à l'aide des crochets :\n",
    "\n",
    "* `[` pour indiquer le début de la liste\n",
    "* `]` pour indiquer la fin de la liste\n",
    "\n",
    "À l'intérieur des crochets, les différentes valeurs de la liste sont séparées par des virgules. Par exemple : `[3.1416, 25, 154, \"fromage\", \"dessert\"]`. Il existe un cas particulier de liste : la liste vide ne contenant aucun élément. Dans ce cas, la notation s'effectue avec uniquement les crochets : `[]`.\n",
    "Les valeurs d'une liste sont indexées par leur rang dans la liste, en commençant par 0 (rang de la première valeur), puis 1 (rang de la deuxième valeur), etc.\n",
    "\n",
    "![Exemple de liste](ImagesNotebook/ExempleListe.PNG)\n",
    "\n",
    "\n",
    "Une liste doit être mémorisée dans une variable (on parle alors de **variable structurée**). Par exemple : `bazar = [3.1416, 25, 154, \"fromage\", \"dessert\"]`. Le nom de la variable est alors appelé son identifiant et permet de la référencer dans le programme. Une liste est un objet **muable**, dans la mesure où on peut la modifier sans réaliser une nouvelle affectation de la variable qui la contient. \n",
    "\n",
    "## Accès aux éléments d'une liste\n",
    "\n",
    "L'accès aux éléments d'une liste se fait à l'aide de leurs rangs dans la liste avec la notation suivante :\n"
   ]
  },
  {
   "cell_type": "code",
   "execution_count": null,
   "id": "b3f27165-25c0-4e10-9109-71bc5967cab3",
   "metadata": {},
   "outputs": [],
   "source": [
    "id_liste[pos]"
   ]
  },
  {
   "cell_type": "markdown",
   "id": "01bb56b5-3005-4b65-94c3-d26da89c4c57",
   "metadata": {},
   "source": [
    "où `id_liste` est le nom de la variable référençant la liste et `pos` est la position occupée par l'élément dans la liste. La position indiquée doit correspondre à un élément, sous peine de déclencher une erreur d'exécution. Le programme suivant effectue des accès aux éléments d'une liste."
   ]
  },
  {
   "cell_type": "code",
   "execution_count": 12,
   "id": "8736299f-1bf5-4dd5-92c3-b06e4e5408a2",
   "metadata": {},
   "outputs": [
    {
     "name": "stdout",
     "output_type": "stream",
     "text": [
      "Le premier élément de la liste est : 3.1416\n",
      "Le troisième élément de la liste est : 154\n",
      "Le dernier élément de la liste est : dessert\n"
     ]
    },
    {
     "ename": "IndexError",
     "evalue": "list index out of range",
     "output_type": "error",
     "traceback": [
      "\u001b[1;31m---------------------------------------------------------------------------\u001b[0m",
      "\u001b[1;31mIndexError\u001b[0m                                Traceback (most recent call last)",
      "Input \u001b[1;32mIn [12]\u001b[0m, in \u001b[0;36m<cell line: 5>\u001b[1;34m()\u001b[0m\n\u001b[0;32m      3\u001b[0m \u001b[38;5;28mprint\u001b[39m(\u001b[38;5;124mf\u001b[39m\u001b[38;5;124m\"\u001b[39m\u001b[38;5;124mLe troisième élément de la liste est : \u001b[39m\u001b[38;5;132;01m{\u001b[39;00mbazar[\u001b[38;5;241m2\u001b[39m]\u001b[38;5;132;01m}\u001b[39;00m\u001b[38;5;124m\"\u001b[39m)\n\u001b[0;32m      4\u001b[0m \u001b[38;5;28mprint\u001b[39m(\u001b[38;5;124mf\u001b[39m\u001b[38;5;124m\"\u001b[39m\u001b[38;5;124mLe dernier élément de la liste est : \u001b[39m\u001b[38;5;132;01m{\u001b[39;00mbazar[\u001b[38;5;241m4\u001b[39m]\u001b[38;5;132;01m}\u001b[39;00m\u001b[38;5;124m\"\u001b[39m)\n\u001b[1;32m----> 5\u001b[0m \u001b[38;5;28mprint\u001b[39m(\u001b[38;5;124mf\u001b[39m\u001b[38;5;124m\"\u001b[39m\u001b[38;5;124mLe sixième élément de la liste n\u001b[39m\u001b[38;5;124m'\u001b[39m\u001b[38;5;124mexiste pas \u001b[39m\u001b[38;5;132;01m{\u001b[39;00mbazar[\u001b[38;5;241m5\u001b[39m]\u001b[38;5;132;01m}\u001b[39;00m\u001b[38;5;124m. Cette instruction doit produire une erreur.\u001b[39m\u001b[38;5;124m\"\u001b[39m)\n",
      "\u001b[1;31mIndexError\u001b[0m: list index out of range"
     ]
    }
   ],
   "source": [
    "bazar = [3.1416, 25, 154, \"fromage\", \"dessert\"]\n",
    "print(f\"Le premier élément de la liste est : {bazar[0]}\")\n",
    "print(f\"Le troisième élément de la liste est : {bazar[2]}\")\n",
    "print(f\"Le dernier élément de la liste est : {bazar[4]}\")\n",
    "print(f\"Le sixième élément de la liste n'existe pas {bazar[5]}. Cette instruction doit produire une erreur.\")"
   ]
  },
  {
   "cell_type": "markdown",
   "id": "69e7feb1-a709-4f5e-ab22-3e3df8c67123",
   "metadata": {},
   "source": [
    "La dernière instruction de ce programme produit une erreur. En effet, elle contient un accès au sixième élément de la liste : `bazar[5]`. Or cet élément n'existe pas puisque la liste n'en comporte que cinq.\n",
    "\n",
    "La valeur de la position fournie lors de l'accès à un élément peut être négative. Dans ce cas, l'accès aux élements s'effectue à partir de la fin de la liste. Le dernier élément figure alors à la position -1, l'avant-dernier élément à la position -2, etc. "
   ]
  },
  {
   "cell_type": "code",
   "execution_count": 3,
   "id": "bcd96d2a-cafb-4dd9-8b42-96a1ae36837f",
   "metadata": {},
   "outputs": [
    {
     "name": "stdout",
     "output_type": "stream",
     "text": [
      "L'élément de position -1 est : dessert\n",
      "L'élément de position -5 est : 3.1416\n"
     ]
    }
   ],
   "source": [
    "print(f\"L'élément de position -1 est : {bazar[-1]}\")\n",
    "print(f\"L'élément de position -5 est : {bazar[-5]}\")"
   ]
  },
  {
   "cell_type": "markdown",
   "id": "ca27863a-397a-4a3c-bd6f-e266aef60c31",
   "metadata": {},
   "source": [
    "## Accès à une sous-liste (« list slicing »)\n",
    "\n",
    "En Python, une sous-liste (on dit aussi une « tranche » de liste) est une partie contigüe de ses éléments, qui débute à partir d'une position de début comprise, et qui se termine à une position de fin non comprise. La syntaxe générale d'accès à une sous-liste est la suivante&nbsp;:"
   ]
  },
  {
   "cell_type": "code",
   "execution_count": null,
   "id": "adb9d20e-1a66-4277-9d5a-a168a856486b",
   "metadata": {},
   "outputs": [],
   "source": [
    "id_liste[pos_deb:pos_fin]"
   ]
  },
  {
   "cell_type": "markdown",
   "id": "a6be1206-aae0-4263-91c0-e0edc2bb5bdd",
   "metadata": {},
   "source": [
    "où `pos_deb` est la position du premier élément de la sous-liste et `pos_fin` est la position du premier élément non compris dans la sous-liste. Les éléments composant la sous-liste sont donc ceux compris entre la position `pos_deb` et la position `pos_fin-1`."
   ]
  },
  {
   "cell_type": "code",
   "execution_count": 4,
   "id": "15de0ded-422e-4cf2-aafa-22863fdbd95d",
   "metadata": {},
   "outputs": [
    {
     "name": "stdout",
     "output_type": "stream",
     "text": [
      "Premier exemple de slicing : [25, 154]\n",
      "Deuxième exemple de slicing : [154, 'fromage']\n",
      "Troisième exemple de slicing : [25, 154, 'fromage']\n"
     ]
    }
   ],
   "source": [
    "print(f\"Premier exemple de slicing : {bazar[1:3]}\")\n",
    "print(f\"Deuxième exemple de slicing : {bazar[-3:-1]}\")\n",
    "print(f\"Troisième exemple de slicing : {bazar[1:-1]}\")"
   ]
  },
  {
   "cell_type": "markdown",
   "id": "ce05065e-d60b-4c12-b856-d2156f3d1a35",
   "metadata": {},
   "source": [
    "Il est possible d'omettre la position `pos_fin`. Dans ce cas, la sous-liste contient tous les éléments à partir de la position `pos_deb` jusqu'à la fin de la liste. "
   ]
  },
  {
   "cell_type": "code",
   "execution_count": 7,
   "id": "aa125ff8-5181-405d-bde6-10098839de0f",
   "metadata": {},
   "outputs": [
    {
     "name": "stdout",
     "output_type": "stream",
     "text": [
      "bazar[3:] = ['fromage', 'dessert']\n",
      "bazar[-4:] = [25, 154, 'fromage', 'dessert']\n"
     ]
    }
   ],
   "source": [
    "print(f\"bazar[3:] = {bazar[3:]}\")\n",
    "print(f\"bazar[-4:] = {bazar[-4:]}\")"
   ]
  },
  {
   "cell_type": "markdown",
   "id": "49934fed-74da-491e-a90f-c7ff34dfa499",
   "metadata": {},
   "source": [
    "Il est possible d'omettre la position `pos_deb`. Dans ce cas, la sous-liste contient tous les éléments à partir du début de la liste jusqu'à l'élément de rang `pos_fin-1`."
   ]
  },
  {
   "cell_type": "code",
   "execution_count": 9,
   "id": "e0a07e8b-eb46-48f9-b73a-009526c925f9",
   "metadata": {},
   "outputs": [
    {
     "name": "stdout",
     "output_type": "stream",
     "text": [
      "bazar[:3] = [3.1416, 25, 154]\n",
      "bazar[:-3] = [3.1416, 25]\n"
     ]
    }
   ],
   "source": [
    "print(f\"bazar[:3] = {bazar[:3]}\")\n",
    "print(f\"bazar[:-3] = {bazar[:-3]}\")"
   ]
  },
  {
   "cell_type": "markdown",
   "id": "c06a2b69-3f01-4014-a399-e9639df64ebd",
   "metadata": {},
   "source": [
    "Dans les exemples précédents, tous les éléments des sous-listes sont adjacents dans la liste initiale (i.e., ils sont stockés les uns à côté des autres). Il est possible d'extraire une sous-liste dont les éléments ne sont pas adjacents dans la liste initiale. On parle alors de « slicing » étendu. Dans ce cas, il faut ajouter entre les crochets un troisième nombre, appelé le **pas**, correspondant à l'écart qu'il doit y avoir entre les positions des éléments à extraire&nbsp;:"
   ]
  },
  {
   "cell_type": "code",
   "execution_count": null,
   "id": "34138729-572b-4e1f-9de5-d21d85f48ac5",
   "metadata": {},
   "outputs": [],
   "source": [
    "id_liste[pos_deb:pos_fin:pas]"
   ]
  },
  {
   "cell_type": "markdown",
   "id": "1af02b7d-168c-4ea9-b566-b381db3b8cea",
   "metadata": {},
   "source": [
    "Voici ci-dessous des exemples de « slicing » étendu&nbsp;:"
   ]
  },
  {
   "cell_type": "code",
   "execution_count": 2,
   "id": "245ddf81-84d7-415d-83cd-ef37ed228d53",
   "metadata": {},
   "outputs": [
    {
     "name": "stdout",
     "output_type": "stream",
     "text": [
      "Extraction de la position 2 à la position 15, de 2 en 2 : alphabet[2:16:2] = ['c', 'e', 'g', 'i', 'k', 'm', 'o'].\n",
      "Extraction de la position 0 à la position 25, de 4 en 4 : alphabet[0:26:4] = ['a', 'e', 'i', 'm', 'q', 'u', 'y'].\n"
     ]
    }
   ],
   "source": [
    "alphabet = ['a', 'b', 'c', 'd', 'e', 'f', 'g', 'h', 'i', 'j', 'k', 'l', 'm', 'n', 'o', 'p', 'q', 'r', 's', 't', 'u', 'v', 'w', 'x', 'y', 'z']\n",
    "print(f\"Extraction de la position 2 à la position 15 comprises, de 2 en 2 : alphabet[2:16:2] = {alphabet[2:16:2]}.\")\n",
    "print(f\"Extraction de la position 0 à la position 25 comprises, de 4 en 4 : alphabet[0:26:4] = {alphabet[0:26:4]}.\")"
   ]
  },
  {
   "cell_type": "markdown",
   "id": "5fe49781-6756-4700-9eec-2a786266c6b0",
   "metadata": {},
   "source": [
    "La valeur de `pas` peut-être négative. L'extraction s'effectue alors de droite à gauche à partir de `pos_deb` jusqu'à `pos_fin+1`. Dans ce cas, il faut impérativement que `pos_deb` soit strictement supérieure à `pos_fin` sous peine d'avoir un résultat vide."
   ]
  },
  {
   "cell_type": "code",
   "execution_count": 5,
   "id": "47282d2c-0229-4100-b6af-c38c522d190b",
   "metadata": {},
   "outputs": [
    {
     "name": "stdout",
     "output_type": "stream",
     "text": [
      "Extraction de la position 20 à la position 5 comprises, de -2 en -2 : alphabet[20:4:-2] = ['u', 's', 'q', 'o', 'm', 'k', 'i', 'g'].\n",
      "Extraction de la position 5 à la position 20 comprises, de -2 en -2 : alphabet[5:21:-2] = [].\n"
     ]
    }
   ],
   "source": [
    "print(f\"Extraction de la position 20 à la position 5 comprises, de -2 en -2 : alphabet[20:4:-2] = {alphabet[20:4:-2]}.\")\n",
    "print(f\"Extraction de la position 5 à la position 20 comprises, de -2 en -2 : alphabet[5:21:-2] = {alphabet[5:21:-2]}.\")"
   ]
  },
  {
   "cell_type": "markdown",
   "id": "8488d1df-13ac-49c4-9ae5-7d713cb57e9f",
   "metadata": {},
   "source": [
    "Les valeurs de `pos_deb` et `pos_fin` peuvent être omises, comme l'illustrent les exemples ci-dessous."
   ]
  },
  {
   "cell_type": "code",
   "execution_count": 10,
   "id": "9e329af8-3e9c-4ca4-9f55-8092eb620077",
   "metadata": {},
   "outputs": [
    {
     "name": "stdout",
     "output_type": "stream",
     "text": [
      "alphabet[:7:2] = ['a', 'c', 'e', 'g'].\n",
      "alphabet[3::2] = ['d', 'f', 'h', 'j', 'l', 'n', 'p', 'r', 't', 'v', 'x', 'z'].\n",
      "alphabet[:3:-2] = ['z', 'x', 'v', 't', 'r', 'p', 'n', 'l', 'j', 'h', 'f'].\n",
      "alphabet[7::-2] = ['h', 'f', 'd', 'b'].\n",
      "alphabet[::-1] = ['z', 'y', 'x', 'w', 'v', 'u', 't', 's', 'r', 'q', 'p', 'o', 'n', 'm', 'l', 'k', 'j', 'i', 'h', 'g', 'f', 'e', 'd', 'c', 'b', 'a'].\n"
     ]
    }
   ],
   "source": [
    "print(f\"alphabet[:7:2] = {alphabet[:7:2]}.\")\n",
    "print(f\"alphabet[3::2] = {alphabet[3::2]}.\")\n",
    "print(f\"alphabet[:3:-2] = {alphabet[:3:-2]}.\")\n",
    "print(f\"alphabet[7::-2] = {alphabet[7::-2]}.\")\n",
    "print(f\"alphabet[::-1] = {alphabet[::-1]}.\")"
   ]
  },
  {
   "cell_type": "markdown",
   "id": "527b7294-72f7-4233-bebb-a76ec19f0318",
   "metadata": {},
   "source": [
    "Notons que le dernier exemple `alphabet[::-1]` est particulièrement intéressant. La valeur de `pas` est de -1, donc les caractères extraits seront adjacents. Comme il s'agit d'une valeur négative, l'extraction se fait de droite à gauche en commençant par la fin de la liste (puisque `pos_deb` est omise) jusqu'au début de la liste (puisque `pos_fin` est omise). On extrait donc tous les caractères situés de la fin de la liste jusqu'à son début : cela revient tout simplement à inverser la liste ! \n",
    "\n",
    "Ajoutons pour terminer que toutes les opérations de « slicing » présentées ici sur les listes sont utilisables également sur les chaînes pour extraire des sous-chaînes.\n",
    "\n",
    "## Opérations, fonctions et instructions usuelles sur les listes\n",
    "\n",
    "### Taille d'une liste : la fonction **len()**\n",
    "\n",
    "La taille d'une liste est le nombre d'élements qu'elle contient. La fonction **len()**&nbsp;:\n",
    "\n",
    "* prend en paramètre une liste\n",
    "* retourne en résultat un nombre entier égal à la taille de cette liste"
   ]
  },
  {
   "cell_type": "code",
   "execution_count": 13,
   "id": "39eec3c0-e02e-44c2-9417-5d3d11d61d15",
   "metadata": {},
   "outputs": [
    {
     "name": "stdout",
     "output_type": "stream",
     "text": [
      "La taille de la liste bazar est : 5\n",
      "La taille de la liste alphabet est : 26\n"
     ]
    }
   ],
   "source": [
    "print(f\"La taille de la liste bazar est : {len(bazar)}\")\n",
    "print(f\"La taille de la liste alphabet est : {len(alphabet)}\")"
   ]
  },
  {
   "cell_type": "markdown",
   "id": "879b4a1b-b541-49c1-9f9c-fb0e93df80da",
   "metadata": {},
   "source": [
    "### Modification d'un élément existant\n",
    "\n",
    "Un élément d'une liste peut être modifié à l'aide d'une simple opération d'affectation. La syntaxe est la suivante&nbsp;:"
   ]
  },
  {
   "cell_type": "code",
   "execution_count": null,
   "id": "18c9e426-81c5-4816-840b-f28f9f77176a",
   "metadata": {},
   "outputs": [],
   "source": [
    "id_liste[pos] = valeur"
   ]
  },
  {
   "cell_type": "markdown",
   "id": "43cec883-ea16-4220-a13c-c8fac1e79aaf",
   "metadata": {},
   "source": [
    "où &nbsp;:\n",
    "\n",
    "* `id_liste` est l'identifiant de la liste\n",
    "* `pos` est la position occupée par l'élément à modifier\n",
    "* `valeur` est la nouvelle valeur de l'élément"
   ]
  },
  {
   "cell_type": "code",
   "execution_count": 14,
   "id": "abc1cbba-3498-4e2d-84bd-7f75667e24a2",
   "metadata": {},
   "outputs": [
    {
     "name": "stdout",
     "output_type": "stream",
     "text": [
      "Liste bazar avant modification : [3.1416, 25, 154, 'fromage', 'dessert']\n",
      "Liste bazar après modification : [3.1416, 28, 'bonjour', 'fromage', 'dessert']\n"
     ]
    }
   ],
   "source": [
    "print(f\"Liste bazar avant modification : {bazar}\")\n",
    "bazar[2] = 'bonjour'\n",
    "bazar[1] += 3\n",
    "print(f\"Liste bazar après modification : {bazar}\")"
   ]
  },
  {
   "cell_type": "markdown",
   "id": "764448b3-eecc-48a8-acba-cb51222b7785",
   "metadata": {},
   "source": [
    "### Suppression d'élément(s) : l'instruction **del**\n",
    "\n",
    "L'instruction **del** permet de supprimer un élément ou une sous-liste dans une liste existante. Deux syntaxes sont possibles&nbsp;:"
   ]
  },
  {
   "cell_type": "code",
   "execution_count": null,
   "id": "4b3225fd-5c7f-46bb-9a1d-c5c1abbbc28d",
   "metadata": {},
   "outputs": [],
   "source": [
    "del id_liste[pos]"
   ]
  },
  {
   "cell_type": "markdown",
   "id": "554b39f2-c882-4a0f-b400-3ccf57a6a76b",
   "metadata": {},
   "source": [
    "qui va supprimer de la liste `id_liste` l'élément situé à la position `pos`;"
   ]
  },
  {
   "cell_type": "code",
   "execution_count": null,
   "id": "24edf003-1adf-4911-8e8c-a0f6c9f61fdd",
   "metadata": {},
   "outputs": [],
   "source": [
    "del id_liste[pos_deb:pos_fin]"
   ]
  },
  {
   "cell_type": "markdown",
   "id": "24688fb6-6a79-41f9-83ba-6c0791d340c7",
   "metadata": {},
   "source": [
    "qui va supprimer de la liste `id_liste` la sous-chaîne comprise entre les positions `pos_deb` et `pos_fin-1`."
   ]
  },
  {
   "cell_type": "code",
   "execution_count": 15,
   "id": "4450c9d2-4dfd-46e9-a5fc-07dcfb89c0e8",
   "metadata": {},
   "outputs": [
    {
     "name": "stdout",
     "output_type": "stream",
     "text": [
      "Liste bazar avant première suppression : [3.1416, 28, 'bonjour', 'fromage', 'dessert']\n",
      "Liste bazar après première suppression : [3.1416, 28, 'fromage', 'dessert']\n",
      "Liste bazar après deuxième suppression : [3.1416, 'dessert']\n"
     ]
    }
   ],
   "source": [
    "print(f\"Liste bazar avant première suppression : {bazar}\")\n",
    "del bazar[2]\n",
    "print(f\"Liste bazar après première suppression : {bazar}\")\n",
    "del bazar[1:3]\n",
    "print(f\"Liste bazar après deuxième suppression : {bazar}\")"
   ]
  },
  {
   "cell_type": "markdown",
   "id": "3da2d2d6-fb1c-4236-81ce-3da744468a1c",
   "metadata": {},
   "source": [
    "### Concaténation de listes : l'opérateur **+**\n",
    "\n",
    "L'opérateur **+** permet de mettre bout à bout deux listes pour en construire une troisième. C'est ce qu'on appelle la **concaténation** de listes."
   ]
  },
  {
   "cell_type": "code",
   "execution_count": 16,
   "id": "214b2241-6e2c-4e85-abe8-0bfefbe6b55a",
   "metadata": {},
   "outputs": [
    {
     "name": "stdout",
     "output_type": "stream",
     "text": [
      "[1, 2, 3, 4]\n"
     ]
    }
   ],
   "source": [
    "debut = [1, 2]\n",
    "fin = [3, 4]\n",
    "total = debut + fin\n",
    "print(total)"
   ]
  },
  {
   "cell_type": "markdown",
   "id": "0541cfac-9500-4fee-bc39-8c8c4cd2f70e",
   "metadata": {},
   "source": [
    "Il permet également d'ajouter un nouvel élément soit en début de liste&nbsp;:"
   ]
  },
  {
   "cell_type": "code",
   "execution_count": null,
   "id": "266c6749-2f30-41f2-b3b3-345299644ef9",
   "metadata": {},
   "outputs": [],
   "source": [
    "id_liste = [nouveau] + id_liste"
   ]
  },
  {
   "cell_type": "markdown",
   "id": "6df2cd8e-4305-436a-8072-33d8504d4cb6",
   "metadata": {},
   "source": [
    "soit en fin de liste&nbsp;:"
   ]
  },
  {
   "cell_type": "code",
   "execution_count": null,
   "id": "1cedf4ed-84bc-496a-8af0-95f8dd9f7659",
   "metadata": {},
   "outputs": [],
   "source": [
    "id_liste = id_liste + [nouveau]"
   ]
  },
  {
   "cell_type": "markdown",
   "id": "c18e4620-e8c0-47c3-b764-74dc6a3066cb",
   "metadata": {},
   "source": [
    "ou bien&nbsp;:"
   ]
  },
  {
   "cell_type": "code",
   "execution_count": null,
   "id": "c2e78455-cb28-4153-ab0a-960fd2767e06",
   "metadata": {},
   "outputs": [],
   "source": [
    "id_liste += [nouveau]"
   ]
  },
  {
   "cell_type": "code",
   "execution_count": 17,
   "id": "fc18d215-4444-4c52-afc3-d918cfec6317",
   "metadata": {},
   "outputs": [
    {
     "name": "stdout",
     "output_type": "stream",
     "text": [
      "['A', 'B', 'C', 'D']\n"
     ]
    }
   ],
   "source": [
    "liste = ['B', 'C']\n",
    "liste = liste + ['D']\n",
    "liste = ['A'] + liste\n",
    "print(liste)"
   ]
  },
  {
   "cell_type": "markdown",
   "id": "e8898242-eec4-4201-916c-9f7ad5e18d7d",
   "metadata": {},
   "source": [
    "### Méthodes usuelles sur les listes\n",
    "\n",
    "En Python, une liste est un objet sur lequel on peut appliquer des **méthodes** (la programmation objet sera abordée en licence 2). Une méthode est une sorte de fonction ou d'instruction qui va agir sur un objet et retourner ou pas une valeur en résultat. La syntaxe générale d'application d'une méthode à un objet est la suivante&nbsp;:"
   ]
  },
  {
   "cell_type": "code",
   "execution_count": null,
   "id": "eddce5c3-74d2-43ca-8a2a-c5c865e20f15",
   "metadata": {},
   "outputs": [],
   "source": [
    "objet.methode(paramètres)"
   ]
  },
  {
   "cell_type": "markdown",
   "id": "82446a7c-92f4-4054-982d-b7c36989731e",
   "metadata": {},
   "source": [
    "où&nbsp;:\n",
    "\n",
    "* `objet` est l'objet ou la variable référençant l'objet sur lequel s'applique la méthode\n",
    "* `methode` est le nom de la méthode appliquée\n",
    "* `paramètres` est l'énumération des valeurs ou variables passées en paramètres de la méthode\n",
    "\n",
    "#### L'ajout d'un élément en fin de liste : la méthode **append()**\n",
    "\n",
    "La méthode **append()** prend en paramètre l'élément à ajouter à la liste. Elle ajoute cette élément à la fin de la liste et ne retourne aucune valeur. Elle peut donc être utilisée comme une instruction."
   ]
  },
  {
   "cell_type": "code",
   "execution_count": 18,
   "id": "17beab8a-b37a-4a9c-9466-35662f2bec81",
   "metadata": {},
   "outputs": [
    {
     "name": "stdout",
     "output_type": "stream",
     "text": [
      "['A', 'B', 'C']\n"
     ]
    }
   ],
   "source": [
    "liste = ['A', 'B']\n",
    "liste.append('C')\n",
    "print(liste)"
   ]
  },
  {
   "cell_type": "markdown",
   "id": "877769c3-0d15-4f6b-88e4-adf727820eae",
   "metadata": {},
   "source": [
    "#### L'extension d'une liste : la méthode **extend()**\n",
    "\n",
    "La méthode **append()** s'applique à une liste initiale et prend en paramètre une seconde liste. Elle ajoute cette seconde liste à la fin de la liste initiale (ce qui revient à concaténer les deux listes). Elle ne retourne aucune valeur et peut être utilisée comme une instruction."
   ]
  },
  {
   "cell_type": "code",
   "execution_count": 19,
   "id": "c7650d8f-6f45-44f4-98f5-5ec84b7b2d58",
   "metadata": {},
   "outputs": [
    {
     "name": "stdout",
     "output_type": "stream",
     "text": [
      "['A', 'B', 'C', 'D']\n"
     ]
    }
   ],
   "source": [
    "liste = ['A', 'B']\n",
    "liste.extend(['C', 'D'])\n",
    "print(liste)"
   ]
  },
  {
   "cell_type": "markdown",
   "id": "eca5f299-bcdf-4603-8814-912822b190bb",
   "metadata": {},
   "source": [
    "#### Insertion d'un élément à une position précise dans une liste : la méthode **insert()**\n",
    "\n",
    "La méthode **insert()** prend en paramètres&nbsp;:\n",
    "\n",
    "* un nombre entier correspondant à une position dans la liste\n",
    "* un élément à ajouter à la liste\n",
    "\n",
    "et ajoute l'élément dans la liste, à la position indiquée en paramètre. Elle ne retourne aucune valeur et peut être utilisée comme une instruction.\n",
    "Si la position est égale à 0, l'insertion de l'élément se fait au début de la liste. Si la position correspond à la longueur de la liste, l'insertion s'effectue en fin de liste."
   ]
  },
  {
   "cell_type": "code",
   "execution_count": 21,
   "id": "ee9a42c9-e29d-4253-ad39-e88427e4cffb",
   "metadata": {},
   "outputs": [
    {
     "name": "stdout",
     "output_type": "stream",
     "text": [
      "['A', 'B', 'D']\n",
      "['A', 'B', 'C', 'D']\n",
      "['A', 'B', 'C', 'D', 'E']\n"
     ]
    }
   ],
   "source": [
    "liste = ['B', 'D']\n",
    "liste.insert(0, 'A')\n",
    "print(liste)\n",
    "liste.insert(2, 'C')\n",
    "print(liste)\n",
    "liste.insert(len(liste), 'E')\n",
    "print(liste)"
   ]
  },
  {
   "cell_type": "markdown",
   "id": "77555deb-add1-48a3-948c-dd73a4b573a4",
   "metadata": {},
   "source": [
    "#### Suppression d'un élément dans une liste : la méthode **remove()**\n",
    "\n",
    "La méthode **remove()** prend en paramètre l'élément à supprimer de la liste et supprime de la liste la première occurrence de cet élément. Elle ne retourne aucune valeur et peut être utilisée comme une instruction. Si l'élément passé en paramètre ne figure pas dans la liste, une exception est levée et un message d'erreur s'affiche. La notion d'exception sera vue en licence 2."
   ]
  },
  {
   "cell_type": "code",
   "execution_count": 24,
   "id": "25d9ba63-06e5-4a5c-aea4-01c4899f2f67",
   "metadata": {},
   "outputs": [
    {
     "name": "stdout",
     "output_type": "stream",
     "text": [
      "['A', 'C', 'B', 'D', 'B']\n",
      "['A', 'B', 'D', 'B']\n"
     ]
    },
    {
     "ename": "ValueError",
     "evalue": "list.remove(x): x not in list",
     "output_type": "error",
     "traceback": [
      "\u001b[1;31m---------------------------------------------------------------------------\u001b[0m",
      "\u001b[1;31mValueError\u001b[0m                                Traceback (most recent call last)",
      "Input \u001b[1;32mIn [24]\u001b[0m, in \u001b[0;36m<cell line: 6>\u001b[1;34m()\u001b[0m\n\u001b[0;32m      4\u001b[0m liste\u001b[38;5;241m.\u001b[39mremove(\u001b[38;5;124m'\u001b[39m\u001b[38;5;124mC\u001b[39m\u001b[38;5;124m'\u001b[39m)\n\u001b[0;32m      5\u001b[0m \u001b[38;5;28mprint\u001b[39m(liste)\n\u001b[1;32m----> 6\u001b[0m \u001b[43mliste\u001b[49m\u001b[38;5;241;43m.\u001b[39;49m\u001b[43mremove\u001b[49m\u001b[43m(\u001b[49m\u001b[38;5;124;43m'\u001b[39;49m\u001b[38;5;124;43mC\u001b[39;49m\u001b[38;5;124;43m'\u001b[39;49m\u001b[43m)\u001b[49m\n",
      "\u001b[1;31mValueError\u001b[0m: list.remove(x): x not in list"
     ]
    }
   ],
   "source": [
    "liste = ['A', 'B', 'C', 'B', 'D', 'B']\n",
    "liste.remove('B')\n",
    "print(liste)\n",
    "liste.remove('C')\n",
    "print(liste)\n",
    "liste.remove('C')"
   ]
  },
  {
   "cell_type": "markdown",
   "id": "8f66120b-8103-4e82-9641-347f7486883d",
   "metadata": {},
   "source": [
    "#### Position d'un élément dans une liste : la méthode **index()**\n",
    "\n",
    "La méthode **index()** prend en paramètre un élément et retourne la position de la première occurrence de cet élément dans la liste. Une exception est levée si l'élément ne figure pas dans la liste."
   ]
  },
  {
   "cell_type": "code",
   "execution_count": 25,
   "id": "81f8741d-929f-48e0-b459-1bed4037b70d",
   "metadata": {},
   "outputs": [
    {
     "name": "stdout",
     "output_type": "stream",
     "text": [
      "2\n",
      "1\n"
     ]
    },
    {
     "ename": "ValueError",
     "evalue": "'E' is not in list",
     "output_type": "error",
     "traceback": [
      "\u001b[1;31m---------------------------------------------------------------------------\u001b[0m",
      "\u001b[1;31mValueError\u001b[0m                                Traceback (most recent call last)",
      "Input \u001b[1;32mIn [25]\u001b[0m, in \u001b[0;36m<cell line: 4>\u001b[1;34m()\u001b[0m\n\u001b[0;32m      2\u001b[0m \u001b[38;5;28mprint\u001b[39m(liste\u001b[38;5;241m.\u001b[39mindex(\u001b[38;5;124m'\u001b[39m\u001b[38;5;124mC\u001b[39m\u001b[38;5;124m'\u001b[39m))\n\u001b[0;32m      3\u001b[0m \u001b[38;5;28mprint\u001b[39m(liste\u001b[38;5;241m.\u001b[39mindex(\u001b[38;5;124m'\u001b[39m\u001b[38;5;124mB\u001b[39m\u001b[38;5;124m'\u001b[39m))\n\u001b[1;32m----> 4\u001b[0m \u001b[38;5;28mprint\u001b[39m(\u001b[43mliste\u001b[49m\u001b[38;5;241;43m.\u001b[39;49m\u001b[43mindex\u001b[49m\u001b[43m(\u001b[49m\u001b[38;5;124;43m'\u001b[39;49m\u001b[38;5;124;43mE\u001b[39;49m\u001b[38;5;124;43m'\u001b[39;49m\u001b[43m)\u001b[49m)\n",
      "\u001b[1;31mValueError\u001b[0m: 'E' is not in list"
     ]
    }
   ],
   "source": [
    "liste = ['A', 'B', 'C', 'B', 'D', 'B']\n",
    "print(liste.index('C'))\n",
    "print(liste.index('B'))\n",
    "print(liste.index('E'))"
   ]
  },
  {
   "cell_type": "markdown",
   "id": "68566b15-b074-441d-ad1b-b27cd9a805bf",
   "metadata": {},
   "source": [
    "#### Comptage du nombre d'occurrences d'un élément : la méthode **count()**\n",
    "\n",
    "La méthode **count()** prend en paramètre un élément et retourne le nombre d'occurrences de cet élément dans la liste."
   ]
  },
  {
   "cell_type": "code",
   "execution_count": 26,
   "id": "ea4e73f4-4444-4b7c-8ce0-95dc2b3ef5cc",
   "metadata": {},
   "outputs": [
    {
     "name": "stdout",
     "output_type": "stream",
     "text": [
      "Dans la liste, la lettre C apparaît 1 fois, la lettre B 3 fois et la lettre E 0 fois.\n"
     ]
    }
   ],
   "source": [
    "liste = ['A', 'B', 'C', 'B', 'D', 'B']\n",
    "nb_C = liste.count('C')\n",
    "nb_B = liste.count('B')\n",
    "nb_E = liste.count('E')\n",
    "print(f\"Dans la liste, la lettre C apparaît {nb_C} fois, la lettre B {nb_B} fois et la lettre E {nb_E} fois.\")"
   ]
  },
  {
   "cell_type": "markdown",
   "id": "2bc1e476-90bc-4f49-9454-28fdb2b99158",
   "metadata": {},
   "source": [
    "#### Tri des éléments d'une liste : la méthode **sort()**"
   ]
  },
  {
   "cell_type": "code",
   "execution_count": null,
   "id": "4589d03b-a0b9-46a0-9d09-17ee5b435749",
   "metadata": {},
   "outputs": [],
   "source": []
  },
  {
   "cell_type": "markdown",
   "id": "7ecebd9f-fd7e-4723-89af-a3f9a2f6594e",
   "metadata": {},
   "source": [
    "#### Inversion d'une liste : la méthode **reverse()**"
   ]
  },
  {
   "cell_type": "code",
   "execution_count": null,
   "id": "81c09e4c-b235-4e3d-82e1-4fc0d41fa8d8",
   "metadata": {},
   "outputs": [],
   "source": []
  },
  {
   "cell_type": "markdown",
   "id": "24bcbd88-b315-4131-ab0b-076959714b47",
   "metadata": {},
   "source": [
    "### Test d'appartenance à une liste"
   ]
  },
  {
   "cell_type": "markdown",
   "id": "ba87fb49-1c79-4b6d-ba5a-24411e2d0a3c",
   "metadata": {},
   "source": [
    "### Parcours d'une liste"
   ]
  }
 ],
 "metadata": {
  "kernelspec": {
   "display_name": "Python 3 (ipykernel)",
   "language": "python",
   "name": "python3"
  },
  "language_info": {
   "codemirror_mode": {
    "name": "ipython",
    "version": 3
   },
   "file_extension": ".py",
   "mimetype": "text/x-python",
   "name": "python",
   "nbconvert_exporter": "python",
   "pygments_lexer": "ipython3",
   "version": "3.9.12"
  },
  "toc-autonumbering": true
 },
 "nbformat": 4,
 "nbformat_minor": 5
}
