{
 "cells": [
  {
   "cell_type": "markdown",
   "id": "381673af-f2a2-4128-98bc-cdeb435e8924",
   "metadata": {},
   "source": [
    "# Les listes et les tuples\n",
    "\n",
    "Dans ce chapitre, nous abordons deux types de structures de données utilisées en Python : les **listes** et les **tuples**.\n",
    "\n",
    "## Pourquoi utiliser des structures de données ?\n",
    "\n",
    "Dans les chapitres précédents, nous n'avons utilisé que des variables simples pour stocker les informations traitées dans nos programmes (ce que nous appelons ici « variable simple » est une variable contenant un objet simple comme un entier, un réel, une chaîne ou un booléen - cf. chapitre sur les bases du langage Python). Ces informations étant peu volumineuses et peu structurées, cette technique était suffisante. Cependant, programmer en utilisant uniquement des variables simples est très largement insuffisant, voire même impossible. \n",
    "\n",
    "Prenons l'exemple d'un programme qui doit calculer la moyenne d'une promo de 500 étudiants à un examen d'économie. Est-ce gérable de déclarer 500 variables : une variable par note ? Pas vraiment.\n",
    "\n",
    "Autre exemple : celui d'un programme qui traite des données textuelles en appliquant un traitement identique à tous les mots d'un texte. Est-ce envisageable de compter au préalable le nombre de mots du texte pour savoir de combien de variables on a besoin ? Absolument pas. Et en supposant que cela soit possible, cela signifie qu'il faudra modifier le programme si le texte à traiter change...\n",
    "\n",
    "Utiliser uniquement des variables simples suppose de connaître à l'avance la quantité de données à traiter, ce qui est rarement le cas sauf pour des programmes très simples. Et même dans l'hypothèse où il serait possible de quantifier précisément les données, il est inconcevable d'écrire des programmes qui gèrent des centaines, voire des milliers de variables.\n",
    "\n",
    "Autre limitation des variables simples : elles ne permettent pas de mémoriser des données structurées. Prenons l'exemple d'un programme permettant de gérer les clients d'une entreprise commerciale. Un client est décrit à l'aide de différentes caractéristiques : numéro, nom, prénom, adresse, etc. Une variable simple ne permet pas de mémoriser toutes ces informations de types différents (chaînes, nombres, etc). \n",
    "\n",
    "Enfin, et nous terminerons sur cette dernière limitation : les variables simples ne permettent pas de mémoriser des associations entre des informations. Pourtant, ces associations sont monnaie courante : un mot du dictionnaire et sa définition, un n° de département et le nom du département correspondant, un n° d'étudiant et l'étudiant qui lui est associé, etc. Elles ne permettent pas non plus de stocker des données multi-dimensionnelles comme des vecteurs ou des matrices de nombres.\n",
    "\n",
    "Les structures de données ont été introduites en programmation pour pallier aux limitations des objets et variables simples. Il existe différents types de structures de données selon le langage. En python, il en existe quatre principaux :\n",
    "\n",
    "* les listes\n",
    "* les tuples\n",
    "* les dictionnaires\n",
    "* les ensembles\n",
    "\n",
    "Les listes et les tuples sont abordés dans ce chapitre. Les dictionnaires feront l'objet d'un autre chapitre.\n",
    "\n",
    "## Les listes\n",
    "\n",
    "Une liste est une séquence d'éléments (i.e., une collection ordonnée d'objets) dont les types peuvent être différents. Chaque élément figure à une place précise dans la liste (on parle aussi d'**indice**, de **position** ou de **rang**) qui permet de le repérer et d'y accéder. On dit en particulier qu'une liste est indexée sur les indices de ses éléments. Le nombre d'éléments stockés dans une liste est quelconque et peut varier au cours d'un programme. Une liste est un objet Python « muable ». Cela signifie qu'on peut effectuer sur une liste des manipulations entraînant la modification de ses éléments. Une variable référençant une liste peut donc être modifiée sans passer par une affectation.\n",
    "\n",
    "## Notation et création d'une liste\n",
    "\n",
    "La notation d'une liste s'effectue à l'aide des crochets :\n",
    "\n",
    "* `[` pour indiquer le début de la liste\n",
    "* `]` pour indiquer la fin de la liste\n",
    "\n",
    "À l'intérieur des crochets, les différents éléments de la liste sont séparés par des virgules. Par exemple : `[3.1416, 25, 154, \"fromage\", \"dessert\"]`. Il existe un cas particulier de liste : la liste vide ne contenant aucun élément. Dans ce cas, la notation s'effectue avec uniquement les crochets : `[]`.\n",
    "Les éléments d'une liste sont indexés sur leur rang dans la liste, en commençant par 0 (rang du premier élément), puis 1 (rang du deuxième élément), etc.\n",
    "\n",
    "![Exemple de liste](ImagesNotebook/ExempleListe.PNG)\n",
    "\n",
    "\n",
    "Une liste doit être mémorisée dans une variable (on parle alors de **variable structurée**). Par exemple : `bazar = [3.1416, 25, 154, \"fromage\", \"dessert\"]`. Le nom de la variable est alors appelé son identifiant et permet de la référencer dans le programme. \n",
    "\n",
    "## Accès aux éléments d'une liste\n",
    "\n",
    "L'accès aux éléments d'une liste se fait à l'aide de leurs rangs dans la liste avec la notation suivante :\n"
   ]
  },
  {
   "cell_type": "code",
   "execution_count": null,
   "id": "b3f27165-25c0-4e10-9109-71bc5967cab3",
   "metadata": {},
   "outputs": [],
   "source": [
    "id_liste[pos]"
   ]
  },
  {
   "cell_type": "markdown",
   "id": "01bb56b5-3005-4b65-94c3-d26da89c4c57",
   "metadata": {},
   "source": [
    "où `id_liste` est le nom de la variable référençant la liste et `pos` est la position occupée par l'élément dans la liste. La position indiquée doit correspondre à un élément, sous peine de déclencher une erreur d'exécution. Le programme suivant effectue des accès aux éléments d'une liste."
   ]
  },
  {
   "cell_type": "code",
   "execution_count": 12,
   "id": "8736299f-1bf5-4dd5-92c3-b06e4e5408a2",
   "metadata": {},
   "outputs": [
    {
     "name": "stdout",
     "output_type": "stream",
     "text": [
      "Le premier élément de la liste est : 3.1416\n",
      "Le troisième élément de la liste est : 154\n",
      "Le dernier élément de la liste est : dessert\n"
     ]
    },
    {
     "ename": "IndexError",
     "evalue": "list index out of range",
     "output_type": "error",
     "traceback": [
      "\u001b[1;31m---------------------------------------------------------------------------\u001b[0m",
      "\u001b[1;31mIndexError\u001b[0m                                Traceback (most recent call last)",
      "Input \u001b[1;32mIn [12]\u001b[0m, in \u001b[0;36m<cell line: 5>\u001b[1;34m()\u001b[0m\n\u001b[0;32m      3\u001b[0m \u001b[38;5;28mprint\u001b[39m(\u001b[38;5;124mf\u001b[39m\u001b[38;5;124m\"\u001b[39m\u001b[38;5;124mLe troisième élément de la liste est : \u001b[39m\u001b[38;5;132;01m{\u001b[39;00mbazar[\u001b[38;5;241m2\u001b[39m]\u001b[38;5;132;01m}\u001b[39;00m\u001b[38;5;124m\"\u001b[39m)\n\u001b[0;32m      4\u001b[0m \u001b[38;5;28mprint\u001b[39m(\u001b[38;5;124mf\u001b[39m\u001b[38;5;124m\"\u001b[39m\u001b[38;5;124mLe dernier élément de la liste est : \u001b[39m\u001b[38;5;132;01m{\u001b[39;00mbazar[\u001b[38;5;241m4\u001b[39m]\u001b[38;5;132;01m}\u001b[39;00m\u001b[38;5;124m\"\u001b[39m)\n\u001b[1;32m----> 5\u001b[0m \u001b[38;5;28mprint\u001b[39m(\u001b[38;5;124mf\u001b[39m\u001b[38;5;124m\"\u001b[39m\u001b[38;5;124mLe sixième élément de la liste n\u001b[39m\u001b[38;5;124m'\u001b[39m\u001b[38;5;124mexiste pas \u001b[39m\u001b[38;5;132;01m{\u001b[39;00mbazar[\u001b[38;5;241m5\u001b[39m]\u001b[38;5;132;01m}\u001b[39;00m\u001b[38;5;124m. Cette instruction doit produire une erreur.\u001b[39m\u001b[38;5;124m\"\u001b[39m)\n",
      "\u001b[1;31mIndexError\u001b[0m: list index out of range"
     ]
    }
   ],
   "source": [
    "bazar = [3.1416, 25, 154, \"fromage\", \"dessert\"]\n",
    "print(f\"Le premier élément de la liste est : {bazar[0]}\")\n",
    "print(f\"Le troisième élément de la liste est : {bazar[2]}\")\n",
    "print(f\"Le dernier élément de la liste est : {bazar[4]}\")\n",
    "print(f\"Le sixième élément de la liste n'existe pas {bazar[5]}. Cette instruction doit produire une erreur.\")"
   ]
  },
  {
   "cell_type": "markdown",
   "id": "69e7feb1-a709-4f5e-ab22-3e3df8c67123",
   "metadata": {},
   "source": [
    "La dernière instruction de ce programme produit une erreur. En effet, elle contient un accès au sixième élément de la liste : `bazar[5]`. Or cet élément n'existe pas puisque la liste n'en comporte que cinq.\n",
    "\n",
    "La valeur de la position fournie lors de l'accès à un élément peut être négative. Dans ce cas, l'accès aux élements s'effectue à partir de la fin de la liste. Le dernier élément figure alors à la position -1, l'avant-dernier élément à la position -2, etc. "
   ]
  },
  {
   "cell_type": "code",
   "execution_count": 3,
   "id": "bcd96d2a-cafb-4dd9-8b42-96a1ae36837f",
   "metadata": {},
   "outputs": [
    {
     "name": "stdout",
     "output_type": "stream",
     "text": [
      "L'élément de position -1 est : dessert\n",
      "L'élément de position -5 est : 3.1416\n"
     ]
    }
   ],
   "source": [
    "print(f\"L'élément de position -1 est : {bazar[-1]}\")\n",
    "print(f\"L'élément de position -5 est : {bazar[-5]}\")"
   ]
  },
  {
   "cell_type": "markdown",
   "id": "ca27863a-397a-4a3c-bd6f-e266aef60c31",
   "metadata": {},
   "source": [
    "## Accès à une sous-liste (« list slicing »)\n",
    "\n",
    "En Python, une sous-liste (on dit aussi une « tranche » de liste) est une sous-séquence de ses éléments, qui débute à partir d'une position de début comprise, et qui se termine à une position de fin non comprise. La syntaxe générale d'accès à une sous-liste est la suivante&nbsp;:"
   ]
  },
  {
   "cell_type": "code",
   "execution_count": null,
   "id": "adb9d20e-1a66-4277-9d5a-a168a856486b",
   "metadata": {},
   "outputs": [],
   "source": [
    "id_liste[pos_deb:pos_fin]"
   ]
  },
  {
   "cell_type": "markdown",
   "id": "a6be1206-aae0-4263-91c0-e0edc2bb5bdd",
   "metadata": {},
   "source": [
    "où `pos_deb` est la position du premier élément de la sous-liste et `pos_fin` est la position du premier élément non compris dans la sous-liste. Les éléments composant la sous-liste sont donc ceux compris entre la position `pos_deb` et la position `pos_fin-1`."
   ]
  },
  {
   "cell_type": "code",
   "execution_count": 1,
   "id": "15de0ded-422e-4cf2-aafa-22863fdbd95d",
   "metadata": {},
   "outputs": [
    {
     "name": "stdout",
     "output_type": "stream",
     "text": [
      "Premier exemple de slicing : [25, 154]\n",
      "Deuxième exemple de slicing : [154, 'fromage']\n",
      "Troisième exemple de slicing : [25, 154, 'fromage']\n"
     ]
    }
   ],
   "source": [
    "bazar = [3.1416, 25, 154, \"fromage\", \"dessert\"]\n",
    "print(f\"Premier exemple de slicing : {bazar[1:3]}\")\n",
    "print(f\"Deuxième exemple de slicing : {bazar[-3:-1]}\")\n",
    "print(f\"Troisième exemple de slicing : {bazar[1:-1]}\")"
   ]
  },
  {
   "cell_type": "markdown",
   "id": "ce05065e-d60b-4c12-b856-d2156f3d1a35",
   "metadata": {},
   "source": [
    "Il est possible d'omettre la position `pos_fin`. Dans ce cas, la sous-liste contient tous les éléments à partir de la position `pos_deb` jusqu'à la fin de la liste. "
   ]
  },
  {
   "cell_type": "code",
   "execution_count": 7,
   "id": "aa125ff8-5181-405d-bde6-10098839de0f",
   "metadata": {},
   "outputs": [
    {
     "name": "stdout",
     "output_type": "stream",
     "text": [
      "bazar[3:] = ['fromage', 'dessert']\n",
      "bazar[-4:] = [25, 154, 'fromage', 'dessert']\n"
     ]
    }
   ],
   "source": [
    "print(f\"bazar[3:] = {bazar[3:]}\")\n",
    "print(f\"bazar[-4:] = {bazar[-4:]}\")"
   ]
  },
  {
   "cell_type": "markdown",
   "id": "49934fed-74da-491e-a90f-c7ff34dfa499",
   "metadata": {},
   "source": [
    "Il est possible d'omettre la position `pos_deb`. Dans ce cas, la sous-liste contient tous les éléments à partir du début de la liste jusqu'à l'élément de rang `pos_fin-1`."
   ]
  },
  {
   "cell_type": "code",
   "execution_count": 9,
   "id": "e0a07e8b-eb46-48f9-b73a-009526c925f9",
   "metadata": {},
   "outputs": [
    {
     "name": "stdout",
     "output_type": "stream",
     "text": [
      "bazar[:3] = [3.1416, 25, 154]\n",
      "bazar[:-3] = [3.1416, 25]\n"
     ]
    }
   ],
   "source": [
    "print(f\"bazar[:3] = {bazar[:3]}\")\n",
    "print(f\"bazar[:-3] = {bazar[:-3]}\")"
   ]
  },
  {
   "cell_type": "markdown",
   "id": "c06a2b69-3f01-4014-a399-e9639df64ebd",
   "metadata": {},
   "source": [
    "Dans les exemples précédents, tous les éléments des sous-listes sont adjacents dans la liste initiale (i.e., ils sont stockés les uns à côté des autres). Il est possible d'extraire une sous-liste dont les éléments ne sont pas adjacents dans la liste initiale. On parle alors de « slicing » étendu. Dans ce cas, il faut ajouter entre les crochets un troisième nombre, appelé le **pas**, correspondant à l'écart qu'il doit y avoir entre les positions des éléments à extraire&nbsp;:"
   ]
  },
  {
   "cell_type": "code",
   "execution_count": null,
   "id": "34138729-572b-4e1f-9de5-d21d85f48ac5",
   "metadata": {},
   "outputs": [],
   "source": [
    "id_liste[pos_deb:pos_fin:pas]"
   ]
  },
  {
   "cell_type": "markdown",
   "id": "1af02b7d-168c-4ea9-b566-b381db3b8cea",
   "metadata": {},
   "source": [
    "Voici ci-dessous des exemples de « slicing » étendu&nbsp;:"
   ]
  },
  {
   "cell_type": "code",
   "execution_count": 2,
   "id": "245ddf81-84d7-415d-83cd-ef37ed228d53",
   "metadata": {},
   "outputs": [
    {
     "name": "stdout",
     "output_type": "stream",
     "text": [
      "Extraction de la position 2 à la position 15, de 2 en 2 : alphabet[2:16:2] = ['c', 'e', 'g', 'i', 'k', 'm', 'o'].\n",
      "Extraction de la position 0 à la position 25, de 4 en 4 : alphabet[0:26:4] = ['a', 'e', 'i', 'm', 'q', 'u', 'y'].\n"
     ]
    }
   ],
   "source": [
    "alphabet = ['a', 'b', 'c', 'd', 'e', 'f', 'g', 'h', 'i', 'j', 'k', 'l', 'm', 'n', 'o', 'p', 'q', 'r', 's', 't', 'u', 'v', 'w', 'x', 'y', 'z']\n",
    "print(f\"Extraction de la position 2 à la position 15 comprises, de 2 en 2 : alphabet[2:16:2] = {alphabet[2:16:2]}.\")\n",
    "print(f\"Extraction de la position 0 à la position 25 comprises, de 4 en 4 : alphabet[0:26:4] = {alphabet[0:26:4]}.\")"
   ]
  },
  {
   "cell_type": "markdown",
   "id": "5fe49781-6756-4700-9eec-2a786266c6b0",
   "metadata": {},
   "source": [
    "La valeur de `pas` peut-être négative. L'extraction s'effectue alors de droite à gauche à partir de `pos_deb` jusqu'à `pos_fin+1`. Dans ce cas, il faut impérativement que `pos_deb` soit strictement supérieure à `pos_fin` sous peine d'avoir un résultat vide."
   ]
  },
  {
   "cell_type": "code",
   "execution_count": 5,
   "id": "47282d2c-0229-4100-b6af-c38c522d190b",
   "metadata": {},
   "outputs": [
    {
     "name": "stdout",
     "output_type": "stream",
     "text": [
      "Extraction de la position 20 à la position 5 comprises, de -2 en -2 : alphabet[20:4:-2] = ['u', 's', 'q', 'o', 'm', 'k', 'i', 'g'].\n",
      "Extraction de la position 5 à la position 20 comprises, de -2 en -2 : alphabet[5:21:-2] = [].\n"
     ]
    }
   ],
   "source": [
    "print(f\"Extraction de la position 20 à la position 5 comprises, de -2 en -2 : alphabet[20:4:-2] = {alphabet[20:4:-2]}.\")\n",
    "print(f\"Extraction de la position 5 à la position 20 comprises, de -2 en -2 : alphabet[5:21:-2] = {alphabet[5:21:-2]}.\")"
   ]
  },
  {
   "cell_type": "markdown",
   "id": "8488d1df-13ac-49c4-9ae5-7d713cb57e9f",
   "metadata": {},
   "source": [
    "Les valeurs de `pos_deb` et `pos_fin` peuvent être omises, comme l'illustrent les exemples ci-dessous."
   ]
  },
  {
   "cell_type": "code",
   "execution_count": 10,
   "id": "9e329af8-3e9c-4ca4-9f55-8092eb620077",
   "metadata": {},
   "outputs": [
    {
     "name": "stdout",
     "output_type": "stream",
     "text": [
      "alphabet[:7:2] = ['a', 'c', 'e', 'g'].\n",
      "alphabet[3::2] = ['d', 'f', 'h', 'j', 'l', 'n', 'p', 'r', 't', 'v', 'x', 'z'].\n",
      "alphabet[:3:-2] = ['z', 'x', 'v', 't', 'r', 'p', 'n', 'l', 'j', 'h', 'f'].\n",
      "alphabet[7::-2] = ['h', 'f', 'd', 'b'].\n",
      "alphabet[::-1] = ['z', 'y', 'x', 'w', 'v', 'u', 't', 's', 'r', 'q', 'p', 'o', 'n', 'm', 'l', 'k', 'j', 'i', 'h', 'g', 'f', 'e', 'd', 'c', 'b', 'a'].\n"
     ]
    }
   ],
   "source": [
    "print(f\"alphabet[:7:2] = {alphabet[:7:2]}.\")\n",
    "print(f\"alphabet[3::2] = {alphabet[3::2]}.\")\n",
    "print(f\"alphabet[:3:-2] = {alphabet[:3:-2]}.\")\n",
    "print(f\"alphabet[7::-2] = {alphabet[7::-2]}.\")\n",
    "print(f\"alphabet[::-1] = {alphabet[::-1]}.\")"
   ]
  },
  {
   "cell_type": "markdown",
   "id": "527b7294-72f7-4233-bebb-a76ec19f0318",
   "metadata": {},
   "source": [
    "Notons que le dernier exemple `alphabet[::-1]` est particulièrement intéressant. La valeur de `pas` est de -1, donc les caractères extraits seront adjacents. Comme il s'agit d'une valeur négative, l'extraction se fait de droite à gauche en commençant par la fin de la liste (puisque `pos_deb` est omise) jusqu'au début de la liste (puisque `pos_fin` est omise). On extrait donc tous les caractères situés de la fin de la liste jusqu'à son début : cela revient tout simplement à inverser la liste ! \n",
    "\n",
    "Ajoutons pour terminer que toutes les opérations de « slicing » présentées ici sur les listes sont utilisables également sur les chaînes pour extraire des sous-chaînes.\n",
    "\n",
    "## Opérations, fonctions et instructions usuelles sur les listes\n",
    "\n",
    "### Taille d'une liste : la fonction **len()**\n",
    "\n",
    "La taille d'une liste est le nombre d'élements qu'elle contient. La fonction **len()**&nbsp;:\n",
    "\n",
    "* prend en paramètre une liste\n",
    "* retourne en résultat un nombre entier égal à la taille de cette liste"
   ]
  },
  {
   "cell_type": "code",
   "execution_count": 2,
   "id": "39eec3c0-e02e-44c2-9417-5d3d11d61d15",
   "metadata": {},
   "outputs": [
    {
     "name": "stdout",
     "output_type": "stream",
     "text": [
      "La taille de la liste bazar est : 5\n",
      "La taille de la liste alphabet est : 26\n"
     ]
    }
   ],
   "source": [
    "bazar = [3.1416, 25, 154, \"fromage\", \"dessert\"]\n",
    "alphabet = ['a', 'b', 'c', 'd', 'e', 'f', 'g', 'h', 'i', 'j', 'k', 'l', 'm', 'n', 'o', 'p', 'q', 'r', 's', 't', 'u', 'v', 'w', 'x', 'y', 'z']\n",
    "print(f\"La taille de la liste bazar est : {len(bazar)}\")\n",
    "print(f\"La taille de la liste alphabet est : {len(alphabet)}\")"
   ]
  },
  {
   "cell_type": "markdown",
   "id": "879b4a1b-b541-49c1-9f9c-fb0e93df80da",
   "metadata": {},
   "source": [
    "### Modification d'un élément existant\n",
    "\n",
    "Un élément d'une liste peut être modifié à l'aide d'une simple opération d'affectation. La syntaxe est la suivante&nbsp;:"
   ]
  },
  {
   "cell_type": "code",
   "execution_count": null,
   "id": "18c9e426-81c5-4816-840b-f28f9f77176a",
   "metadata": {},
   "outputs": [],
   "source": [
    "id_liste[pos] = valeur"
   ]
  },
  {
   "cell_type": "markdown",
   "id": "43cec883-ea16-4220-a13c-c8fac1e79aaf",
   "metadata": {},
   "source": [
    "où &nbsp;:\n",
    "\n",
    "* `id_liste` est l'identifiant de la liste\n",
    "* `pos` est la position occupée par l'élément à modifier\n",
    "* `valeur` est la nouvelle valeur de l'élément"
   ]
  },
  {
   "cell_type": "code",
   "execution_count": 3,
   "id": "abc1cbba-3498-4e2d-84bd-7f75667e24a2",
   "metadata": {},
   "outputs": [
    {
     "name": "stdout",
     "output_type": "stream",
     "text": [
      "Liste bazar avant modification : [3.1416, 25, 154, 'fromage', 'dessert']\n",
      "Liste bazar après modification : [3.1416, 28, 'bonjour', 'fromage', 'dessert']\n"
     ]
    }
   ],
   "source": [
    "print(f\"Liste bazar avant modification : {bazar}\")\n",
    "bazar[2] = 'bonjour'\n",
    "bazar[1] += 3\n",
    "print(f\"Liste bazar après modification : {bazar}\")"
   ]
  },
  {
   "cell_type": "markdown",
   "id": "764448b3-eecc-48a8-acba-cb51222b7785",
   "metadata": {},
   "source": [
    "### Suppression d'élément(s) : l'instruction **del**\n",
    "\n",
    "L'instruction **del** permet de supprimer un élément ou une sous-liste dans une liste existante. Deux syntaxes sont possibles&nbsp;:"
   ]
  },
  {
   "cell_type": "code",
   "execution_count": null,
   "id": "4b3225fd-5c7f-46bb-9a1d-c5c1abbbc28d",
   "metadata": {},
   "outputs": [],
   "source": [
    "del id_liste[pos]"
   ]
  },
  {
   "cell_type": "markdown",
   "id": "554b39f2-c882-4a0f-b400-3ccf57a6a76b",
   "metadata": {},
   "source": [
    "qui va supprimer de la liste `id_liste` l'élément situé à la position `pos`;"
   ]
  },
  {
   "cell_type": "code",
   "execution_count": null,
   "id": "24edf003-1adf-4911-8e8c-a0f6c9f61fdd",
   "metadata": {},
   "outputs": [],
   "source": [
    "del id_liste[pos_deb:pos_fin]"
   ]
  },
  {
   "cell_type": "markdown",
   "id": "24688fb6-6a79-41f9-83ba-6c0791d340c7",
   "metadata": {},
   "source": [
    "qui va supprimer de la liste `id_liste` la sous-liste comprise entre les positions `pos_deb` et `pos_fin-1`."
   ]
  },
  {
   "cell_type": "code",
   "execution_count": 15,
   "id": "4450c9d2-4dfd-46e9-a5fc-07dcfb89c0e8",
   "metadata": {},
   "outputs": [
    {
     "name": "stdout",
     "output_type": "stream",
     "text": [
      "Liste bazar avant première suppression : [3.1416, 28, 'bonjour', 'fromage', 'dessert']\n",
      "Liste bazar après première suppression : [3.1416, 28, 'fromage', 'dessert']\n",
      "Liste bazar après deuxième suppression : [3.1416, 'dessert']\n"
     ]
    }
   ],
   "source": [
    "print(f\"Liste bazar avant première suppression : {bazar}\")\n",
    "del bazar[2]\n",
    "print(f\"Liste bazar après première suppression : {bazar}\")\n",
    "del bazar[1:3]\n",
    "print(f\"Liste bazar après deuxième suppression : {bazar}\")"
   ]
  },
  {
   "cell_type": "markdown",
   "id": "3da2d2d6-fb1c-4236-81ce-3da744468a1c",
   "metadata": {},
   "source": [
    "### Concaténation de listes : l'opérateur **+**\n",
    "\n",
    "L'opérateur **+** permet de mettre bout à bout deux listes pour en construire une troisième. C'est ce qu'on appelle la **concaténation** de listes."
   ]
  },
  {
   "cell_type": "code",
   "execution_count": 16,
   "id": "214b2241-6e2c-4e85-abe8-0bfefbe6b55a",
   "metadata": {},
   "outputs": [
    {
     "name": "stdout",
     "output_type": "stream",
     "text": [
      "[1, 2, 3, 4]\n"
     ]
    }
   ],
   "source": [
    "debut = [1, 2]\n",
    "fin = [3, 4]\n",
    "total = debut + fin\n",
    "print(total)"
   ]
  },
  {
   "cell_type": "markdown",
   "id": "0541cfac-9500-4fee-bc39-8c8c4cd2f70e",
   "metadata": {},
   "source": [
    "Il permet également d'ajouter un nouvel élément soit en début de liste&nbsp;:"
   ]
  },
  {
   "cell_type": "code",
   "execution_count": null,
   "id": "266c6749-2f30-41f2-b3b3-345299644ef9",
   "metadata": {},
   "outputs": [],
   "source": [
    "id_liste = [nouveau] + id_liste"
   ]
  },
  {
   "cell_type": "markdown",
   "id": "6df2cd8e-4305-436a-8072-33d8504d4cb6",
   "metadata": {},
   "source": [
    "soit en fin de liste&nbsp;:"
   ]
  },
  {
   "cell_type": "code",
   "execution_count": null,
   "id": "1cedf4ed-84bc-496a-8af0-95f8dd9f7659",
   "metadata": {},
   "outputs": [],
   "source": [
    "id_liste = id_liste + [nouveau]"
   ]
  },
  {
   "cell_type": "markdown",
   "id": "c18e4620-e8c0-47c3-b764-74dc6a3066cb",
   "metadata": {},
   "source": [
    "ou bien&nbsp;:"
   ]
  },
  {
   "cell_type": "code",
   "execution_count": null,
   "id": "c2e78455-cb28-4153-ab0a-960fd2767e06",
   "metadata": {},
   "outputs": [],
   "source": [
    "id_liste += [nouveau]"
   ]
  },
  {
   "cell_type": "code",
   "execution_count": 17,
   "id": "fc18d215-4444-4c52-afc3-d918cfec6317",
   "metadata": {},
   "outputs": [
    {
     "name": "stdout",
     "output_type": "stream",
     "text": [
      "['A', 'B', 'C', 'D']\n"
     ]
    }
   ],
   "source": [
    "liste = ['B', 'C']\n",
    "liste = liste + ['D']\n",
    "liste = ['A'] + liste\n",
    "print(liste)"
   ]
  },
  {
   "cell_type": "markdown",
   "id": "e8898242-eec4-4201-916c-9f7ad5e18d7d",
   "metadata": {},
   "source": [
    "## Méthodes usuelles sur les listes\n",
    "\n",
    "En Python, une liste est un objet sur lequel on peut appliquer des **méthodes** (la programmation objet sera abordée en licence 2). Une méthode est une sorte de fonction ou d'instruction qui va agir sur un objet et retourner ou pas une valeur en résultat. La syntaxe générale d'application d'une méthode à un objet est la suivante&nbsp;:"
   ]
  },
  {
   "cell_type": "code",
   "execution_count": null,
   "id": "eddce5c3-74d2-43ca-8a2a-c5c865e20f15",
   "metadata": {},
   "outputs": [],
   "source": [
    "objet.methode(paramètres)"
   ]
  },
  {
   "cell_type": "markdown",
   "id": "82446a7c-92f4-4054-982d-b7c36989731e",
   "metadata": {},
   "source": [
    "où&nbsp;:\n",
    "\n",
    "* `objet` est l'objet ou la variable référençant l'objet sur lequel s'applique la méthode\n",
    "* `methode` est le nom de la méthode appliquée\n",
    "* `paramètres` est l'énumération des valeurs ou variables passées en paramètres de la méthode\n",
    "\n",
    "### Ajout d'un élément en fin de liste : la méthode **append()**\n",
    "\n",
    "La méthode **append()** prend en paramètre l'élément à ajouter à la liste. Elle ajoute cette élément à la fin de la liste et ne retourne aucune valeur. Elle peut donc être utilisée comme une instruction."
   ]
  },
  {
   "cell_type": "code",
   "execution_count": 18,
   "id": "17beab8a-b37a-4a9c-9466-35662f2bec81",
   "metadata": {},
   "outputs": [
    {
     "name": "stdout",
     "output_type": "stream",
     "text": [
      "['A', 'B', 'C']\n"
     ]
    }
   ],
   "source": [
    "liste = ['A', 'B']\n",
    "liste.append('C')\n",
    "print(liste)"
   ]
  },
  {
   "cell_type": "markdown",
   "id": "877769c3-0d15-4f6b-88e4-adf727820eae",
   "metadata": {},
   "source": [
    "### Extension d'une liste : la méthode **extend()**\n",
    "\n",
    "La méthode **extend()** s'applique à une liste initiale et prend en paramètre une seconde liste. Elle ajoute cette seconde liste à la fin de la liste initiale (ce qui revient à concaténer les deux listes). Elle ne retourne aucune valeur et peut être utilisée comme une instruction."
   ]
  },
  {
   "cell_type": "code",
   "execution_count": 19,
   "id": "c7650d8f-6f45-44f4-98f5-5ec84b7b2d58",
   "metadata": {},
   "outputs": [
    {
     "name": "stdout",
     "output_type": "stream",
     "text": [
      "['A', 'B', 'C', 'D']\n"
     ]
    }
   ],
   "source": [
    "liste = ['A', 'B']\n",
    "liste.extend(['C', 'D'])\n",
    "print(liste)"
   ]
  },
  {
   "cell_type": "markdown",
   "id": "eca5f299-bcdf-4603-8814-912822b190bb",
   "metadata": {},
   "source": [
    "### Insertion d'un élément à une position précise dans une liste : la méthode **insert()**\n",
    "\n",
    "La méthode **insert()** prend en paramètres&nbsp;:\n",
    "\n",
    "* un nombre entier correspondant à une position dans la liste\n",
    "* un élément à ajouter à la liste\n",
    "\n",
    "et ajoute l'élément dans la liste, à la position indiquée en paramètre. Elle ne retourne aucune valeur et peut être utilisée comme une instruction.\n",
    "Si la position est égale à 0, l'insertion de l'élément se fait au début de la liste. Si la position correspond à la longueur de la liste, l'insertion s'effectue en fin de liste."
   ]
  },
  {
   "cell_type": "code",
   "execution_count": 21,
   "id": "ee9a42c9-e29d-4253-ad39-e88427e4cffb",
   "metadata": {},
   "outputs": [
    {
     "name": "stdout",
     "output_type": "stream",
     "text": [
      "['A', 'B', 'D']\n",
      "['A', 'B', 'C', 'D']\n",
      "['A', 'B', 'C', 'D', 'E']\n"
     ]
    }
   ],
   "source": [
    "liste = ['B', 'D']\n",
    "liste.insert(0, 'A')\n",
    "print(liste)\n",
    "liste.insert(2, 'C')\n",
    "print(liste)\n",
    "liste.insert(len(liste), 'E')\n",
    "print(liste)"
   ]
  },
  {
   "cell_type": "markdown",
   "id": "77555deb-add1-48a3-948c-dd73a4b573a4",
   "metadata": {},
   "source": [
    "### Suppression d'un élément dans une liste : les méthodes **remove()** et **pop()**\n",
    "\n",
    "La méthode **remove()** prend en paramètre l'élément à supprimer de la liste et supprime de la liste la première occurrence de cet élément. Elle ne retourne aucune valeur et peut être utilisée comme une instruction. Si l'élément passé en paramètre ne figure pas dans la liste, une exception est levée et un message d'erreur s'affiche. La notion d'exception sera vue en licence 2."
   ]
  },
  {
   "cell_type": "code",
   "execution_count": 24,
   "id": "25d9ba63-06e5-4a5c-aea4-01c4899f2f67",
   "metadata": {},
   "outputs": [
    {
     "name": "stdout",
     "output_type": "stream",
     "text": [
      "['A', 'C', 'B', 'D', 'B']\n",
      "['A', 'B', 'D', 'B']\n"
     ]
    },
    {
     "ename": "ValueError",
     "evalue": "list.remove(x): x not in list",
     "output_type": "error",
     "traceback": [
      "\u001b[1;31m---------------------------------------------------------------------------\u001b[0m",
      "\u001b[1;31mValueError\u001b[0m                                Traceback (most recent call last)",
      "Input \u001b[1;32mIn [24]\u001b[0m, in \u001b[0;36m<cell line: 6>\u001b[1;34m()\u001b[0m\n\u001b[0;32m      4\u001b[0m liste\u001b[38;5;241m.\u001b[39mremove(\u001b[38;5;124m'\u001b[39m\u001b[38;5;124mC\u001b[39m\u001b[38;5;124m'\u001b[39m)\n\u001b[0;32m      5\u001b[0m \u001b[38;5;28mprint\u001b[39m(liste)\n\u001b[1;32m----> 6\u001b[0m \u001b[43mliste\u001b[49m\u001b[38;5;241;43m.\u001b[39;49m\u001b[43mremove\u001b[49m\u001b[43m(\u001b[49m\u001b[38;5;124;43m'\u001b[39;49m\u001b[38;5;124;43mC\u001b[39;49m\u001b[38;5;124;43m'\u001b[39;49m\u001b[43m)\u001b[49m\n",
      "\u001b[1;31mValueError\u001b[0m: list.remove(x): x not in list"
     ]
    }
   ],
   "source": [
    "liste = ['A', 'B', 'C', 'B', 'D', 'B']\n",
    "liste.remove('B')\n",
    "print(liste)\n",
    "liste.remove('C')\n",
    "print(liste)\n",
    "liste.remove('C')"
   ]
  },
  {
   "cell_type": "markdown",
   "id": "126c5bfe-07f0-401a-922e-2e65939e2b5d",
   "metadata": {},
   "source": [
    "La méthode **pop()** prend en paramètre la position de l'élément à supprimer, supprime cet élément de la liste et retourne ce même élément en résultat. Si la position passée en paramètre n'est pas valide, une exception est levée et un message d'erreur s'affiche. Si aucun paramètre n'est fourni à la méthode, elle supprime et retourne l'élément situé en première position."
   ]
  },
  {
   "cell_type": "code",
   "execution_count": 4,
   "id": "8b708619-75cd-47ab-8034-4935f46fdcdd",
   "metadata": {},
   "outputs": [
    {
     "name": "stdout",
     "output_type": "stream",
     "text": [
      "Liste initiale : ['A', 'B', 'C', 'B', 'D', 'B'].\n",
      "Voici la liste après suppression de l'élément D situé à la position 4 : ['A', 'B', 'C', 'B', 'B'].\n",
      "Voici la liste après suppression de l'élément A situé en tête de la liste : ['B', 'C', 'B', 'B'].\n",
      "Voici la liste après suppression de l'élément B situé en tête de la liste : ['B', 'C', 'B'].\n"
     ]
    },
    {
     "ename": "IndexError",
     "evalue": "pop index out of range",
     "output_type": "error",
     "traceback": [
      "\u001b[1;31m---------------------------------------------------------------------------\u001b[0m",
      "\u001b[1;31mIndexError\u001b[0m                                Traceback (most recent call last)",
      "Input \u001b[1;32mIn [4]\u001b[0m, in \u001b[0;36m<cell line: 9>\u001b[1;34m()\u001b[0m\n\u001b[0;32m      7\u001b[0m premier \u001b[38;5;241m=\u001b[39m liste\u001b[38;5;241m.\u001b[39mpop()\n\u001b[0;32m      8\u001b[0m \u001b[38;5;28mprint\u001b[39m(\u001b[38;5;124mf\u001b[39m\u001b[38;5;124m\"\u001b[39m\u001b[38;5;124mVoici la liste après suppression de l\u001b[39m\u001b[38;5;124m'\u001b[39m\u001b[38;5;124mélément \u001b[39m\u001b[38;5;132;01m{\u001b[39;00mpremier\u001b[38;5;132;01m}\u001b[39;00m\u001b[38;5;124m situé en tête de la liste : \u001b[39m\u001b[38;5;132;01m{\u001b[39;00mliste\u001b[38;5;132;01m}\u001b[39;00m\u001b[38;5;124m.\u001b[39m\u001b[38;5;124m\"\u001b[39m)\n\u001b[1;32m----> 9\u001b[0m eltpos8 \u001b[38;5;241m=\u001b[39m \u001b[43mliste\u001b[49m\u001b[38;5;241;43m.\u001b[39;49m\u001b[43mpop\u001b[49m\u001b[43m(\u001b[49m\u001b[38;5;241;43m8\u001b[39;49m\u001b[43m)\u001b[49m\n\u001b[0;32m     10\u001b[0m \u001b[38;5;28mprint\u001b[39m(\u001b[38;5;124mf\u001b[39m\u001b[38;5;124m\"\u001b[39m\u001b[38;5;124mVoici la liste après suppression de l\u001b[39m\u001b[38;5;124m'\u001b[39m\u001b[38;5;124mélément \u001b[39m\u001b[38;5;132;01m{\u001b[39;00meltpos8\u001b[38;5;132;01m}\u001b[39;00m\u001b[38;5;124m situé à la position 8 : \u001b[39m\u001b[38;5;132;01m{\u001b[39;00mliste\u001b[38;5;132;01m}\u001b[39;00m\u001b[38;5;124m.\u001b[39m\u001b[38;5;124m\"\u001b[39m)\n",
      "\u001b[1;31mIndexError\u001b[0m: pop index out of range"
     ]
    }
   ],
   "source": [
    "liste = ['A', 'B', 'C', 'B', 'D', 'B']\n",
    "print(f\"Liste initiale : {liste}.\")\n",
    "eltpos4 = liste.pop(4)\n",
    "print(f\"Voici la liste après suppression de l'élément {eltpos4} situé à la position 4 : {liste}.\")\n",
    "premier = liste.pop(0)\n",
    "print(f\"Voici la liste après suppression de l'élément {premier} situé en tête de la liste : {liste}.\")\n",
    "premier = liste.pop()\n",
    "print(f\"Voici la liste après suppression de l'élément {premier} situé en tête de la liste : {liste}.\")\n",
    "eltpos8 = liste.pop(8)\n",
    "print(f\"Voici la liste après suppression de l'élément {eltpos8} situé à la position 8 : {liste}.\")"
   ]
  },
  {
   "cell_type": "markdown",
   "id": "8f66120b-8103-4e82-9641-347f7486883d",
   "metadata": {},
   "source": [
    "### Position d'un élément dans une liste : la méthode **index()**\n",
    "\n",
    "La méthode **index()** prend en paramètre un élément et retourne la position de la première occurrence de cet élément dans la liste. Une exception est levée si l'élément ne figure pas dans la liste."
   ]
  },
  {
   "cell_type": "code",
   "execution_count": 25,
   "id": "81f8741d-929f-48e0-b459-1bed4037b70d",
   "metadata": {},
   "outputs": [
    {
     "name": "stdout",
     "output_type": "stream",
     "text": [
      "2\n",
      "1\n"
     ]
    },
    {
     "ename": "ValueError",
     "evalue": "'E' is not in list",
     "output_type": "error",
     "traceback": [
      "\u001b[1;31m---------------------------------------------------------------------------\u001b[0m",
      "\u001b[1;31mValueError\u001b[0m                                Traceback (most recent call last)",
      "Input \u001b[1;32mIn [25]\u001b[0m, in \u001b[0;36m<cell line: 4>\u001b[1;34m()\u001b[0m\n\u001b[0;32m      2\u001b[0m \u001b[38;5;28mprint\u001b[39m(liste\u001b[38;5;241m.\u001b[39mindex(\u001b[38;5;124m'\u001b[39m\u001b[38;5;124mC\u001b[39m\u001b[38;5;124m'\u001b[39m))\n\u001b[0;32m      3\u001b[0m \u001b[38;5;28mprint\u001b[39m(liste\u001b[38;5;241m.\u001b[39mindex(\u001b[38;5;124m'\u001b[39m\u001b[38;5;124mB\u001b[39m\u001b[38;5;124m'\u001b[39m))\n\u001b[1;32m----> 4\u001b[0m \u001b[38;5;28mprint\u001b[39m(\u001b[43mliste\u001b[49m\u001b[38;5;241;43m.\u001b[39;49m\u001b[43mindex\u001b[49m\u001b[43m(\u001b[49m\u001b[38;5;124;43m'\u001b[39;49m\u001b[38;5;124;43mE\u001b[39;49m\u001b[38;5;124;43m'\u001b[39;49m\u001b[43m)\u001b[49m)\n",
      "\u001b[1;31mValueError\u001b[0m: 'E' is not in list"
     ]
    }
   ],
   "source": [
    "liste = ['A', 'B', 'C', 'B', 'D', 'B']\n",
    "print(liste.index('C'))\n",
    "print(liste.index('B'))\n",
    "print(liste.index('E'))"
   ]
  },
  {
   "cell_type": "markdown",
   "id": "68566b15-b074-441d-ad1b-b27cd9a805bf",
   "metadata": {},
   "source": [
    "### Comptage du nombre d'occurrences d'un élément : la méthode **count()**\n",
    "\n",
    "La méthode **count()** prend en paramètre un élément et retourne le nombre d'occurrences de cet élément dans la liste."
   ]
  },
  {
   "cell_type": "code",
   "execution_count": 26,
   "id": "ea4e73f4-4444-4b7c-8ce0-95dc2b3ef5cc",
   "metadata": {},
   "outputs": [
    {
     "name": "stdout",
     "output_type": "stream",
     "text": [
      "Dans la liste, la lettre C apparaît 1 fois, la lettre B 3 fois et la lettre E 0 fois.\n"
     ]
    }
   ],
   "source": [
    "liste = ['A', 'B', 'C', 'B', 'D', 'B']\n",
    "nb_C = liste.count('C')\n",
    "nb_B = liste.count('B')\n",
    "nb_E = liste.count('E')\n",
    "print(f\"Dans la liste, la lettre C apparaît {nb_C} fois, la lettre B {nb_B} fois et la lettre E {nb_E} fois.\")"
   ]
  },
  {
   "cell_type": "markdown",
   "id": "2bc1e476-90bc-4f49-9454-28fdb2b99158",
   "metadata": {},
   "source": [
    "### Tri des éléments d'une liste : la méthode **sort()**\n",
    "\n",
    "La méthode **sort()** permet de trier les éléments d'une liste. Elle ne retourne aucune valeur et peut être utilisée comme une instruction. La nature du tri dépend du type des éléments. Si ceux-ci sont numériques, le tri le sera également. "
   ]
  },
  {
   "cell_type": "code",
   "execution_count": 3,
   "id": "4589d03b-a0b9-46a0-9d09-17ee5b435749",
   "metadata": {},
   "outputs": [
    {
     "name": "stdout",
     "output_type": "stream",
     "text": [
      "Exemple de liste numérique triée : [6, 34, 126, 6148]\n"
     ]
    }
   ],
   "source": [
    "liste_num = [126, 6, 6148, 34]\n",
    "liste_num.sort()\n",
    "print(f\"Exemple de liste numérique triée : {liste_num}\")"
   ]
  },
  {
   "cell_type": "markdown",
   "id": "36f15741-7018-4313-879a-fe4bd86df211",
   "metadata": {},
   "source": [
    "Si les éléments sont textuels (chaînes), le tri sera lexicographique (i.e. à peu près équivalent au tri alphabétique)."
   ]
  },
  {
   "cell_type": "code",
   "execution_count": 4,
   "id": "8617f8d3-4e3e-49f9-9b42-33e4fa24ac30",
   "metadata": {},
   "outputs": [
    {
     "name": "stdout",
     "output_type": "stream",
     "text": [
      "Exemple de liste de lettres triée : ['A', 'B', 'B', 'B', 'C', 'D']\n",
      "Exemple de liste de chaînes triée : ['126', '34', '6', '6148']\n"
     ]
    }
   ],
   "source": [
    "liste_lettre = ['A', 'B', 'C', 'B', 'D', 'B']\n",
    "liste_lettre.sort()\n",
    "print(f\"Exemple de liste de lettres triée : {liste_lettre}\")\n",
    "liste_ch = ['126', '6', '6148', '34']\n",
    "liste_ch.sort()\n",
    "print(f\"Exemple de liste de chaînes triée : {liste_ch}\")"
   ]
  },
  {
   "cell_type": "markdown",
   "id": "079bf8d0-22cd-46c3-aa17-def929fc4604",
   "metadata": {},
   "source": [
    "L'application de cette méthode sur une liste mixte (i.e. une liste contenant des éléments de types différents), provoque la levée d'une exception puisque le tri n'a pas de sens dans ce cas."
   ]
  },
  {
   "cell_type": "code",
   "execution_count": 5,
   "id": "600aaf9b-6801-4691-8a81-49b2a9e1d880",
   "metadata": {},
   "outputs": [
    {
     "ename": "TypeError",
     "evalue": "'<' not supported between instances of 'str' and 'float'",
     "output_type": "error",
     "traceback": [
      "\u001b[1;31m---------------------------------------------------------------------------\u001b[0m",
      "\u001b[1;31mTypeError\u001b[0m                                 Traceback (most recent call last)",
      "Input \u001b[1;32mIn [5]\u001b[0m, in \u001b[0;36m<cell line: 2>\u001b[1;34m()\u001b[0m\n\u001b[0;32m      1\u001b[0m melange \u001b[38;5;241m=\u001b[39m [\u001b[38;5;241m3.1416\u001b[39m, \u001b[38;5;124m'\u001b[39m\u001b[38;5;124mfromage\u001b[39m\u001b[38;5;124m'\u001b[39m, \u001b[38;5;241m154\u001b[39m, \u001b[38;5;241m25\u001b[39m, \u001b[38;5;124m'\u001b[39m\u001b[38;5;124mdessert\u001b[39m\u001b[38;5;124m'\u001b[39m, \u001b[38;5;124m'\u001b[39m\u001b[38;5;124mfromage\u001b[39m\u001b[38;5;124m'\u001b[39m]\n\u001b[1;32m----> 2\u001b[0m \u001b[43mmelange\u001b[49m\u001b[38;5;241;43m.\u001b[39;49m\u001b[43msort\u001b[49m\u001b[43m(\u001b[49m\u001b[43m)\u001b[49m\n",
      "\u001b[1;31mTypeError\u001b[0m: '<' not supported between instances of 'str' and 'float'"
     ]
    }
   ],
   "source": [
    "melange = [3.1416, 'fromage', 154, 25, 'dessert', 'fromage']\n",
    "melange.sort()"
   ]
  },
  {
   "cell_type": "markdown",
   "id": "7d864e21-43c7-4129-81db-bac2e6a6522b",
   "metadata": {},
   "source": [
    "Par défaut, le tri s'effectue dans l'ordre croissant. Pour réaliser un tri décroissant, il faut appliquer la méthode `sort()` avec la valeur `True` pour le paramètre `reverse`."
   ]
  },
  {
   "cell_type": "code",
   "execution_count": 6,
   "id": "b5253098-de27-4380-a845-610386b7e96e",
   "metadata": {},
   "outputs": [
    {
     "name": "stdout",
     "output_type": "stream",
     "text": [
      "Exemple de tri décroissant : [6148, 126, 34, 6].\n"
     ]
    }
   ],
   "source": [
    "liste = [126, 6, 6148, 34]\n",
    "liste.sort(reverse=True)\n",
    "print(f\"Exemple de tri décroissant : {liste}.\")"
   ]
  },
  {
   "cell_type": "markdown",
   "id": "e73fe9dd-13c3-4b10-a85e-364181b605bf",
   "metadata": {},
   "source": [
    "Pour personnaliser encore plus les critères du tri, il est également possible d'ajouter d'autres paramètres à la méthode `sort()` comme par exemple&nbsp;:\n",
    "\n",
    "* `cmp` : la fonction de comparaison entre deux éléments (fonction avec deux paramètres)\n",
    "* `key` : la fonction calculant la clé de tri pour chaque élément. Le tri s'effectue alors selon les clés des éléments.\n",
    "\n",
    "Supposons par exemple qu'on ait besoin de trier une liste de mots (chaînes) en ordre croissant de leurs longueurs (i.e. de leurs nombres de lettres). La fonction qui calcule la longueur d'une chaîne est `len()`. Pour trier en fonction de la longueur, il faut alors appliquer la méthode `sort()` avec `len()` comme clé de tri, c'est-à-dire avec la valeur `len` pour le paramètre `key`. "
   ]
  },
  {
   "cell_type": "code",
   "execution_count": 7,
   "id": "1d8f138e-1793-4291-a950-985be264801a",
   "metadata": {},
   "outputs": [
    {
     "name": "stdout",
     "output_type": "stream",
     "text": [
      "Exemple de tri de chaînes selon la longueur : ['kiwi', 'poire', 'pomme', 'orange', 'cerise', 'framboise']\n"
     ]
    }
   ],
   "source": [
    "liste_mots = ['orange', 'poire', 'pomme', 'framboise', 'kiwi', 'cerise']\n",
    "liste_mots.sort(key=len)\n",
    "print(f\"Exemple de tri de chaînes selon la longueur : {liste_mots}\")"
   ]
  },
  {
   "cell_type": "markdown",
   "id": "466969cb-eead-4426-8df5-537f473e4795",
   "metadata": {},
   "source": [
    "Notons à travers cet exemple que si deux chaînes de la liste ont même longueur, elles n'apparaissent pas en ordre alphabétique dans le résultat. Cela est normal puisque la clé de tri a été remplacée par la fonction `len()` et que l'ordre lexicographique ne s'applique plus."
   ]
  },
  {
   "cell_type": "markdown",
   "id": "7ecebd9f-fd7e-4723-89af-a3f9a2f6594e",
   "metadata": {},
   "source": [
    "### Inversion d'une liste : la méthode **reverse()**"
   ]
  },
  {
   "cell_type": "markdown",
   "id": "244e4d01-6838-41d3-b487-a625e5160848",
   "metadata": {},
   "source": [
    "La méthode **reverse()** permet d'inverser l'ordre des éléments d'une liste. Elle ne retourne aucune valeur et peut être utilisée comme une instruction."
   ]
  },
  {
   "cell_type": "code",
   "execution_count": 8,
   "id": "200bf127-b6be-4f13-bcee-bf75ea21fd48",
   "metadata": {},
   "outputs": [
    {
     "name": "stdout",
     "output_type": "stream",
     "text": [
      "Exemple de liste inversée : [2.36, True, 'framboise', 'pomme', 78, 'orange']\n"
     ]
    }
   ],
   "source": [
    "liste_vrac = ['orange', 78, 'pomme', 'framboise', True, 2.36]\n",
    "liste_vrac.reverse()\n",
    "print(f\"Exemple de liste inversée : {liste_vrac}\")"
   ]
  },
  {
   "cell_type": "markdown",
   "id": "1c72d4ec-1fae-4d59-a844-19b83c569ef8",
   "metadata": {},
   "source": [
    "### Transformation d'une chaîne en une liste de chaînes : la méthode **split()**\n",
    "\n",
    "La méthode **split()** s'applique à une chaîne de caractères et permet de découper cette chaîne en plusieurs sous-chaînes. Le découpage s'effectue grâce à un élément séparateur qui est constitué par défaut d'une suite quelconque d'espaces. La méthode retourne la liste des sous-chaînes obtenues par découpage. Cette méthode peut être utilisée pour extraire la liste des mots contenus dans une phrase, comme le montre l'exemple suivant."
   ]
  },
  {
   "cell_type": "code",
   "execution_count": 2,
   "id": "99c1db9b-4777-4fde-a0d0-33b380b00e73",
   "metadata": {},
   "outputs": [
    {
     "name": "stdout",
     "output_type": "stream",
     "text": [
      "['Youpidou', 'la', 'ribambelle']\n"
     ]
    }
   ],
   "source": [
    "laphrase = \"Youpidou la  ribambelle\"\n",
    "lesmots = laphrase.split()\n",
    "print(lesmots)"
   ]
  },
  {
   "cell_type": "markdown",
   "id": "14205632-06ba-422a-8a93-c035abe4a731",
   "metadata": {},
   "source": [
    "Il est possible de définir élément séparateur autre que la suite quelconque d'espaces. Dans ce cas, il faut l'indiquer en paramètre de la méthode. L'exemple suivant décompose une chaîne en utilisant le tiret `'-'` comme élément séparateur."
   ]
  },
  {
   "cell_type": "code",
   "execution_count": 3,
   "id": "898b6a1e-00f7-4365-a4f9-f3ea898d16eb",
   "metadata": {},
   "outputs": [
    {
     "name": "stdout",
     "output_type": "stream",
     "text": [
      "['251', '964', '89523', '74']\n"
     ]
    }
   ],
   "source": [
    "ph = \"251-964-89523-74\"\n",
    "lm = ph.split('-')\n",
    "print(lm)"
   ]
  },
  {
   "cell_type": "markdown",
   "id": "a52c4935-7f90-4193-a3a0-29a2ea9beeb3",
   "metadata": {},
   "source": [
    "On peut également donner en second paramètre un nombre correspondant à l'indice maximal de la liste à retourner (0 pour une liste avec un seul élément, 1 pour une liste de 2 éléments, etc)."
   ]
  },
  {
   "cell_type": "code",
   "execution_count": 5,
   "id": "737b7304-0caa-46de-a670-4898616299fc",
   "metadata": {},
   "outputs": [
    {
     "name": "stdout",
     "output_type": "stream",
     "text": [
      "['251', '964-89523-74']\n"
     ]
    }
   ],
   "source": [
    "lm2 = ph.split('-', 1)\n",
    "print(lm2)"
   ]
  },
  {
   "cell_type": "code",
   "execution_count": 6,
   "id": "0d296dd4-23c0-4dcd-bdc1-c4144f536fbe",
   "metadata": {},
   "outputs": [
    {
     "name": "stdout",
     "output_type": "stream",
     "text": [
      "['251', '964', '89523-74']\n"
     ]
    }
   ],
   "source": [
    "lm3 = ph.split('-', 2)\n",
    "print(lm3)"
   ]
  },
  {
   "cell_type": "markdown",
   "id": "24bcbd88-b315-4131-ab0b-076959714b47",
   "metadata": {},
   "source": [
    "## Opérateur d'appartenance à une liste\n",
    "\n",
    "L'opérateur **in** permet de tester si un élément appartient ou non à une liste. Sa syntaxe est la suivante&nbsp;:"
   ]
  },
  {
   "cell_type": "code",
   "execution_count": null,
   "id": "7ccaee34-7111-4371-a158-0447de7a7ebd",
   "metadata": {},
   "outputs": [],
   "source": [
    "element in id_liste"
   ]
  },
  {
   "cell_type": "markdown",
   "id": "4a438a4d-0724-4c7b-a84d-b6d85d087040",
   "metadata": {},
   "source": [
    "où `id_liste` est l'identifiant de la liste et `element` l'élément ou la variable référençant l'élément. L'opérateur retourne `True` si l'élément figure dans la liste et `False` sinon. Si l'élément à tester est une chaîne, la « casse », c'est-à-dire la différence entre majuscule et minuscule, sera prise en compte."
   ]
  },
  {
   "cell_type": "code",
   "execution_count": 10,
   "id": "1fff2e4f-57af-4f9e-af0c-62e66f79882a",
   "metadata": {},
   "outputs": [
    {
     "name": "stdout",
     "output_type": "stream",
     "text": [
      "78 appartient-il à la liste ? Réponse : True\n",
      "framboise appartient-elle à la liste ? Réponse : True\n",
      "Pomme appartient-elle à la liste ? Réponse : False\n"
     ]
    }
   ],
   "source": [
    "liste_vrac = ['orange', 78, 'pomme', 'framboise', True, 2.36]\n",
    "print(f\"78 appartient-il à la liste ? Réponse : {78 in liste_vrac}\")\n",
    "print(f\"framboise appartient-elle à la liste ? Réponse : {'framboise' in liste_vrac}\")\n",
    "print(f\"Pomme appartient-elle à la liste ? Réponse : {'Pomme' in liste_vrac}\")"
   ]
  },
  {
   "cell_type": "markdown",
   "id": "ba87fb49-1c79-4b6d-ba5a-24411e2d0a3c",
   "metadata": {},
   "source": [
    "## Parcours d'une liste\n",
    "\n",
    "Une liste est une séquence, et est de ce fait un objet « itérable ». Cela signifie qu'on peut parcourir un à un ses éléments à l'aide d'une boucle `for` pour leur appliquer un traitement. Il existe trois manières d'effectuer un parcours complet d'une liste&nbsp;:\n",
    "\n",
    "* le parcours **par élément**\n",
    "* le parcours **par indice**\n",
    "* le parcours **par indice et élément** \n",
    "\n",
    "### Parcours **par élément**\n",
    "\n",
    "La syntaxe d'une boucle `for` effectuant un parcours par élément d'une liste est la suivante&nbsp;:"
   ]
  },
  {
   "cell_type": "code",
   "execution_count": null,
   "id": "c12b5c2a-e6c4-4420-88de-10b4cd526d9b",
   "metadata": {},
   "outputs": [],
   "source": [
    "for var_elem in id_liste:\n",
    "    bloc_instructions"
   ]
  },
  {
   "cell_type": "markdown",
   "id": "5ccb4255-7c47-4dc4-823b-2a0fa334b324",
   "metadata": {},
   "source": [
    "où&nbsp;:\n",
    "\n",
    "* `var_elem` est une variable\n",
    "* `id_liste` est l'identifiant de la liste à parcourir\n",
    "* `bloc_instructions` est un bloc d'instructions (attention à l'indentation !!)\n",
    "\n",
    "Littéralement : « Pour chaque élément `var_elem` contenu dans la liste `id_liste` effectuer les instructions de `bloc_instructions` ». La variable `var_elem` va prendre successivement tous les éléments de la liste `id_liste`, du premier au dernier. Pour chaque valeur de `var_elem` (i.e. chaque élément de la liste), `bloc_instructions` est exécuté. Le type de la variable `var_elem` change en fonction de ceux des éléments de la liste (le typage est dynamique).\n",
    "\n",
    "Voici un premier exemple de programme qui parcourt une liste par élément, en affichant chacun des éléments à l'écran."
   ]
  },
  {
   "cell_type": "code",
   "execution_count": 11,
   "id": "c77e0ddc-a5ca-417d-a6d9-95ca928e0476",
   "metadata": {},
   "outputs": [
    {
     "name": "stdout",
     "output_type": "stream",
     "text": [
      "3.1416\n",
      "25\n",
      "154\n",
      "fromage\n",
      "dessert\n"
     ]
    }
   ],
   "source": [
    "bazar = [3.1416, 25, 154, 'fromage', 'dessert']\n",
    "for elt in bazar:\n",
    "    print(elt)"
   ]
  },
  {
   "cell_type": "markdown",
   "id": "03b6cbcf-daa1-450c-9471-1ea4610803c8",
   "metadata": {},
   "source": [
    "Voici un second exemple de programme qui parcourt une liste élément par élément, en affichant à l'écran chaque élément ainsi que son type."
   ]
  },
  {
   "cell_type": "code",
   "execution_count": 12,
   "id": "2b0b3f86-ff95-47ae-9f43-86ea67da7759",
   "metadata": {},
   "outputs": [
    {
     "name": "stdout",
     "output_type": "stream",
     "text": [
      "La liste contient 3.1416 qui est de type <class 'float'>.\n",
      "La liste contient 25 qui est de type <class 'int'>.\n",
      "La liste contient 154 qui est de type <class 'int'>.\n",
      "La liste contient fromage qui est de type <class 'str'>.\n",
      "La liste contient dessert qui est de type <class 'str'>.\n"
     ]
    }
   ],
   "source": [
    "bazar = [3.1416, 25, 154, 'fromage', 'dessert']\n",
    "for elt in bazar:\n",
    "    print(f\"La liste contient {elt} qui est de type {type(elt)}.\")"
   ]
  },
  {
   "cell_type": "markdown",
   "id": "cd57a08a-c506-4d21-aa8d-4df3c5c17b44",
   "metadata": {},
   "source": [
    "### Parcours **par indice** (ou parcours par position)\n",
    "\n",
    "Le principe du parcours par indice est de parcourir une liste en utilisant les indices (i.e. les positions) de ses éléments (et pas les éléments eux-mêmes). La syntaxe d'une boucle `for` effectuant un parcours par indice d'une liste est la suivante&nbsp;:"
   ]
  },
  {
   "cell_type": "code",
   "execution_count": null,
   "id": "856779bb-47ec-4132-bb9c-7906ffa1a6bd",
   "metadata": {},
   "outputs": [],
   "source": [
    "for ind in range(len(id_liste)):\n",
    "    bloc_instructions"
   ]
  },
  {
   "cell_type": "markdown",
   "id": "8b6cdd17-1650-48a8-8829-377030cceac1",
   "metadata": {},
   "source": [
    "où&nbsp;:\n",
    "\n",
    "* `ind` est une variable\n",
    "* `id_liste` est l'identifiant de la liste à parcourir\n",
    "* `range(len(id_liste))` permet de générer la séquence de tous les indices des éléments de la liste `id_liste` : `0, 1,..., len(id_liste)-1` \n",
    "\n",
    "La variable `ind` va prendre successivement toutes les valeurs des indices de la liste, en commençant par `0` jusqu'à `len(id_liste)-1`. Pour chaque valeur de `ind`, le bloc `bloc_instructions` est exécuté. \n",
    "\n",
    "Voici un premier exemple de programme qui parcourt une liste par indice, en affichant chacun des éléments à l'écran."
   ]
  },
  {
   "cell_type": "code",
   "execution_count": 13,
   "id": "5dc33739-38ee-46af-a956-21dc40b0bfc6",
   "metadata": {},
   "outputs": [
    {
     "name": "stdout",
     "output_type": "stream",
     "text": [
      "3.1416\n",
      "25\n",
      "154\n",
      "fromage\n",
      "dessert\n"
     ]
    }
   ],
   "source": [
    "bazar = [3.1416, 25, 154, 'fromage', 'dessert']\n",
    "for i in range(len(bazar)):\n",
    "    print(bazar[i])"
   ]
  },
  {
   "cell_type": "markdown",
   "id": "1d791a2d-c630-47d5-ad05-8ba4475bbba7",
   "metadata": {},
   "source": [
    "Dans cet exemple, `len(bazar)` retourne le nombre `5`, la séquence de nombres générée par `range(len(bazar))` est donc : `0, 1, 2, 3, 4`. Les valeurs successives de la variable `i` seront donc `0`, puis `1`, `2`, `3`, et enfin `4`.\n",
    "\n",
    "Voici un second exemple de programme qui parcourt une liste par indice, en affichant à l'écran chaque élément ainsi que son type."
   ]
  },
  {
   "cell_type": "code",
   "execution_count": 14,
   "id": "2ec06e12-07b9-4201-a57b-133b117ef2c0",
   "metadata": {},
   "outputs": [
    {
     "name": "stdout",
     "output_type": "stream",
     "text": [
      "La liste contient 3.1416 qui est de type <class 'float'>.\n",
      "La liste contient 25 qui est de type <class 'int'>.\n",
      "La liste contient 154 qui est de type <class 'int'>.\n",
      "La liste contient fromage qui est de type <class 'str'>.\n",
      "La liste contient dessert qui est de type <class 'str'>.\n"
     ]
    }
   ],
   "source": [
    "bazar = [3.1416, 25, 154, 'fromage', 'dessert']\n",
    "for i in range(len(bazar)):\n",
    "    print(f\"La liste contient {bazar[i]} qui est de type {type(bazar[i])}.\")"
   ]
  },
  {
   "cell_type": "markdown",
   "id": "f9d72086-517b-43ea-b97c-0f5cbcd3f7c3",
   "metadata": {},
   "source": [
    "### Parcours par indice et élément\n",
    "\n",
    "Ce parcours permet de parcourir un par un les éléments d'une liste, en disposant pour chaque élément de son indice, mais également de sa valeur. La syntaxe d'une boucle `for` effectuant un parcours par indice et élément est la suivante&nbsp;:"
   ]
  },
  {
   "cell_type": "code",
   "execution_count": null,
   "id": "883745c0-1f27-42f8-9a06-7be6241104b1",
   "metadata": {},
   "outputs": [],
   "source": [
    "for ind, val in enumerate(id_liste):\n",
    "    bloc_instructions"
   ]
  },
  {
   "cell_type": "markdown",
   "id": "6ae95b8a-b431-4a12-80aa-53580db89929",
   "metadata": {},
   "source": [
    "où&nbsp;:\n",
    "\n",
    "* `ind` et `val` sont des variables représentant respectivement les indices et les valeurs des éléments de la liste\n",
    "* `id_liste` est l'identifiant de la liste à parcourir\n",
    "* `enumerate(id_liste)` permet de générer la séquence de tous les couples (indice, valeur) de la liste `id_liste`.\n",
    "\n",
    "Les variables `ind` et `val` vont prendre successivement toutes les valeurs des indices (`ind`) et des éléments (`val`) de la liste. Pour chaque binôme de valeurs `ind` et `val`, le bloc `bloc_instructions` est exécuté.\n",
    "Voici un exemple de programme parcourant une liste par indice et élément. Pour chaque élément de la liste, le programme affiche son indice suivi de sa valeur."
   ]
  },
  {
   "cell_type": "code",
   "execution_count": 1,
   "id": "27dcf88c-d3e6-44f1-9ed9-d79b3a973c02",
   "metadata": {},
   "outputs": [
    {
     "name": "stdout",
     "output_type": "stream",
     "text": [
      "L'élément situé au rang 0 est Arthur.\n",
      "L'élément situé au rang 1 est Barnabé.\n",
      "L'élément situé au rang 2 est Côme.\n",
      "L'élément situé au rang 3 est Damien.\n",
      "L'élément situé au rang 4 est Emile.\n"
     ]
    }
   ],
   "source": [
    "classement = ['Arthur', 'Barnabé', 'Côme', 'Damien', 'Emile']\n",
    "for ind, val in enumerate(classement):\n",
    "    print(f\"L'élément situé au rang {ind} est {val}.\")"
   ]
  },
  {
   "cell_type": "markdown",
   "id": "9b219469-4a84-402b-81e4-004261bee7a2",
   "metadata": {},
   "source": [
    "### Parcours partiel\n",
    "\n",
    "Le parcours par indice vu précédemment permet de choisir les indices des éléments à parcourir, ce qui n'est pas le cas du parcours par élément. On peut donc l'utiliser pour effectuer un parcours partiel d'une liste. La syntaxe d'une boucle `for` effectuant un parcours par indice partiel d'une liste est la suivante&nbsp;:"
   ]
  },
  {
   "cell_type": "code",
   "execution_count": null,
   "id": "c9861d27-6e23-4567-9f84-88434f79863e",
   "metadata": {},
   "outputs": [],
   "source": [
    "for ind in range(pos_debut, pos_fin, pas):\n",
    "    bloc_instructions"
   ]
  },
  {
   "cell_type": "markdown",
   "id": "97b1ac3e-a055-4c85-a4c3-77cd598eaab5",
   "metadata": {},
   "source": [
    "où `range(pos_debut, pos_fin, pas)` permet de générer la séquence des indices des éléments à parcourir. Attention : toutes les valeurs de cette séquence doivent correspondre effectivement à des indices d'éléments figurant dans la liste, sous peine d'entraîner une erreur à l'exécution.\n",
    "\n",
    "Voici ci-dessous trois exemples de parcours par indice partiels d'une liste."
   ]
  },
  {
   "cell_type": "code",
   "execution_count": 15,
   "id": "af047e2d-a16b-4249-95e8-eaa6e3e740b9",
   "metadata": {},
   "outputs": [
    {
     "name": "stdout",
     "output_type": "stream",
     "text": [
      "La liste contient à l'indice 1 l'élément 25 qui est de type <class 'int'>.\n",
      "La liste contient à l'indice 2 l'élément 154 qui est de type <class 'int'>.\n",
      "La liste contient à l'indice 3 l'élément fromage qui est de type <class 'str'>.\n"
     ]
    }
   ],
   "source": [
    "bazar = [3.1416, 25, 154, 'fromage', 'dessert']\n",
    "for i in range(1, 4):\n",
    "    print(f\"La liste contient à l'indice {i} l'élément {bazar[i]} qui est de type {type(bazar[i])}.\")"
   ]
  },
  {
   "cell_type": "code",
   "execution_count": 16,
   "id": "59073e16-a007-4890-9252-d4382b73f727",
   "metadata": {},
   "outputs": [
    {
     "name": "stdout",
     "output_type": "stream",
     "text": [
      "La liste contient à l'indice 1 l'élément 25 qui est de type <class 'int'>.\n",
      "La liste contient à l'indice 2 l'élément 154 qui est de type <class 'int'>.\n",
      "La liste contient à l'indice 3 l'élément fromage qui est de type <class 'str'>.\n",
      "La liste contient à l'indice 4 l'élément dessert qui est de type <class 'str'>.\n"
     ]
    },
    {
     "ename": "IndexError",
     "evalue": "list index out of range",
     "output_type": "error",
     "traceback": [
      "\u001b[1;31m---------------------------------------------------------------------------\u001b[0m",
      "\u001b[1;31mIndexError\u001b[0m                                Traceback (most recent call last)",
      "Input \u001b[1;32mIn [16]\u001b[0m, in \u001b[0;36m<cell line: 2>\u001b[1;34m()\u001b[0m\n\u001b[0;32m      1\u001b[0m bazar \u001b[38;5;241m=\u001b[39m [\u001b[38;5;241m3.1416\u001b[39m, \u001b[38;5;241m25\u001b[39m, \u001b[38;5;241m154\u001b[39m, \u001b[38;5;124m'\u001b[39m\u001b[38;5;124mfromage\u001b[39m\u001b[38;5;124m'\u001b[39m, \u001b[38;5;124m'\u001b[39m\u001b[38;5;124mdessert\u001b[39m\u001b[38;5;124m'\u001b[39m]\n\u001b[0;32m      2\u001b[0m \u001b[38;5;28;01mfor\u001b[39;00m i \u001b[38;5;129;01min\u001b[39;00m \u001b[38;5;28mrange\u001b[39m(\u001b[38;5;241m1\u001b[39m, \u001b[38;5;241m6\u001b[39m):\n\u001b[1;32m----> 3\u001b[0m     \u001b[38;5;28mprint\u001b[39m(\u001b[38;5;124mf\u001b[39m\u001b[38;5;124m\"\u001b[39m\u001b[38;5;124mLa liste contient à l\u001b[39m\u001b[38;5;124m'\u001b[39m\u001b[38;5;124mindice \u001b[39m\u001b[38;5;132;01m{\u001b[39;00mi\u001b[38;5;132;01m}\u001b[39;00m\u001b[38;5;124m l\u001b[39m\u001b[38;5;124m'\u001b[39m\u001b[38;5;124mélément \u001b[39m\u001b[38;5;132;01m{\u001b[39;00mbazar[i]\u001b[38;5;132;01m}\u001b[39;00m\u001b[38;5;124m qui est de type \u001b[39m\u001b[38;5;132;01m{\u001b[39;00m\u001b[38;5;28mtype\u001b[39m(bazar[i])\u001b[38;5;132;01m}\u001b[39;00m\u001b[38;5;124m.\u001b[39m\u001b[38;5;124m\"\u001b[39m)\n",
      "\u001b[1;31mIndexError\u001b[0m: list index out of range"
     ]
    }
   ],
   "source": [
    "bazar = [3.1416, 25, 154, 'fromage', 'dessert']\n",
    "for i in range(1, 6):\n",
    "    print(f\"La liste contient à l'indice {i} l'élément {bazar[i]} qui est de type {type(bazar[i])}.\")"
   ]
  },
  {
   "cell_type": "code",
   "execution_count": 19,
   "id": "efbd4e52-0d2e-4933-949d-daff22071c27",
   "metadata": {},
   "outputs": [
    {
     "name": "stdout",
     "output_type": "stream",
     "text": [
      "La liste contient à l'indice 0 l'élément 3.1416 qui est de type <class 'float'>.\n",
      "La liste contient à l'indice 2 l'élément 154 qui est de type <class 'int'>.\n",
      "La liste contient à l'indice 4 l'élément dessert qui est de type <class 'str'>.\n"
     ]
    }
   ],
   "source": [
    "bazar = [3.1416, 25, 154, 'fromage', 'dessert']\n",
    "for i in range(0, len(bazar), 2):\n",
    "    print(f\"La liste contient à l'indice {i} l'élément {bazar[i]} qui est de type {type(bazar[i])}.\")"
   ]
  },
  {
   "cell_type": "markdown",
   "id": "17975258-c100-4fec-96c8-bdb352d3e26d",
   "metadata": {},
   "source": [
    "## Compréhension de liste\n",
    "\n",
    "La **compréhension de liste** est un mécanisme du langage Python permettant de créer une liste, non pas en lui ajoutant ses éléments un par un, mais en précisant les caractéristiques partagées par tous ses éléments. On peut la comparer à une définition en intension d'un ensemble en mathématique, telle que par exemple : $S = \\{x / x \\in \\mathbb{N}, x^2 < 100 \\}$.\n",
    "\n",
    "Il existe deux types de compréhension de liste : la compréhension sans conditionnelle et la compréhension avec conditionnelle.\n",
    "\n",
    "### Compréhension sans conditionnelle\n",
    "\n",
    "La syntaxe générale de la compréhension de liste sans conditionnelle est la suivante&nbsp;:"
   ]
  },
  {
   "cell_type": "code",
   "execution_count": null,
   "id": "bedf41e5-5eef-47a7-a325-f3ccadc496cd",
   "metadata": {},
   "outputs": [],
   "source": [
    "[exp for elem in seq]"
   ]
  },
  {
   "cell_type": "markdown",
   "id": "b349653d-6867-4546-af16-eecc65afab99",
   "metadata": {},
   "source": [
    "où&nbsp;:\n",
    "\n",
    "* `exp` est une expression qui va permettre de générer tous les éléments de la liste\n",
    "* `elem` est une variable\n",
    "* `seq` est une séquence de valeurs (liste, résultat d'une fonction range(), etc)\n",
    "\n",
    "Le résultat est une liste contenant un élément dont la valeur est obtenue par évaluation de l'expression `exp`, pour chaque exécution de la boucle `for`.\n",
    "Par exemple, `[elt for elt in range(5)]` retourne la liste `[0, 1, 2, 3, 4]`."
   ]
  },
  {
   "cell_type": "code",
   "execution_count": 20,
   "id": "731c0083-738e-47d1-bc6a-e501865e2348",
   "metadata": {},
   "outputs": [
    {
     "name": "stdout",
     "output_type": "stream",
     "text": [
      "[0, 1, 2, 3, 4]\n"
     ]
    }
   ],
   "source": [
    "liste = [elt for elt in range(5)]\n",
    "print(liste)"
   ]
  },
  {
   "cell_type": "markdown",
   "id": "89d6ea9e-f20e-4acc-bb07-20b525aef067",
   "metadata": {},
   "source": [
    "`[elt*3 for elt in range(5)]` retourne la liste `[0, 3, 6, 9, 12]`."
   ]
  },
  {
   "cell_type": "code",
   "execution_count": 21,
   "id": "4e023f97-e6af-4877-a3ba-ab88616df0ce",
   "metadata": {},
   "outputs": [
    {
     "name": "stdout",
     "output_type": "stream",
     "text": [
      "[0, 3, 6, 9, 12]\n"
     ]
    }
   ],
   "source": [
    "liste = [elt*3 for elt in range(5)]\n",
    "print(liste)"
   ]
  },
  {
   "cell_type": "markdown",
   "id": "8a550e30-f426-43e1-b025-14e7ac2e80fe",
   "metadata": {},
   "source": [
    "Le programme suivant mémorise une liste de mots, et utilise la compréhension pour calculer la liste des longueurs des mots."
   ]
  },
  {
   "cell_type": "code",
   "execution_count": 22,
   "id": "d5cad50e-2ecb-467d-ac1f-4ead64c9f5c4",
   "metadata": {},
   "outputs": [
    {
     "name": "stdout",
     "output_type": "stream",
     "text": [
      "[6, 5, 5, 9, 4, 6]\n"
     ]
    }
   ],
   "source": [
    "liste_mots = ['orange', 'poire', 'pomme', 'framboise', 'kiwi', 'cerise']\n",
    "liste_longueurs = [len(mot) for mot in liste_mots]\n",
    "print(liste_longueurs)"
   ]
  },
  {
   "cell_type": "markdown",
   "id": "00a48b7a-8f76-4e43-86e0-7353793a653c",
   "metadata": {},
   "source": [
    "Le programme suivant crée une liste de 20 nombres entiers aléatoires entre 1 et 50."
   ]
  },
  {
   "cell_type": "code",
   "execution_count": 23,
   "id": "ef7a1653-ff59-4289-9189-1389adfdda72",
   "metadata": {},
   "outputs": [
    {
     "name": "stdout",
     "output_type": "stream",
     "text": [
      "[16, 36, 26, 7, 34, 48, 29, 24, 11, 25, 1, 35, 40, 34, 33, 36, 42, 17, 3, 15]\n"
     ]
    }
   ],
   "source": [
    "from random import randint\n",
    "alea = [randint(1, 50) for cpt in range(20)]\n",
    "print(alea)"
   ]
  },
  {
   "cell_type": "markdown",
   "id": "f012d1b4-0c21-40dd-80bb-de29b74665dc",
   "metadata": {},
   "source": [
    "Enfin, le programme suivant permet de convertir tous les éléments d'une liste en chaînes de caractères."
   ]
  },
  {
   "cell_type": "code",
   "execution_count": 24,
   "id": "ee5ef80a-4f81-4513-b9e7-5b946a437d67",
   "metadata": {},
   "outputs": [
    {
     "name": "stdout",
     "output_type": "stream",
     "text": [
      "['3.1416', '25', '154', 'fromage', 'dessert']\n"
     ]
    }
   ],
   "source": [
    "bazar = [3.1416, 25, 154, 'fromage', 'dessert']\n",
    "bazar = [str(elt) for elt in bazar]\n",
    "print(bazar)"
   ]
  },
  {
   "cell_type": "markdown",
   "id": "7ea309d4-ef9d-4989-ad97-7ea95b5137bf",
   "metadata": {},
   "source": [
    "### Compréhension avec conditionnelle\n",
    "\n",
    "La syntaxe générale de la compréhension de liste avec conditionnelle est la suivante&nbsp;:"
   ]
  },
  {
   "cell_type": "code",
   "execution_count": null,
   "id": "9458bbc3-5e82-4b96-8ac5-506ff0d8a7c4",
   "metadata": {},
   "outputs": [],
   "source": [
    "[exp for elem in seq if exp_cond]"
   ]
  },
  {
   "cell_type": "markdown",
   "id": "550ce17c-3b92-486d-9dcd-afe530e3793f",
   "metadata": {},
   "source": [
    "où `exp_cond` est une expression conditionnelle que doivent vérifier tous les éléments de la liste retournée.\n",
    "\n",
    "Le résultat est une liste contenant un élément dont la valeur est obtenue par évaluation de l'expression `exp`, vérifiant la condition `exp_cond`, pour chaque exécution de la boucle `for`.\n",
    "Par exemple, `[elt for elt in range(15) if elt%2==0]` retourne la liste `[0, 2, 4, 6, 8, 10, 12, 14]`."
   ]
  },
  {
   "cell_type": "code",
   "execution_count": 25,
   "id": "e9623083-8860-49a3-942a-f5cd9dc4bd90",
   "metadata": {},
   "outputs": [
    {
     "name": "stdout",
     "output_type": "stream",
     "text": [
      "[0, 2, 4, 6, 8, 10, 12, 14]\n"
     ]
    }
   ],
   "source": [
    "liste = [elt for elt in range(15) if elt%2==0]\n",
    "print(liste)"
   ]
  },
  {
   "cell_type": "markdown",
   "id": "6294c669-df37-4dcd-8308-6c015f87eee0",
   "metadata": {},
   "source": [
    "Le programme suivant permet d'extraire les chaînes de caractères et les nombres entiers d'une liste."
   ]
  },
  {
   "cell_type": "code",
   "execution_count": 26,
   "id": "8d736c97-74ac-46b8-98ef-95ec856577ed",
   "metadata": {},
   "outputs": [
    {
     "name": "stdout",
     "output_type": "stream",
     "text": [
      "Les chaînes sont ['fromage', 'dessert'] et les nombres sont [3.1416, 25, 154].\n"
     ]
    }
   ],
   "source": [
    "bazar = [3.1416, 25, 154, 'fromage', 'dessert']\n",
    "chaines = [elt for elt in bazar if type(elt)==str]\n",
    "nombres = [elt for elt in bazar if type(elt)==float or type(elt)==int]\n",
    "print(f\"Les chaînes sont {chaines} et les nombres sont {nombres}.\")"
   ]
  },
  {
   "cell_type": "markdown",
   "id": "a1681053-13e3-48da-ae59-b6e7aa743db8",
   "metadata": {},
   "source": [
    "En conclusion, nous pouvons dire que la compréhension de liste est très utile lorsqu'il s'agit de créer des listes dont les élément ont des caractéristiques communes. Dans ce cas précis, elle n'est pas indispensable mais simplifie le travail par la compacité de son code. Pour vous en convaincre, essayez d'écrire les exemples ci-dessus sans utiliser la compréhension !"
   ]
  },
  {
   "cell_type": "markdown",
   "id": "b198ed76-251a-4293-9788-e7fbf41b5b37",
   "metadata": {},
   "source": [
    "## Les tuples\n",
    "\n",
    "Tout comme une liste, un tuple est une séquence ordonnée d'objets de types variés, indexée sur les indices de ses éléments. La différence avec une liste est qu'un tuple est un objet Python « immuable ». Cela signifie que pour modifier une variable référençant un tuple, il faut impérativement réaliser une nouvelle affectation. On ne peut pas effectuer de manipulation entraînant une modification sur un tuple. Les tuples sont donc utiles dans un programme pour mémoriser des données qu'on ne souhaite pas modifier « accidentellement ». \n",
    "\n",
    "### Notation, création\n",
    "\n",
    "La notation utilisée pour un tuple est quasiment la même que celle d'une liste. La seule différence réside dans l'utilisation de parenthèses à la place des crochets. Voici un programme simple de création de tuples&nbsp;:"
   ]
  },
  {
   "cell_type": "code",
   "execution_count": 1,
   "id": "c541ea4b-cf29-4e1b-9333-cdecb2895ffe",
   "metadata": {},
   "outputs": [
    {
     "name": "stdout",
     "output_type": "stream",
     "text": [
      "('a', 'b', 5, 2, False, 9.63)\n",
      "('lundi', 'mardi', 'mercredi', 'jeudi', 'vendredi', 'samedi', 'dimanche')\n"
     ]
    }
   ],
   "source": [
    "tuple1 = ('a', 'b', 5, 2, False, 9.63)\n",
    "tuple2 = ('lundi', 'mardi', 'mercredi', 'jeudi', 'vendredi', 'samedi', 'dimanche')\n",
    "print(tuple1)\n",
    "print(tuple2)"
   ]
  },
  {
   "cell_type": "markdown",
   "id": "93433d6a-1694-4037-aa39-6efd9d3947da",
   "metadata": {},
   "source": [
    "### Manipulation de tuples\n",
    "\n",
    "Toutes les manipulations de listes vues dans ce chapitre qui n'entraînent pas de modification peuvent être réalisées sur les tuples&nbsp;:\n",
    "\n",
    "* accès aux éléments et « slicing » (avec utilisation des crochets)\n",
    "* fonction `len()` pour calculer la taille\n",
    "* opérateur d'appartenance `in`\n",
    "* opérateurs de concaténation `+` et de répétition `*`\n",
    "* position d'un élément `index()`\n",
    "* comptage du nombre d'occurrences d'un élément `count()`\n",
    "* parcours avec la boucle `for`\n",
    "* compréhension\n",
    "\n",
    "Les syntaxes de ces manipulations sont exactement les mêmes que pour les listes, excepté pour la compréhension. Dans ce cas précis, la notation `tuple(..)` remplace les crochets, comme le montre l'exemple ci-dessous. "
   ]
  },
  {
   "cell_type": "code",
   "execution_count": 19,
   "id": "dba35500-14ef-484a-98f0-232e3f9bd1fb",
   "metadata": {},
   "outputs": [
    {
     "name": "stdout",
     "output_type": "stream",
     "text": [
      "(0, 1, 2, 3)\n"
     ]
    }
   ],
   "source": [
    "tuple1 = tuple(elt for elt in range(4))\n",
    "print(tuple1)"
   ]
  }
 ],
 "metadata": {
  "kernelspec": {
   "display_name": "Python 3 (ipykernel)",
   "language": "python",
   "name": "python3"
  },
  "language_info": {
   "codemirror_mode": {
    "name": "ipython",
    "version": 3
   },
   "file_extension": ".py",
   "mimetype": "text/x-python",
   "name": "python",
   "nbconvert_exporter": "python",
   "pygments_lexer": "ipython3",
   "version": "3.9.12"
  },
  "toc-autonumbering": true
 },
 "nbformat": 4,
 "nbformat_minor": 5
}
