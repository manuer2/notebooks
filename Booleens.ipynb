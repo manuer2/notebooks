{
 "cells": [
  {
   "cell_type": "markdown",
   "id": "795b9706-e8fa-43d2-8052-e9a01d1dfc40",
   "metadata": {},
   "source": [
    "# Booléens et expressions booléennes\n",
    "## Origine des booléens\n",
    "## Expression booléenne en Python (notion de **prédicat**)\n",
    "### Les prédicats usuels en Python\n",
    "### Les opérateurs booléens\n",
    "#### L'opérateur `and`\n",
    "#### L'opérateur `or`\n",
    "#### L'opérateur `not`\n",
    "#### Négations de prédicats usuels en Python\n",
    "## Les lois de **De Morgan**"
   ]
  }
 ],
 "metadata": {
  "kernelspec": {
   "display_name": "Python 3 (ipykernel)",
   "language": "python",
   "name": "python3"
  },
  "language_info": {
   "codemirror_mode": {
    "name": "ipython",
    "version": 3
   },
   "file_extension": ".py",
   "mimetype": "text/x-python",
   "name": "python",
   "nbconvert_exporter": "python",
   "pygments_lexer": "ipython3",
   "version": "3.9.12"
  }
 },
 "nbformat": 4,
 "nbformat_minor": 5
}
