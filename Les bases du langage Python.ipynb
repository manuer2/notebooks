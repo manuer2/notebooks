{
 "cells": [
  {
   "cell_type": "markdown",
   "id": "b6372e08-1792-48d7-bf8e-4efbe5bd09fb",
   "metadata": {},
   "source": [
    "L'objectif de ce document est de présenter les concepts de base du langage de programmation Python."
   ]
  },
  {
   "cell_type": "markdown",
   "id": "c39ecc3d-fab2-4c54-a900-edae5b622b5e",
   "metadata": {},
   "source": [
    "# La notion de variable"
   ]
  },
  {
   "cell_type": "markdown",
   "id": "4f3591e1-3f62-40b3-957e-05d43084c4e1",
   "metadata": {},
   "source": [
    "Un programme manipule des données. Ce terme de **données**, certes un peu vague, désigne tout ce qui peut être numérisé et stocké dans la mémoire d'une machine, par exemple&nbsp;:\n",
    "\n",
    "* les nombres (entiers, réels, etc)\n",
    "* le texte (caractères, mots, documents, etc)\n",
    "* le multimédia (images, audio, vidéo).\n",
    "\n",
    "La liste ci-dessus n'est bien sûr pas exhaustive. Pour stocker des données dans la mémoire d'une machine, la technique de base consiste à utiliser dans les programmes des **variables**. Une variable désigne une zone de la mémoire dans laquelle est mémorisée un objet. Elle possède&nbsp;:\n",
    "\n",
    "* un **nom de variable** qui lui est propre (deux variables ne peuvent avoir le même nom)&nbsp;;\n",
    "* un **type** qui permet de préciser la nature de l'objet qu'elle contient&nbsp;;\n",
    "* une **valeur** qui est égale à l'objet qu'elle contient.\n",
    "\n",
    "On peut donc écrire un programme Python dans lequel on manipule&nbsp;:\n",
    "\n",
    "* une variable de nom `jour`, de type `chaîne de caractères (string)`, ayant pour valeur l'objet chaîne `'lundi'`&nbsp;;\n",
    "* une variable de nom `mois`, de type `entier (int)`, ayant pour valeur le nombre (objet) entier `25`.\n"
   ]
  },
  {
   "cell_type": "markdown",
   "id": "3c3a632f-c73d-4c68-a76f-ae2ce4a05fd2",
   "metadata": {},
   "source": [
    "## Nom de variable"
   ]
  },
  {
   "cell_type": "markdown",
   "id": "6cc5609b-53f3-46b3-b21f-4b17cb7752f9",
   "metadata": {},
   "source": [
    "Conformément à ce qui est indiqué dans la PEP 8 (PEP 8 pour Python Extension Proposal est un ensemble de règles visant à homogénéiser le code, et à définir de bonnes pratiques de codage en Python), un nom de variable en Python doit respecter les règles suivantes&nbsp;:\n",
    "\n",
    "* ne comporter que des lettres minuscules non accentuées, des chiffres ou le caractère \"souligné\" (ce caractère se situe sur la touche 8 du clavier) pour jouer le rôle de séparateur de mots&nbsp;;\n",
    "* débuter obligatoirement par une lettre minuscule.\n",
    "\n",
    "Les noms suivants : `abs`, `ord`, `alti`, `peri1` et `aire_triangle` sont des exemples de noms de variables conformes.\n",
    "\n",
    "L'utilisation de lettres majuscules pour les noms de variables n'est pas interdit, mais n'est pas recommandé. En particulier parce que la **casse** (En informatique, la casse est la distinction entre les caractères minuscules et majuscules) est bien prise en compte par les interpréteurs Python. Ainsi, `aire`, `Aire` et `AIRE` ne désignent pas tous la même variable, mais trois variables différentes. En fait, les lettres majuscules sont utilisées en Python pour les **constantes**, les noms de **classes** et les **exceptions**. Toutes ces notions ne font toutefois pas partie des bases et ne seront pas abordées dans ce chapitre.\n",
    "\n",
    "Pour terminer, il faut préciser que le langage Python comprend un certain nombre de **mots réservés**, qui ont une signification bien précise et qui ne peuvent donc être utilisés comme des noms de variables. Le tableau ci-dessous contient la liste de tous ces mots réservés.\n",
    "\n",
    "![Mots réservés du langage Python](ImagesNotebook/MotsReserves.PNG)"
   ]
  }
 ],
 "metadata": {
  "kernelspec": {
   "display_name": "Python 3 (ipykernel)",
   "language": "python",
   "name": "python3"
  },
  "language_info": {
   "codemirror_mode": {
    "name": "ipython",
    "version": 3
   },
   "file_extension": ".py",
   "mimetype": "text/x-python",
   "name": "python",
   "nbconvert_exporter": "python",
   "pygments_lexer": "ipython3",
   "version": "3.9.12"
  }
 },
 "nbformat": 4,
 "nbformat_minor": 5
}
