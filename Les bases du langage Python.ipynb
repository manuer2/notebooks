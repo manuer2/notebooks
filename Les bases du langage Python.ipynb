{
 "cells": [
  {
   "cell_type": "markdown",
   "id": "b6372e08-1792-48d7-bf8e-4efbe5bd09fb",
   "metadata": {
    "tags": []
   },
   "source": [
    "L'objectif de ce document est de présenter les concepts de base du langage de programmation Python."
   ]
  },
  {
   "cell_type": "markdown",
   "id": "c39ecc3d-fab2-4c54-a900-edae5b622b5e",
   "metadata": {},
   "source": [
    "# La notion de variable"
   ]
  },
  {
   "cell_type": "markdown",
   "id": "4f3591e1-3f62-40b3-957e-05d43084c4e1",
   "metadata": {},
   "source": [
    "Un programme manipule des données. Ce terme de **données**, certes un peu vague, désigne tout ce qui peut être numérisé et stocké dans la mémoire d'une machine, par exemple&nbsp;:\n",
    "\n",
    "* les nombres (entiers, réels, etc)\n",
    "* le texte (caractères, mots, documents, etc)\n",
    "* le multimédia (images, audio, vidéo).\n",
    "\n",
    "La liste ci-dessus n'est bien sûr pas exhaustive. Pour stocker des données dans la mémoire d'une machine, la technique de base consiste à utiliser dans les programmes des **variables**. Une variable désigne une zone de la mémoire dans laquelle est mémorisée un objet. Elle possède&nbsp;:\n",
    "\n",
    "* un **nom de variable** qui lui est propre (deux variables ne peuvent avoir le même nom)&nbsp;;\n",
    "* un **type** qui permet de préciser la nature de l'objet qu'elle contient&nbsp;;\n",
    "* une **valeur** qui est égale à l'objet qu'elle contient.\n",
    "\n",
    "On peut donc écrire un programme Python dans lequel on manipule&nbsp;:\n",
    "\n",
    "* une variable de nom `jour`, de type `chaîne de caractères (string)`, ayant pour valeur l'objet chaîne `'lundi'`&nbsp;;\n",
    "* une variable de nom `mois`, de type `entier (int)`, ayant pour valeur le nombre (objet) entier `25`.\n"
   ]
  },
  {
   "cell_type": "markdown",
   "id": "3c3a632f-c73d-4c68-a76f-ae2ce4a05fd2",
   "metadata": {},
   "source": [
    "## Nom de variable"
   ]
  },
  {
   "cell_type": "markdown",
   "id": "6cc5609b-53f3-46b3-b21f-4b17cb7752f9",
   "metadata": {},
   "source": [
    "Conformément à ce qui est indiqué dans la PEP 8 (PEP 8 pour Python Extension Proposal est un ensemble de règles visant à homogénéiser le code, et à définir de bonnes pratiques de codage en Python), un nom de variable en Python doit respecter les règles suivantes&nbsp;:\n",
    "\n",
    "* ne comporter que des lettres minuscules non accentuées, des chiffres ou le caractère \"souligné\" (ce caractère se situe sur la touche 8 du clavier) pour jouer le rôle de séparateur de mots&nbsp;;\n",
    "* débuter obligatoirement par une lettre minuscule.\n",
    "\n",
    "Les noms suivants : `abs`, `ord`, `alti`, `peri1` et `aire_triangle` sont des exemples de noms de variables conformes.\n",
    "\n",
    "L'utilisation de lettres majuscules pour les noms de variables n'est pas interdit, mais n'est pas recommandé. En particulier parce que la **casse** (En informatique, la casse est la distinction entre les caractères minuscules et majuscules) est bien prise en compte par les interpréteurs Python. Ainsi, `aire`, `Aire` et `AIRE` ne désignent pas tous la même variable, mais trois variables différentes. En fait, les lettres majuscules sont utilisées en Python pour les **constantes**, les noms de **classes** et les **exceptions**. Toutes ces notions ne font toutefois pas partie des bases et ne seront pas abordées dans ce chapitre.\n",
    "\n",
    "Pour terminer, il faut préciser que le langage Python comprend un certain nombre de **mots réservés**, qui ont une signification bien précise et qui ne peuvent donc être utilisés comme des noms de variables. Le tableau ci-dessous contient la liste de tous ces mots réservés.\n",
    "\n",
    "![Mots réservés du langage Python](ImagesNotebook/MotsReserves.PNG)"
   ]
  },
  {
   "cell_type": "markdown",
   "id": "a6147d48-77f2-4f97-8f1a-dff1204e2746",
   "metadata": {},
   "source": [
    "## Valeur d'une variable"
   ]
  },
  {
   "cell_type": "markdown",
   "id": "2a55a71d-998e-4b38-b129-dea8dc287f9f",
   "metadata": {},
   "source": [
    "### Affectation"
   ]
  },
  {
   "cell_type": "markdown",
   "id": "0269e7ea-895a-422b-971f-1e9ee1609207",
   "metadata": {},
   "source": [
    "L'instruction permettant de stocker un objet dans une variable (on parle aussi de donner une valeur à une variable) s'appelle l'**affectation** ou l'**assignation**. Elle se code de la manière suivante&nbsp;:"
   ]
  },
  {
   "cell_type": "code",
   "execution_count": null,
   "id": "74aa9a95-823b-40d0-a9f8-0e583a6b5592",
   "metadata": {},
   "outputs": [],
   "source": [
    "nomvariable = unobjet"
   ]
  },
  {
   "cell_type": "markdown",
   "id": "ad8f6204-9f9e-46bd-9095-fb5b2e026f44",
   "metadata": {},
   "source": [
    "Le signe `=` n'a rien à voir ici avec le test d'égalité couramment utilisé en mathématiques. En langage courant, on pourrait dire que l'affectation ci-dessus permet de stocker l'objet `unobjet` dans la variable `nomvariable`. Après l'instruction d'affectation, la variable référence l'objet qui lui a été affecté. Voici ci-dessous quelques exemples d'affectations&nbsp;:"
   ]
  },
  {
   "cell_type": "code",
   "execution_count": null,
   "id": "4f007ab5-ea75-4461-9eee-46471e3c459f",
   "metadata": {},
   "outputs": [],
   "source": [
    "coef = 5\n",
    "message = \"Hello world !\"\n",
    "valeurPi = 3.14159"
   ]
  },
  {
   "cell_type": "markdown",
   "id": "c88e4ba4-b823-4c5d-925a-8ccd38c8b0a1",
   "metadata": {},
   "source": [
    "Que se passe-t-il dans la mémoire de la machine lorsqu'une affectation d'une nouvelle variable est exécutée dans un programme ? On peut identifier quatre étapes&nbsp;:\n",
    "\n",
    "1. Création d'un nouveau nom de variable dans l'**espace des noms** de la mémoire;\n",
    "2. Création d'un nouvel objet dans une zone de la mémoire;\n",
    "3. Attribution d'un type à la nouvelle variable (conforme au type de l'objet précédent);\n",
    "4. Création d'un lien entre la nouvelle variable et la zone où l'objet est stocké.\n",
    "\n",
    "Voici de manière très schématique l'état de la mémoire après les trois affectations précédentes&nbsp;:\n",
    "\n",
    "![Schéma de la mémoire](ImagesNotebook/EtatMemoire.PNG)"
   ]
  },
  {
   "cell_type": "markdown",
   "id": "d94ff7d0-64d4-4533-8886-274962392d3f",
   "metadata": {},
   "source": [
    "### Affectation multiple\n",
    "\n",
    "On peut affecter le même objet à plusieurs variables en une seule instruction. On parle alors d'**affectation multiple**. Voici ci-dessous un exemple d'affectation multiple&nbsp;:"
   ]
  },
  {
   "cell_type": "code",
   "execution_count": null,
   "id": "682eb48a-4dee-4b33-b431-8c6c89791480",
   "metadata": {},
   "outputs": [],
   "source": [
    "longueur = largeur = 6.5"
   ]
  },
  {
   "cell_type": "markdown",
   "id": "6d87d1c4-3835-4aed-9f2f-0699b2999f54",
   "metadata": {},
   "source": [
    "![Exemple d'affectation multiple](ImagesNotebook/AffectationMultiple.PNG)"
   ]
  },
  {
   "cell_type": "markdown",
   "id": "aedf4db3-381e-4cbe-95c4-d81ed6d99e1f",
   "metadata": {},
   "source": [
    "### Affectations parallèles\n",
    "\n",
    "Il est possible également d'affecter des objets différents à plusieurs variables dans la même instruction. On parle alors d'**affectations parallèles**. Voici un exemple d'affectations parallèles&nbsp;:"
   ]
  },
  {
   "cell_type": "code",
   "execution_count": null,
   "id": "b1ab1f9e-9246-4783-bdeb-81e6276e1d1a",
   "metadata": {},
   "outputs": [],
   "source": [
    "coefA, coefB, coefC = 5, 1n 2.4"
   ]
  },
  {
   "cell_type": "markdown",
   "id": "141034dc-b3d8-4216-9485-04289a180379",
   "metadata": {},
   "source": [
    "![Exemple d'affectation multiple](ImagesNotebook/AffectationsParalleles.PNG)"
   ]
  },
  {
   "cell_type": "markdown",
   "id": "c28840b6-7825-4bd6-b01e-bea046c6a00e",
   "metadata": {},
   "source": [
    "## Les différents types d'objets\n",
    "\n",
    "Il existe de nombreux types d'objets pouvant être manipulés dans des programmes Python. On ne parlera dans cette section que des types d'objets simples. D'autres types d'objets plus complexes, comme par exemple les listes ou les dictionnaires, seront abordés dans un chapitre ultérieur.\n",
    "\n",
    "### Les types numériques\n",
    "\n",
    "* **entier** (`int` en Python)\n",
    "* **réel** ou à « virgule flottante » (`float`)\n",
    "\n",
    "### Les types alphanumériques (pour les données textuelles)\n",
    "\n",
    "* **chaîne** (`string`)\n",
    "\n",
    "Une chaîne est une suite de caractères quelconque entourée soit de guillemets ou doubles quotes (par exemple : `\"Hello !\"`), soit d'apostrophes ou simples quotes (par exemple : `'Python 3.10'`).\n",
    "\n",
    "### Les booléens\n",
    "\n",
    "* `bool`\n",
    "\n",
    "Un booléen est un objet dont la valeur est soit **Vrai** (`True`), soit **Faux** (`False`). Les booléens sont particulièrement utilisés lors de la manipulations d'**expressions conditionnelles**. Nous y reviendrons dans un cours ultérieur."
   ]
  }
 ],
 "metadata": {
  "kernelspec": {
   "display_name": "Python 3 (ipykernel)",
   "language": "python",
   "name": "python3"
  },
  "language_info": {
   "codemirror_mode": {
    "name": "ipython",
    "version": 3
   },
   "file_extension": ".py",
   "mimetype": "text/x-python",
   "name": "python",
   "nbconvert_exporter": "python",
   "pygments_lexer": "ipython3",
   "version": "3.9.12"
  }
 },
 "nbformat": 4,
 "nbformat_minor": 5
}
