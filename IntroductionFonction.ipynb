{
 "cells": [
  {
   "cell_type": "markdown",
   "id": "25abfec6-3972-4244-b875-67a3b7303086",
   "metadata": {},
   "source": [
    "# Les fonctions en Python\n",
    "\n",
    "Dans ce chapitre, nous abordons une notion très importante en programmation : la notion de **fonction**. Nous présentons dans un premier temps les principes généraux qui régissent l'utilisation de fonctions, principes communs à de nombreux langages de programmation. Puis, nous nous focalisons sur la manière dont elles sont déclarées puis utilisées en langage Python.\n",
    "\n",
    "## Intérêt des fonctions\n",
    "\n",
    "Dans un programme, il arrive fréquemment qu'un même traitement soit réalisé à des endroits différents (par exemple, une fois en début de programme puis une seconde fois à la fin). Le « bout de code » correspondant à ce traitement doit alors être répété chaque fois que cela est nécessaire. En plus d'être fastidieuse, cette répétition peut rendre le code illisible. L'utilisation d'une fonction va permettre de « factoriser » ce « bout de code » qui ne sera écrit qu'une seule fois. Outre l'économie de texte et la lisibilité, l'utilisation de fonctions va également faciliter la réutilisation du code (une même fonction pouvant être utilisée dans différents programmes) et la répartition du codage entre les différents programmeurs.\n",
    "\n",
    "## Une fonction est un sous-programme\n",
    "\n",
    "Un sous-programme est un programme... utilisé dans un autre programme !! Il s'agit d'une séquence d'instructions&nbsp;:\n",
    "\n",
    "- à laquelle on a donné un **nom**\n",
    "- qui répond à des **spécifications** précises\n",
    "- qui peut communiquer si besoin avec&nbsp;:\n",
    "   - le programme qui l'utilise (on parle aussi de « séquence appelante ») par l'intermédiaire de **paramètres**\n",
    "   - l'utilisateur via le clavier ou l'écran.\n",
    "\n",
    "On peut distinguer deux types de sous-programme&nbsp;:\n",
    "\n",
    "- la **fonction** qui s'exécute et retourne une valeur à la séquence appelante \n",
    "- la **procédure** qui s'exécute mais ne retourne aucune valeur à la séquence appelante.\n",
    "\n",
    "Une fonction peut être utilisée comme une valeur dans la séquence appelante. En effet, une fonction retournant un nombre entier peut être utilisée dans n'importe quelle instruction manipulant un nombre entier. À l'inverse, une procédure ne retournant pas de valeur, elle ne peut être utilisée dans une expression, mais uniquement comme une instruction élémentaire dans la séquence appelante.\n",
    "\n",
    "Parmi les langages actuels, très peu font la distinction fonction/procédure (parmi les vieux langages qui faisaient cette distinction, on peut citer notamment **Pascal**). La plupart n'implémente que les fonctions, et les procédures ne sont que des cas particuliers de fonctions « sans valeur de retour ». C'est le cas du langage Python.\n",
    "\n",
    "Le programme Python ci-dessous utilise les fonctions `len()` et `print()`. `len()` retourne un nombre entier correspondant à la longueur d'une liste. Elle peut donc être utilisée comme un nombre entier dans l'expression de calcul `len(lstnum)+len(lstalpha)`. En revanche, `print()` ne retourne aucune valeur et est utilisée comme une instruction élémentaire."
   ]
  },
  {
   "cell_type": "code",
   "execution_count": 1,
   "id": "7bb3f000-cbea-4602-8c15-635eea04a53f",
   "metadata": {},
   "outputs": [
    {
     "name": "stdout",
     "output_type": "stream",
     "text": [
      "La longueur totale des deux listes est : 8\n"
     ]
    }
   ],
   "source": [
    "lstnum = [1, 2, 3, 4, 5]\n",
    "lstalpha = ['a', 'b', 'c']\n",
    "lgtotale = len(lstnum)+len(lstalpha)\n",
    "print(f\"La longueur totale des deux listes est : {lgtotale}\")"
   ]
  },
  {
   "cell_type": "markdown",
   "id": "6d4d4ce7-48d5-4461-a022-bf2bc1f24b93",
   "metadata": {},
   "source": [
    "## Les différents types de fonctions\n",
    "\n",
    "Il existe trois types de fonctions&nbsp;:\n",
    "\n",
    "- les fonctions fournies par le langage (on parle aussi de « fonctions natives » ou « built-in functions ») qui peuvent être utilisées directement (par exemple : `print()` et `input()`)\n",
    "- les fonctions pouvant être importées par le biais de bibliothèques à inclure au programme (par exemple : `sqr()` du module `math` ou `randint()`du module `random`)\n",
    "- les fonctions propres au programmeur, qui doivent être déclarées soit au début du programme, soit dans un fichier séparé à inclure au programme.\n",
    "\n",
    "## Fonction propre au programmeur : déclaration et exécution\n",
    "\n",
    "Pour pouvoir utiliser une nouvelle fonction dans son programme, le programmeur doit dans un premier temps **déclarer** cette fonction au début du programme (ou dans un fichier séparé le cas échéant). Cette déclaration doit permettre de préciser entre autres&nbsp;:\n",
    "\n",
    "- son nom\n",
    "- son interface avec la séquence appelante, appelée plus couramment en programmation ses **paramètres** (on trouve également le terme **arguments**)\n",
    "- les traitements qu'elle réalise\n",
    "- si elle retourne ou non une valeur à la séquence appelante, et si c'est le cas quelle est cette valeur.\n",
    "\n",
    "Il est à noter qu'**aucune instruction contenue dans la déclaration d'une fonction n'est exécutée**. La déclaration est une définition abstraite de la fonction et des traitements qu'elle effectue sur des données génériques. Le programme suivant contient uniquement deux déclarations de fonctions, respectivement appelées `cube(nb)` et `volume_sphere(rayon)` (la syntaxe précise d'une déclaration en Python sera vue plus tard dans ce chapitre). L'exécution de ce programme ne fait rien puisque les instructions contenues dans les deux déclarations ne sont pas exécutées, et qu'il ne contient aucune autre instruction."
   ]
  },
  {
   "cell_type": "code",
   "execution_count": 5,
   "id": "cc88271e-7495-4a55-a6a9-5360f56d422b",
   "metadata": {},
   "outputs": [],
   "source": [
    "import math   # import du module math\n",
    "\n",
    "# Déclaration des fonctions\n",
    "\n",
    "def cube(nb):\n",
    "    return math.pow(nb, 3)\n",
    "\n",
    "def volume_sphere(rayon):\n",
    "    return 4 / 3 * math.pi * cube(rayon)"
   ]
  },
  {
   "cell_type": "markdown",
   "id": "4daea35c-e7c0-45ed-9bcb-4938ef5d4430",
   "metadata": {},
   "source": [
    "Une fois déclarée, une fonction peut être exécutée dans une séquence appelante. Cette séquence appelante peut être&nbsp;:\n",
    "\n",
    "- le programme principal (i.e. la séquence d'instructions réalisées par le programme). Dans ce cas, la fonction est exécutée sur les données du programme principal\n",
    "- une autre fonction. Dans ce cas, la fonction est exécutée sur les données contenues dans cette autre fonction. \n",
    "\n",
    "Le programme ci-dessous contient les mêmes déclarations de fonctions que le précédent, ainsi qu'un programme principal qui&nbsp;:\n",
    "\n",
    "- saisit au clavier un nombre réel correspondant au rayon d'une sphère, qui est stocké dans la variable `ray`\n",
    "- calcule puis affiche le volume de la sphère correspondante en exécutant la fonction `volume_sphere(rayon)` (la séquence appelante de la fonction est ici le programme principal). La variable `ray` est fournie en paramètre pour l'exécution de cette fonction.\n",
    "\n",
    "Il est à noter que la fonction `volume_sphere(rayon)` exécute la fonction `cube(nb)` en fournissant comme paramètre sa variable `rayon` (la séquence appelante de la fonction est ici la fonction `volume_sphere(rayon)`)."
   ]
  },
  {
   "cell_type": "code",
   "execution_count": 4,
   "id": "7bd7bc5e-79e7-4376-a36b-57c03ec3796f",
   "metadata": {},
   "outputs": [
    {
     "name": "stdin",
     "output_type": "stream",
     "text": [
      "Saisissez la valeur du rayon de la sphère (en mètres) :  10\n"
     ]
    },
    {
     "name": "stdout",
     "output_type": "stream",
     "text": [
      "Le volume de cette sphère est de 4188.790204786391 mètres cube.\n"
     ]
    }
   ],
   "source": [
    "# Calcul du volume d'une sphère à partir de son rayon\n",
    "\n",
    "import math      # import du module math\n",
    "\n",
    "# Déclaration des fonctions\n",
    "\n",
    "def cube(nb):\n",
    "    return math.pow(nb, 3)\n",
    "\n",
    "def volume_sphere(rayon):\n",
    "    return 4 / 3 * math.pi * cube(rayon)\n",
    "\n",
    "# Programme principal\n",
    "\n",
    "ray = float(input(\"Saisissez la valeur du rayon de la sphère (en mètres) : \"))\n",
    "print(f\"Le volume de cette sphère est de {volume_sphere(ray)} mètres cube.\")"
   ]
  },
  {
   "cell_type": "markdown",
   "id": "3750cf4f-c652-4c53-82da-e1fe0b414e39",
   "metadata": {},
   "source": [
    "Au fil de ce chapitre, nous reviendrons plus en détails sur la manière de déclarer et d'exécuter une fonction en Python. Pour clore cette partie introductive, voici deux schémas résumant les différents types de fonctions en Python.\n",
    "\n",
    "![Fonctions natives et importées d'une bibliothèque](ImagesNotebook/Types_Fonctions_1.PNG)\n",
    "![Fonctions propres au programmeur](ImagesNotebook/Types_Fonctions_2.PNG)"
   ]
  }
 ],
 "metadata": {
  "kernelspec": {
   "display_name": "Python 3 (ipykernel)",
   "language": "python",
   "name": "python3"
  },
  "language_info": {
   "codemirror_mode": {
    "name": "ipython",
    "version": 3
   },
   "file_extension": ".py",
   "mimetype": "text/x-python",
   "name": "python",
   "nbconvert_exporter": "python",
   "pygments_lexer": "ipython3",
   "version": "3.9.12"
  }
 },
 "nbformat": 4,
 "nbformat_minor": 5
}
