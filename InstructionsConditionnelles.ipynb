{
 "cells": [
  {
   "cell_type": "markdown",
   "id": "be6033e2-f1f5-4b90-8d78-4c4da2c026ba",
   "metadata": {},
   "source": [
    "<div align=\"center\">\n",
    "    <font size=\"13\" color=\"red\">Structures de données en Python I</font>\n",
    "    <br>\n",
    "    <font size=\"13\">Contrôle du flux d'exécution</font>\n",
    "    <br>\n",
    "    <font size=\"13\">Les instructions conditionnelles</font>\n",
    "</div>\n",
    "<br>\n",
    "L'objectif de ce document est de présenter les instructions conditionnelles du langage Python."
   ]
  },
  {
   "cell_type": "markdown",
   "id": "d8b1450e-8121-47af-8fbf-df1f2fa48275",
   "metadata": {},
   "source": [
    "Un programme est une suite d'instructions exécutées dans un ordre précis pour aboutir à la production d'un résultat. L'ordre dans lequel les instructions s'exécutent s'appelle le **flux d'exécution**. Dans la plupart des langages de programmation, le contrôle du flux d'exécution s'effectue à l'aide de trois **structures de contrôle** :\n",
    "* la **séquence**\n",
    "* l'**instruction conditionnelle**\n",
    "* l'**instruction répétitive**\n",
    "\n",
    "# La séquence\n",
    "\n",
    "Dans un programme, la séquence est la structure de contrôle la plus simple (cf. figure ci-dessous) : les instructions sont exécutées une par une, de la première à la dernière, dans l'ordre où elles ont été codées.\n",
    "\n",
    "![La séquence](ImagesNotebook/Sequence.PNG)\n",
    "\n",
    "Le programmeur doit donc faire attention à l'ordre dans lequel il place les instructions, puisqu'une simple inversion de deux instructions peut modifier complètement le résultat. Considérons par exemple le programme suivant et exécutons-le en saisissant les valeurs `5` pour `x` et `7` pour `y` :"
   ]
  },
  {
   "cell_type": "code",
   "execution_count": 1,
   "id": "8075a78b-c5f4-4e78-b38c-41509830b20f",
   "metadata": {},
   "outputs": [
    {
     "name": "stdin",
     "output_type": "stream",
     "text": [
      "Saisissez la valeur de x :  5\n",
      "Saisissez la valeur de y :  7\n"
     ]
    },
    {
     "name": "stdout",
     "output_type": "stream",
     "text": [
      "La valeur de est x est 7 et celle de y est 7.\n"
     ]
    }
   ],
   "source": [
    "x = int(input(\"Saisissez la valeur de x : \"))\n",
    "y = int(input(\"Saisissez la valeur de y : \"))\n",
    "x = y\n",
    "y = x\n",
    "print(f\"La valeur de est x est {x} et celle de y est {y}.\")"
   ]
  },
  {
   "cell_type": "markdown",
   "id": "aea980a7-c674-4272-8814-43cd3d8dc64f",
   "metadata": {},
   "source": [
    "Considérons maintenant le même programme, avec juste une inversion de l'ordre des instructions `x = y` et `y = x`. Que constatez-vous en l'exécutant et en saisissant les mêmes valeurs que précédemment pour `x` et `y` ?"
   ]
  },
  {
   "cell_type": "code",
   "execution_count": 2,
   "id": "6e35866a-e321-4c98-a7c6-f6b5d91d4a6d",
   "metadata": {},
   "outputs": [
    {
     "name": "stdin",
     "output_type": "stream",
     "text": [
      "Saisissez la valeur de x :  5\n",
      "Saisissez la valeur de y :  7\n"
     ]
    },
    {
     "name": "stdout",
     "output_type": "stream",
     "text": [
      "La valeur de est x est 5 et celle de y est 5.\n"
     ]
    }
   ],
   "source": [
    "x = int(input(\"Saisissez la valeur de x : \"))\n",
    "y = int(input(\"Saisissez la valeur de y : \"))\n",
    "y = x\n",
    "x = y\n",
    "print(f\"La valeur de est x est {x} et celle de y est {y}.\")"
   ]
  },
  {
   "cell_type": "markdown",
   "id": "76dd23e6-a470-40a8-8f7e-808250f2f50a",
   "metadata": {},
   "source": [
    "Les valeurs finales de `x` et `y` sont différentes."
   ]
  }
 ],
 "metadata": {
  "kernelspec": {
   "display_name": "Python 3 (ipykernel)",
   "language": "python",
   "name": "python3"
  },
  "language_info": {
   "codemirror_mode": {
    "name": "ipython",
    "version": 3
   },
   "file_extension": ".py",
   "mimetype": "text/x-python",
   "name": "python",
   "nbconvert_exporter": "python",
   "pygments_lexer": "ipython3",
   "version": "3.9.12"
  }
 },
 "nbformat": 4,
 "nbformat_minor": 5
}
