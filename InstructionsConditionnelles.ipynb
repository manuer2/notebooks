{
 "cells": [
  {
   "cell_type": "markdown",
   "id": "d8b1450e-8121-47af-8fbf-df1f2fa48275",
   "metadata": {},
   "source": [
    "# Les instructions conditionnelles\n",
    "\n",
    "Un programme est une suite d'instructions exécutées dans un ordre précis pour aboutir à la production d'un résultat. L'ordre dans lequel les instructions s'exécutent s'appelle le **flux d'exécution**. Dans la plupart des langages de programmation, le contrôle du flux d'exécution s'effectue à l'aide de trois **structures de contrôle** :\n",
    "* la **séquence**\n",
    "* l'**instruction conditionnelle**\n",
    "* l'**instruction répétitive**\n",
    "\n",
    "## La séquence\n",
    "\n",
    "Dans un programme, la séquence est la structure de contrôle la plus simple (cf. figure ci-dessous) : les instructions sont exécutées une par une, de la première à la dernière, dans l'ordre où elles ont été codées.\n",
    "\n",
    "![La séquence](ImagesNotebook/Sequence.PNG)\n",
    "\n",
    "Le programmeur doit donc faire attention à l'ordre dans lequel il place les instructions, puisqu'une simple inversion de deux instructions peut modifier complètement le résultat. Considérons par exemple le programme suivant et exécutons-le en saisissant les valeurs `5` pour `x` et `7` pour `y` :"
   ]
  },
  {
   "cell_type": "code",
   "execution_count": 1,
   "id": "8075a78b-c5f4-4e78-b38c-41509830b20f",
   "metadata": {},
   "outputs": [
    {
     "name": "stdin",
     "output_type": "stream",
     "text": [
      "Saisissez la valeur de x :  5\n",
      "Saisissez la valeur de y :  7\n"
     ]
    },
    {
     "name": "stdout",
     "output_type": "stream",
     "text": [
      "La valeur de est x est 7 et celle de y est 7.\n"
     ]
    }
   ],
   "source": [
    "x = int(input(\"Saisissez la valeur de x : \"))\n",
    "y = int(input(\"Saisissez la valeur de y : \"))\n",
    "x = y\n",
    "y = x\n",
    "print(f\"La valeur de est x est {x} et celle de y est {y}.\")"
   ]
  },
  {
   "cell_type": "markdown",
   "id": "aea980a7-c674-4272-8814-43cd3d8dc64f",
   "metadata": {},
   "source": [
    "Considérons maintenant le même programme, avec juste une inversion de l'ordre des instructions `x = y` et `y = x`. Que constatez-vous en l'exécutant et en saisissant les mêmes valeurs que précédemment pour `x` et `y` ?"
   ]
  },
  {
   "cell_type": "code",
   "execution_count": 2,
   "id": "6e35866a-e321-4c98-a7c6-f6b5d91d4a6d",
   "metadata": {},
   "outputs": [
    {
     "name": "stdin",
     "output_type": "stream",
     "text": [
      "Saisissez la valeur de x :  5\n",
      "Saisissez la valeur de y :  7\n"
     ]
    },
    {
     "name": "stdout",
     "output_type": "stream",
     "text": [
      "La valeur de est x est 5 et celle de y est 5.\n"
     ]
    }
   ],
   "source": [
    "x = int(input(\"Saisissez la valeur de x : \"))\n",
    "y = int(input(\"Saisissez la valeur de y : \"))\n",
    "y = x\n",
    "x = y\n",
    "print(f\"La valeur de est x est {x} et celle de y est {y}.\")"
   ]
  },
  {
   "cell_type": "markdown",
   "id": "76dd23e6-a470-40a8-8f7e-808250f2f50a",
   "metadata": {},
   "source": [
    "Les valeurs finales de `x` et `y` sont différentes.\n",
    "\n",
    "## L'instruction conditionnelle `if`\n",
    "\n",
    "Dans un programme, on doit pouvoir adapter les traitements réalisés en fonction du contexte dans lequel on se trouve. Une **instruction conditionnelle** `if` permet (cf. figure ci-dessous) :\n",
    "* de tester si une condition est vérifiée (c'est-à-dire vraie) ou pas (c'est-à-dire fausse)\n",
    "* d'effectuer des instructions différentes selon que la condition est vérifiée (bloc d'instructions 1) ou non (bloc d'instructions 2).\n",
    "\n",
    "![L'instruction conditionnelle](ImagesNotebook/InstructionConditionnelle.PNG)\n",
    "\n",
    "En python, la syntaxe d'une instruction `if` est la suivante :\n"
   ]
  },
  {
   "cell_type": "code",
   "execution_count": null,
   "id": "255a6ecb-4e80-4854-ad65-877c8d2a5f2a",
   "metadata": {},
   "outputs": [],
   "source": [
    "if exp_cond :\n",
    "    bloc_instructions 1\n",
    "else:\n",
    "    bloc_instructions 2"
   ]
  },
  {
   "cell_type": "markdown",
   "id": "1f8df4b2-2556-46dd-830d-5dda8ce81264",
   "metadata": {},
   "source": [
    "Il s'agit d'une **instruction composée** comportant :\n",
    "\n",
    "* deux lignes d'en-tête terminées par le caractère `:` \n",
    "    * `if exp_cond :`\n",
    "    * `else :`\n",
    "* deux blocs d'instructions\n",
    "\n",
    "Les blocs doivent obligatoirement être indentés par rapport aux lignes d'en-tête. Cette indentation s'effectue de préférence avec quatre espaces consécutifs, ou bien avec un caractère de tabulation. Elle est souvent effectuée automatiquement par les éditeurs de code Python.\n",
    "\n",
    "Voici ce qui se passe lors de l'exécution d'une instruction `if` :\n",
    "\n",
    "* la valeur de la condition (`exp_cond`) est évaluée\n",
    "* si cette valeur est vraie, le bloc d'instructions 1 est effectué\n",
    "* si cette valeur est fausse, le bloc d'instructions 2 est effectué\n",
    "* l'exécution séquentielle du programme se poursuit après l'exécution du bloc (1 ou 2).\n",
    "\n",
    "Le programme ci-dessous est un exemple d'utilisation d'une instruction `if`, avec deux traces d'exécution."
   ]
  },
  {
   "cell_type": "code",
   "execution_count": 1,
   "id": "fa5ce57c-ccc4-41bd-af6d-bc19492b4f4e",
   "metadata": {},
   "outputs": [
    {
     "name": "stdin",
     "output_type": "stream",
     "text": [
      "Quel est votre âge ? 14\n"
     ]
    },
    {
     "name": "stdout",
     "output_type": "stream",
     "text": [
      "Vous êtes mineur(e).\n"
     ]
    }
   ],
   "source": [
    "age = int(input(\"Quel est votre âge ?\"))\n",
    "if age>=18:\n",
    "    print(\"Vous êtes majeur(e).\")\n",
    "else:\n",
    "    print(\"Vous êtes mineur(e).\")"
   ]
  },
  {
   "cell_type": "code",
   "execution_count": 2,
   "id": "627f4afa-a0c8-4141-b6e2-05df2866932a",
   "metadata": {},
   "outputs": [
    {
     "name": "stdin",
     "output_type": "stream",
     "text": [
      "Quel est votre âge ? 24\n"
     ]
    },
    {
     "name": "stdout",
     "output_type": "stream",
     "text": [
      "Vous êtes majeur(e).\n"
     ]
    }
   ],
   "source": [
    "age = int(input(\"Quel est votre âge ?\"))\n",
    "if age>=18:\n",
    "    print(\"Vous êtes majeur(e).\")\n",
    "else:\n",
    "    print(\"Vous êtes mineur(e).\")"
   ]
  },
  {
   "cell_type": "markdown",
   "id": "4773a032-db93-4d88-9d50-b48ea22ed917",
   "metadata": {},
   "source": [
    "Il existe une version «réduite» de l'instruction `if` dans laquelle la partie `else` est omise. Dans ce cas, lorsque la condition est fausse, aucun bloc d'instruction particulier n'est effectué avant la poursuite de l'exécution du programme. Voici un exemple de ce cas de figure avec deux traces d'exécution."
   ]
  },
  {
   "cell_type": "code",
   "execution_count": 3,
   "id": "2e04bf8c-f633-452a-9f5d-69fa43c35e52",
   "metadata": {},
   "outputs": [
    {
     "name": "stdin",
     "output_type": "stream",
     "text": [
      "Quel est votre âge ? 19\n"
     ]
    },
    {
     "name": "stdout",
     "output_type": "stream",
     "text": [
      "Vous êtes majeur(e).\n",
      "Au revoir et à bientôt !!\n"
     ]
    }
   ],
   "source": [
    "age = int(input(\"Quel est votre âge ?\"))\n",
    "if age>=18:\n",
    "    print(\"Vous êtes majeur(e).\")\n",
    "print(\"Au revoir et à bientôt !!\")"
   ]
  },
  {
   "cell_type": "code",
   "execution_count": 4,
   "id": "7d89ceeb-ed96-4403-a7fa-664207d74b7e",
   "metadata": {},
   "outputs": [
    {
     "name": "stdin",
     "output_type": "stream",
     "text": [
      "Quel est votre âge ? 15\n"
     ]
    },
    {
     "name": "stdout",
     "output_type": "stream",
     "text": [
      "Au revoir et à bientôt !!\n"
     ]
    }
   ],
   "source": [
    "age = int(input(\"Quel est votre âge ?\"))\n",
    "if age>=18:\n",
    "    print(\"Vous êtes majeur(e).\")\n",
    "print(\"Au revoir et à bientôt !!\")"
   ]
  },
  {
   "cell_type": "code",
   "execution_count": null,
   "id": "15ec518c-60a1-4a7d-b5ec-537785a83d64",
   "metadata": {},
   "outputs": [],
   "source": []
  }
 ],
 "metadata": {
  "kernelspec": {
   "display_name": "Python 3 (ipykernel)",
   "language": "python",
   "name": "python3"
  },
  "language_info": {
   "codemirror_mode": {
    "name": "ipython",
    "version": 3
   },
   "file_extension": ".py",
   "mimetype": "text/x-python",
   "name": "python",
   "nbconvert_exporter": "python",
   "pygments_lexer": "ipython3",
   "version": "3.9.12"
  }
 },
 "nbformat": 4,
 "nbformat_minor": 5
}
