{
 "cells": [
  {
   "cell_type": "markdown",
   "id": "d8b1450e-8121-47af-8fbf-df1f2fa48275",
   "metadata": {},
   "source": [
    "# Les instructions conditionnelles\n",
    "\n",
    "Un programme est une suite d'instructions exécutées dans un ordre précis pour aboutir à la production d'un résultat. L'ordre dans lequel les instructions s'exécutent s'appelle le **flux d'exécution**. Dans la plupart des langages de programmation, le contrôle du flux d'exécution s'effectue à l'aide de trois **structures de contrôle**&nbsp;:\n",
    "* la **séquence**\n",
    "* l'**instruction conditionnelle**\n",
    "* l'**instruction répétitive**\n",
    "\n",
    "Nous aborderons dans ce chapitre la séquence et les instructions conditionnelles. Les instructions répétitives feront l'objet d'un autre chapitre.\n",
    "\n",
    "## La séquence\n",
    "\n",
    "Dans un programme, la séquence est la structure de contrôle la plus simple (cf. figure ci-dessous) : les instructions sont exécutées une par une, de la première à la dernière, dans l'ordre où elles ont été codées.\n",
    "\n",
    "![La séquence](ImagesNotebook/Sequence.PNG)\n",
    "\n",
    "Le programmeur doit donc faire attention à l'ordre dans lequel il place les instructions, puisqu'une simple inversion de deux instructions peut modifier complètement le résultat. Considérons par exemple le programme suivant et exécutons-le en saisissant les valeurs `5` pour `x` et `7` pour `y`&nbsp;:"
   ]
  },
  {
   "cell_type": "code",
   "execution_count": 1,
   "id": "8075a78b-c5f4-4e78-b38c-41509830b20f",
   "metadata": {},
   "outputs": [
    {
     "name": "stdin",
     "output_type": "stream",
     "text": [
      "Saisissez la valeur de x :  5\n",
      "Saisissez la valeur de y :  7\n"
     ]
    },
    {
     "name": "stdout",
     "output_type": "stream",
     "text": [
      "La valeur de est x est 7 et celle de y est 7.\n"
     ]
    }
   ],
   "source": [
    "x = int(input(\"Saisissez la valeur de x : \"))\n",
    "y = int(input(\"Saisissez la valeur de y : \"))\n",
    "x = y\n",
    "y = x\n",
    "print(f\"La valeur de est x est {x} et celle de y est {y}.\")"
   ]
  },
  {
   "cell_type": "markdown",
   "id": "aea980a7-c674-4272-8814-43cd3d8dc64f",
   "metadata": {},
   "source": [
    "Considérons maintenant le même programme, avec juste une inversion de l'ordre des instructions `x = y` et `y = x`. Que constatez-vous en l'exécutant et en saisissant les mêmes valeurs que précédemment pour `x` et `y` ?"
   ]
  },
  {
   "cell_type": "code",
   "execution_count": 2,
   "id": "6e35866a-e321-4c98-a7c6-f6b5d91d4a6d",
   "metadata": {},
   "outputs": [
    {
     "name": "stdin",
     "output_type": "stream",
     "text": [
      "Saisissez la valeur de x :  5\n",
      "Saisissez la valeur de y :  7\n"
     ]
    },
    {
     "name": "stdout",
     "output_type": "stream",
     "text": [
      "La valeur de est x est 5 et celle de y est 5.\n"
     ]
    }
   ],
   "source": [
    "x = int(input(\"Saisissez la valeur de x : \"))\n",
    "y = int(input(\"Saisissez la valeur de y : \"))\n",
    "y = x\n",
    "x = y\n",
    "print(f\"La valeur de est x est {x} et celle de y est {y}.\")"
   ]
  },
  {
   "cell_type": "markdown",
   "id": "76dd23e6-a470-40a8-8f7e-808250f2f50a",
   "metadata": {},
   "source": [
    "Les valeurs finales de `x` et `y` sont différentes.\n",
    "\n",
    "## L'instruction conditionnelle `if`\n",
    "\n",
    "Dans un programme, on doit pouvoir adapter les traitements réalisés en fonction du contexte dans lequel on se trouve. Une **instruction conditionnelle** `if` permet (cf. figure ci-dessous)&nbsp;:\n",
    "* de tester si une condition est vérifiée (c'est-à-dire vraie) ou pas (c'est-à-dire fausse)\n",
    "* d'effectuer des instructions différentes selon que la condition est vérifiée (bloc d'instructions 1) ou non (bloc d'instructions 2).\n",
    "\n",
    "![L'instruction conditionnelle if](ImagesNotebook/InstructionConditionnelle.PNG)\n",
    "\n",
    "En python, la syntaxe d'une instruction `if` est la suivante&nbsp;:\n"
   ]
  },
  {
   "cell_type": "code",
   "execution_count": null,
   "id": "255a6ecb-4e80-4854-ad65-877c8d2a5f2a",
   "metadata": {},
   "outputs": [],
   "source": [
    "if exp_cond :\n",
    "    bloc_instructions 1\n",
    "else:\n",
    "    bloc_instructions 2"
   ]
  },
  {
   "cell_type": "markdown",
   "id": "1f8df4b2-2556-46dd-830d-5dda8ce81264",
   "metadata": {},
   "source": [
    "Il s'agit d'une **instruction composée** comportant&nbsp;:\n",
    "\n",
    "* deux lignes d'en-tête terminées par le caractère `:` \n",
    "    * `if exp_cond :`\n",
    "    * `else :`\n",
    "* deux blocs d'instructions\n",
    "\n",
    "Les blocs doivent obligatoirement être indentés par rapport aux lignes d'en-tête. Cette indentation s'effectue de préférence avec quatre espaces consécutifs, ou bien avec un caractère de tabulation. Elle est souvent effectuée automatiquement par les éditeurs de code Python.\n",
    "\n",
    "Voici ce qui se passe lors de l'exécution d'une instruction `if`&nbsp;:\n",
    "\n",
    "* la valeur de la condition (`exp_cond`) est évaluée\n",
    "* si cette valeur est vraie, le bloc d'instructions 1 est effectué\n",
    "* si cette valeur est fausse, le bloc d'instructions 2 est effectué\n",
    "* l'exécution séquentielle du programme se poursuit après l'exécution du bloc (1 ou 2).\n",
    "\n",
    "Le programme ci-dessous est un exemple d'utilisation d'une instruction `if`, avec deux traces d'exécution."
   ]
  },
  {
   "cell_type": "code",
   "execution_count": 1,
   "id": "fa5ce57c-ccc4-41bd-af6d-bc19492b4f4e",
   "metadata": {},
   "outputs": [
    {
     "name": "stdin",
     "output_type": "stream",
     "text": [
      "Quel est votre âge ? 14\n"
     ]
    },
    {
     "name": "stdout",
     "output_type": "stream",
     "text": [
      "Vous êtes mineur(e).\n"
     ]
    }
   ],
   "source": [
    "age = int(input(\"Quel est votre âge ?\"))\n",
    "if age>=18:\n",
    "    print(\"Vous êtes majeur(e).\")\n",
    "else:\n",
    "    print(\"Vous êtes mineur(e).\")"
   ]
  },
  {
   "cell_type": "code",
   "execution_count": 2,
   "id": "627f4afa-a0c8-4141-b6e2-05df2866932a",
   "metadata": {},
   "outputs": [
    {
     "name": "stdin",
     "output_type": "stream",
     "text": [
      "Quel est votre âge ? 24\n"
     ]
    },
    {
     "name": "stdout",
     "output_type": "stream",
     "text": [
      "Vous êtes majeur(e).\n"
     ]
    }
   ],
   "source": [
    "age = int(input(\"Quel est votre âge ?\"))\n",
    "if age>=18:\n",
    "    print(\"Vous êtes majeur(e).\")\n",
    "else:\n",
    "    print(\"Vous êtes mineur(e).\")"
   ]
  },
  {
   "cell_type": "markdown",
   "id": "4773a032-db93-4d88-9d50-b48ea22ed917",
   "metadata": {},
   "source": [
    "Il existe une version «réduite» de l'instruction `if` dans laquelle la partie `else` est omise. Dans ce cas, lorsque la condition est fausse, aucun bloc d'instructions particulier n'est effectué avant la poursuite de l'exécution du programme. Voici un exemple de ce cas de figure avec deux traces d'exécution."
   ]
  },
  {
   "cell_type": "code",
   "execution_count": 3,
   "id": "2e04bf8c-f633-452a-9f5d-69fa43c35e52",
   "metadata": {},
   "outputs": [
    {
     "name": "stdin",
     "output_type": "stream",
     "text": [
      "Quel est votre âge ? 19\n"
     ]
    },
    {
     "name": "stdout",
     "output_type": "stream",
     "text": [
      "Vous êtes majeur(e).\n",
      "Au revoir et à bientôt !!\n"
     ]
    }
   ],
   "source": [
    "age = int(input(\"Quel est votre âge ?\"))\n",
    "if age>=18:\n",
    "    print(\"Vous êtes majeur(e).\")\n",
    "print(\"Au revoir et à bientôt !!\")"
   ]
  },
  {
   "cell_type": "code",
   "execution_count": 4,
   "id": "7d89ceeb-ed96-4403-a7fa-664207d74b7e",
   "metadata": {},
   "outputs": [
    {
     "name": "stdin",
     "output_type": "stream",
     "text": [
      "Quel est votre âge ? 15\n"
     ]
    },
    {
     "name": "stdout",
     "output_type": "stream",
     "text": [
      "Au revoir et à bientôt !!\n"
     ]
    }
   ],
   "source": [
    "age = int(input(\"Quel est votre âge ?\"))\n",
    "if age>=18:\n",
    "    print(\"Vous êtes majeur(e).\")\n",
    "print(\"Au revoir et à bientôt !!\")"
   ]
  },
  {
   "cell_type": "markdown",
   "id": "641cc7ea-a526-49c5-a20c-da82c74a61f7",
   "metadata": {},
   "source": [
    "Un bloc d'instructions appartenant à une instruction `if` peut lui-même contenir une autre instruction `if`. On dit alors que les deux instructions `if` sont **imbriquées**. L'exemple suivant illustre ce cas de figure."
   ]
  },
  {
   "cell_type": "code",
   "execution_count": 1,
   "id": "d86c7b5c-37c4-4ef9-b213-25b2b5d451b1",
   "metadata": {},
   "outputs": [
    {
     "name": "stdin",
     "output_type": "stream",
     "text": [
      "Saisissez un nombre entier :  -6\n"
     ]
    },
    {
     "name": "stdout",
     "output_type": "stream",
     "text": [
      "Il s'agit d'un nombre négatif.\n"
     ]
    }
   ],
   "source": [
    "monentier = int(input(\"Saisissez un nombre entier : \"))\n",
    "if monentier<0:\n",
    "    print(\"Il s'agit d'un nombre négatif.\")\n",
    "else:\n",
    "    if monentier>0:\n",
    "        print(\"Il s'agit d'un nombre positif.\")\n",
    "    else:\n",
    "        print(\"Il s'agit d'un nombre nul.\")"
   ]
  },
  {
   "cell_type": "code",
   "execution_count": 2,
   "id": "865ef3ee-c01e-44d1-a649-08de193e7f8c",
   "metadata": {},
   "outputs": [
    {
     "name": "stdin",
     "output_type": "stream",
     "text": [
      "Saisissez un nombre entier :  0\n"
     ]
    },
    {
     "name": "stdout",
     "output_type": "stream",
     "text": [
      "Il s'agit d'un nombre nul.\n"
     ]
    }
   ],
   "source": [
    "monentier = int(input(\"Saisissez un nombre entier : \"))\n",
    "if monentier<0:\n",
    "    print(\"Il s'agit d'un nombre négatif.\")\n",
    "else:\n",
    "    if monentier>0:\n",
    "        print(\"Il s'agit d'un nombre positif.\")\n",
    "    else:\n",
    "        print(\"Il s'agit d'un nombre nul.\")"
   ]
  },
  {
   "cell_type": "code",
   "execution_count": 3,
   "id": "9361c2eb-5d9e-4dde-ad38-282afb7be85e",
   "metadata": {},
   "outputs": [
    {
     "name": "stdin",
     "output_type": "stream",
     "text": [
      "Saisissez un nombre entier :  8\n"
     ]
    },
    {
     "name": "stdout",
     "output_type": "stream",
     "text": [
      "Il s'agit d'un nombre positif.\n"
     ]
    }
   ],
   "source": [
    "monentier = int(input(\"Saisissez un nombre entier : \"))\n",
    "if monentier<0:\n",
    "    print(\"Il s'agit d'un nombre négatif.\")\n",
    "else:\n",
    "    if monentier>0:\n",
    "        print(\"Il s'agit d'un nombre positif.\")\n",
    "    else:\n",
    "        print(\"Il s'agit d'un nombre nul.\")"
   ]
  },
  {
   "cell_type": "markdown",
   "id": "cdf953a9-3cc2-47dd-aa42-b1df3d40cb42",
   "metadata": {},
   "source": [
    "## La simplification avec `elif`\n",
    "\n",
    "L'exemple précédent contient deux instructions `if` imbriquées sur deux niveaux. E pratique, les possibilités d'imbrication sont multiples, et il n'existe pas de limitation du nombre de niveaux. Lorsque plusieurs instructions `if` sont imbriquées sur plusieurs niveaux, il est possible de simplifier l'écriture du code en utilisant l'instruction `elif` (contraction de `else` et `if`). Ainsi, le code suivant&nbsp;:"
   ]
  },
  {
   "cell_type": "code",
   "execution_count": null,
   "id": "8c153b36-0c78-41d3-a901-fafb8c723887",
   "metadata": {},
   "outputs": [],
   "source": [
    "if exp_cond1:\n",
    "    bloc 1\n",
    "else:\n",
    "    if exp_cond2:\n",
    "        bloc 2\n",
    "    else:\n",
    "        if exp_cond3:\n",
    "            bloc 3\n",
    "        else:\n",
    "            bloc 4"
   ]
  },
  {
   "cell_type": "markdown",
   "id": "16392dab-e60c-4d19-a061-c2de33c177f9",
   "metadata": {},
   "source": [
    "peut se simplifier de la manière suivante&nbsp;:"
   ]
  },
  {
   "cell_type": "code",
   "execution_count": null,
   "id": "c95499b1-100b-4193-8198-e81b2b70d56e",
   "metadata": {},
   "outputs": [],
   "source": [
    "if exp_cond1:\n",
    "    bloc 1\n",
    "elif exp_cond2:\n",
    "    bloc 2\n",
    "elif exp_cond3:\n",
    "    bloc 3\n",
    "else:\n",
    "    bloc 4"
   ]
  },
  {
   "cell_type": "markdown",
   "id": "f21f4f61-a6e0-4c03-ab73-f32140b3ff54",
   "metadata": {},
   "source": [
    "L'usage de l'instruction `elif` permet notamment d'avoir un seul niveau d'indentation des différents blocs."
   ]
  }
 ],
 "metadata": {
  "kernelspec": {
   "display_name": "Python 3 (ipykernel)",
   "language": "python",
   "name": "python3"
  },
  "language_info": {
   "codemirror_mode": {
    "name": "ipython",
    "version": 3
   },
   "file_extension": ".py",
   "mimetype": "text/x-python",
   "name": "python",
   "nbconvert_exporter": "python",
   "pygments_lexer": "ipython3",
   "version": "3.9.12"
  }
 },
 "nbformat": 4,
 "nbformat_minor": 5
}
