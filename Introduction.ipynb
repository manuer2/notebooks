{
 "cells": [
  {
   "cell_type": "markdown",
   "id": "4c9a1e7f",
   "metadata": {
    "tags": []
   },
   "source": [
    "<div align=\"center\">\n",
    "    <font size=\"13\" color=\"red\">Structures de données en Python I</font>\n",
    "    <br>\n",
    "    <font size=\"13\">Introduction</font>\n",
    "</div>"
   ]
  },
  {
   "cell_type": "markdown",
   "id": "8d42dd5f-c5fa-4ac9-afc1-4f803d205b06",
   "metadata": {},
   "source": [
    "# Objectifs\n",
    "\n",
    "Ce cours est la continuité du cours de **« Culture Numérique et Programmation »** du semestre 1. La réflexion algorithmique en reste l'un des objectifs, mais nous y ajoutons en plus l'apprentissage de la syntaxe et des concepts de base de la programmation en langage Python. Tous les documents nécessaires (PDF des cours et des sujets de travaux dirigés, corrigés des programmes demandés) sont téléchargeables à partir de l'**espace-cours Cursus « Structures de données en Python I »** : https://cursus.univ-rennes2.fr/course/view.php?id=5679."
   ]
  },
  {
   "cell_type": "markdown",
   "id": "977ac6b7",
   "metadata": {},
   "source": [
    "# Modalités pédagogiques"
   ]
  },
  {
   "cell_type": "markdown",
   "id": "fa5caa11-4275-45ef-96f4-3302fe915566",
   "metadata": {},
   "source": [
    "Le cours est composé essentiellement de séances de Travaux Dirigés, à raison de deux heures par semaine. Quatre intervenants assureront les TDs :"
   ]
  },
  {
   "cell_type": "markdown",
   "id": "3e7fb003-9b1c-4652-b100-bd9d09764906",
   "metadata": {},
   "source": [
    "* Haïscam ABDALLAH\n",
    "* Xavier ANDRÉ\n",
    "* Emmanuelle MARTIENNE\n",
    "* Fabienne MOREAU"
   ]
  },
  {
   "cell_type": "markdown",
   "id": "5737d917-2e13-4868-8272-90e4cf4387ee",
   "metadata": {},
   "source": [
    "L'évaluation du cours s'effectue à l'aide de deux contrôles continus (deux épreuves individuelles sur machine d'une durée d'une heure), comptant chacun pour 50% de la note finale."
   ]
  },
  {
   "cell_type": "markdown",
   "id": "93658ae3",
   "metadata": {},
   "source": [
    "# Bibliographie - Webographie"
   ]
  },
  {
   "cell_type": "markdown",
   "id": "02926427-f215-4363-8bd0-8c59b84b27eb",
   "metadata": {},
   "source": [
    "* **Apprendre à programmer avec Python 3** - G. Swinnen - _Éditions Eyrolles_ (version PDF disponible dans l'espace-cours Cursus mentionné plus haut). \n",
    "* **Page Wikipédia sur Python** - https://fr.wikipedia.org/wiki/Python_(langage)\n",
    "* **Page Wikipédia sur la programmation informatique** - https://fr.wikipedia.org/wiki/Programmation_informatique"
   ]
  },
  {
   "cell_type": "markdown",
   "id": "dbec4265",
   "metadata": {},
   "source": [
    "# Qu'est-ce que la programmation ?"
   ]
  },
  {
   "cell_type": "markdown",
   "id": "b0b34c03",
   "metadata": {},
   "source": [
    "## Définition"
   ]
  },
  {
   "cell_type": "markdown",
   "id": "7fdd7283-60bb-47e5-8dc9-a678313b4843",
   "metadata": {},
   "source": [
    "On peut définir la programmation comme une activité destinée à faire réaliser par un ordinateur une tâche qu'il n'était pas en mesure d'accomplir auparavant. Plus concrètement, elle consiste à **coder des programmes** que l'ordinateur sera capable d'exécuter, à l'aide d'un **langage de programmation**. La programmation occupe une part très importante dans tout le processus de développement des logiciels informatiques."
   ]
  },
  {
   "cell_type": "markdown",
   "id": "2de84470",
   "metadata": {},
   "source": [
    "## Exemple de tâche simple"
   ]
  },
  {
   "cell_type": "markdown",
   "id": "e225c107-e1ba-42b3-a6a8-aef5052d677d",
   "metadata": {},
   "source": [
    "On considère par exemple une tâche assez qu'il est possible d'effectuer avec juste un crayon, une feuille de papier... et le souvenir de ses leçons de mathématiques du lycée : le calcul des racines réelles d'une équation du second degré à une inconnue de la forme : $ax^2+bx+c=0$. Pour automatiser cette tâche à l'aide d'un ordinateur et d'un programme, quatre étapes sont nécessaires&nbsp;:"
   ]
  },
  {
   "cell_type": "markdown",
   "id": "3c5eb1d1-56d8-4aef-ba7b-5630786b9cb3",
   "metadata": {},
   "source": [
    "* la conception ;\n",
    "* le codage ;\n",
    "* la compilation ou l'interprétation du programme source ;\n",
    "* le test du programme source."
   ]
  },
  {
   "cell_type": "markdown",
   "id": "4517ae2b",
   "metadata": {},
   "source": [
    "# Les étapes de la mise au point d'un programme"
   ]
  },
  {
   "cell_type": "markdown",
   "id": "e5b8bd7c",
   "metadata": {},
   "source": [
    "## La conception"
   ]
  },
  {
   "cell_type": "markdown",
   "id": "a7c494b9-62e3-4c64-8cca-c3d1a4957a17",
   "metadata": {},
   "source": [
    "La conception est une analyse préalable, sur papier, du programme que l'on souhaite écrire. Cela suppose de se poser, et aussi de répondre, à un certain nombre de questions de manière non ambigüe. Voici pêle-mêle quelques exemples de ces questions (la liste n'est pas exhaustive !).\n",
    "\n",
    "\n",
    "À l'origine d'un programme, il y généralement les données qu'il va traiter, qui sont souvent appelées les **entrées**. Quelles sont ces entrées ? Dans quel format se présentent-elles ? Comment sont-elles fournies au programme (saisie au clavier, lecture dans un ou plusieurs fichiers) ?\n",
    "\n",
    "\n",
    "Un programme traite des données pour produire des résultats, aussi appelés **sorties**. Quelles sont ces sorties ? Dans quel format se présentent-elles ? Comment sont-elles fournies à l'utilisateur (affichage à l'écran ou création de fichier) ?\n",
    "\n",
    "\n",
    "Une fois les entrées et sorties clairement formalisées, vient la question centrale : comment le programme va-t-il produire les sorties à partir des entrées ? Répondre à cette question consiste à écrire un **algorithme**, c'est-à-dire une suite d'actions, que l'ordinateur doit réaliser séquentiellement pour obtenir les sorties à partir des entrées. À titre de comparaison avec la vie quotidienne, un algorithme en informatique est équivalent à une recette de cuisine. Les entrées sont les ingrédients, les sorties sont le plat à confectionner, et la recette (l'algorithme) vous indique pas à pas comment mélanger les ingrédients (les entrées) pour obtenir le plat (les sorties).\n",
    "\n",
    "Voici ci-dessous un document qui pourrait tout à fait être le résultat de la phase de conception de notre programme de calcul des racines d'une équation."
   ]
  },
  {
   "cell_type": "code",
   "execution_count": null,
   "id": "b84fe6e5-a7ee-48c0-a28b-666f0fa79341",
   "metadata": {},
   "outputs": [],
   "source": [
    "## Entrées : trois variables réelles correspondant aux coefficients\n",
    "#            de l'équation. \n",
    "#            Les valeurs de ces variables sont saisies au clavier.\n",
    "#            - coeff_a est la valeur du coefficient a\n",
    "#            - coeff_b est la valeur du coefficient b\n",
    "#            - coeff_c est la valeur du coefficient c\n",
    "#            Aucun contrôle de validité n'est effectué sur les valeurs\n",
    "#            saisies au clavier.\n",
    "## Sorties : deux (une) variable(s) réelle(s) correspondant aux racines \n",
    "#            (à la racine unique) de l'équation si elle(s) existe(nt).\n",
    "#            Les valeurs de ces variables sont affichées à l'écran.\n",
    "#            - racine1 est la valeur de la première racine\n",
    "#              (ou de la racine unique selon le cas\n",
    "#            - racine2 est la valeur de la seconde racine\n",
    "#            si l'équation n'admet aucune racine réelle, un message\n",
    "#            l'indiquant est affiché à l'écran.\n",
    "# Autres données calculées dans le programme :\n",
    "#            - variable réelle delta contenant la valeur du discriminant\n",
    "#              de l'équation.\n",
    "\n",
    "# Algorithme (séquence d'instructions à réaliser)\n",
    "\n",
    "    Afficher à l'écran le message : \n",
    "    \" Saisissez au clavier les valeurs des 3 coefficients de l'équation : \"\n",
    "    Saisir au clavier la valeur de coeff_a\n",
    "    Saisir au clavier la valeur de coeff_b\n",
    "    Saisir au clavier la valeur de coeff_c\n",
    "    Calculer la valeur du discriminant delta\n",
    "    Si (delta <= 0)\n",
    "        alors Si (delta > 0)\n",
    "                    alors calculer les valeurs des 2 racines racine1 et racine2\n",
    "                          afficher à l'écran les valeurs de racine1 et racine2\n",
    "                    sinon calculer la valeur de la racine unique racine1\n",
    "                          afficher la valeur de racine1\n",
    "        sinon afficher à l'écran un message indiquant qu'il n'y a aucune racine"
   ]
  },
  {
   "cell_type": "markdown",
   "id": "a314c8be",
   "metadata": {},
   "source": [
    "## Le codage"
   ]
  },
  {
   "cell_type": "markdown",
   "id": "b307d73a-b575-4031-9ad8-ece35c325a81",
   "metadata": {},
   "source": [
    "L'étape de codage consiste à traduire l'algorithme résultant de la phase de conception en un **programme source**, codé dans un langage de programmation. Voici ci-dessous le programme source obtenu en traduisant l'algorithme précédent en langage Python.\n",
    "\n",
    "![Programme source en langage Python calculant les racines réelles d'une équation du second degré à une seule inconnue](ImagesNotebook/equation.PNG)\n",
    "\n",
    "Même si le langage de programmation est généralement de haut niveau et donc non compréhensible directement par un ordinateur, cette étape est un pas de plus vers l'exécution de l'algorithme par la machine. "
   ]
  },
  {
   "cell_type": "markdown",
   "id": "8697f8a7",
   "metadata": {},
   "source": [
    "## La transformation du programme source"
   ]
  },
  {
   "cell_type": "markdown",
   "id": "6d10cae0-0b4b-41c8-b108-d1b726daa151",
   "metadata": {},
   "source": [
    "La transformation du programme source consiste à rendre ce dernier exécutable par l'ordinateur. Pour ce faire, il existe deux techniques&nbsp;:\n",
    "\n",
    "* la compilation\n",
    "* l'interprétation."
   ]
  },
  {
   "cell_type": "markdown",
   "id": "7b609799",
   "metadata": {},
   "source": [
    "### La compilation"
   ]
  },
  {
   "cell_type": "markdown",
   "id": "8004d6db-b063-4fea-bbb8-34832fce66a7",
   "metadata": {},
   "source": [
    "Le principe de la compilation est d'utiliser un programme spécifique, appelé **compilateur**, pour transformer un programme source&nbsp;:\n",
    "\n",
    "* soit en un programme directement compréhensible et exécutable par la machine (les fichiers portant l'extension .exe sont des programmes exécutables directement par la machine)\n",
    "* soit en un **bytecode** directement compréhensible et exécutable par une **machine virtuelle** (les fichiers portant l'extension .class sont des bytecodes). Dans ce second cas, cette machine virtuelle doit être installée sur l'ordinateur pour qu'il puisse exécuter le bytecode.\n",
    "\n",
    "Parmi les langages de programmation pouvant être compilés, on peut citer par exemple&nbsp;:\n",
    "\n",
    "* Pascal, C et C++ où le résultat de la compilation est un programme exécutable\n",
    "* Java et Python où le résultat de la compilation est un bytecode."
   ]
  },
  {
   "cell_type": "markdown",
   "id": "2d0a6aba",
   "metadata": {},
   "source": [
    "### L'interprétation"
   ]
  },
  {
   "cell_type": "markdown",
   "id": "c7b4788f-7a95-42d3-a9d2-89f93221eeef",
   "metadata": {},
   "source": [
    "Le principe de l'interprétation est d'utiliser un programme spécifique, appelé **interpréteur**, qui va lire le programme source séquentiellement, instruction par instruction. Il traduit chaque instruction en **langage machine** avant de la transmettre à l'ordinateur pour que celui-ci l'exécute. Parmi les langages de programmation pouvant être interprétés, on peut citer par exemple&nbsp;:\n",
    "\n",
    "* Perl\n",
    "* PHP\n",
    "* Python (il est à noter que les programmes Python peuvent aussi être compilés).\n",
    "\n",
    "Voici ci-dessous le programme source Python (on utilise généralement le terme de **script Python**) prêt à être interprété (avec un exemple d'exécution)."
   ]
  },
  {
   "cell_type": "code",
   "execution_count": 1,
   "id": "0fd18ba0-8925-4d6e-9658-b042c9491b2b",
   "metadata": {},
   "outputs": [
    {
     "name": "stdout",
     "output_type": "stream",
     "text": [
      "Saisissez les valeurs des 3 coefficients a, b et c dans cet ordre : \n"
     ]
    },
    {
     "name": "stdin",
     "output_type": "stream",
     "text": [
      " 4\n",
      " 4\n",
      " 1\n"
     ]
    },
    {
     "name": "stdout",
     "output_type": "stream",
     "text": [
      "L'équation admet une racine réelle double égale à : -0.5.\n"
     ]
    }
   ],
   "source": [
    "from math import sqrt\n",
    "\n",
    "# Saisie des données au clavier\n",
    "\n",
    "print(\"Saisissez les valeurs des 3 coefficients a, b et c dans cet ordre : \")\n",
    "# Saisie et mémorisation des coefficients (conversion des chaînes saisies en nombres réels)\n",
    "coeff_a = float(input())\n",
    "coeff_b = float(input())\n",
    "coeff_c = float(input())\n",
    "\n",
    "# Calcul et mémorisation du discriminant de l'équation\n",
    "\n",
    "delta = (coeff_b**2)-(4 * coeff_a * coeff_c)\n",
    "\n",
    "# Calcul des racines réelles (ou pas) en fonction de la valeur du discriminant\n",
    "\n",
    "if (delta >= 0):\n",
    "    if (delta > 0):\n",
    "        racine1 = ((-1 * coeff_b) - sqrt(delta))/(2 * coeff_a)\n",
    "        racine2 = ((-1 * coeff_b) + sqrt(delta))/(2 * coeff_a)\n",
    "        print(f\"L'équation admet deux racines réelles égales à {racine1} et {racine2}.\")\n",
    "    else:\n",
    "        racine1 = (-1 * coeff_b)/(2 * coeff_a)\n",
    "        print(f\"L'équation admet une racine réelle double égale à : {racine1}.\")\n",
    "else:\n",
    "    print(\"Cette équation n'admet pas de racine réelle.\")"
   ]
  },
  {
   "cell_type": "markdown",
   "id": "998ab753",
   "metadata": {},
   "source": [
    "## Le test du programme"
   ]
  },
  {
   "cell_type": "markdown",
   "id": "41cfcaa7-2e14-47e7-8763-9f9cc4bae70f",
   "metadata": {},
   "source": [
    "Cette dernière étape de la conception d'un programme consiste à vérifier que celui-ci fonctionne correctement, et qu'il est conforme à ce qui a été défini lors de la phase de conception. Pour ce faire, il est nécessaire de constituer des **jeux d'essai**, c'est-à-dire des exemples d'entrées possibles avec les sorties attendues du programme. Ces jeux d'essai doivent être exhaustifs, dans le sens où ils doivent permettre de tester le comportement du programme dans tous les cas de figures possibles. Le programme est ensuite exécuté sur ces jeux d'essai. Si toutes les exécutions se déroulent normalement (une exécution normale est une exécution du début à la fin sans plantage du programme) et que les sorties produites sont conformes à celles attendues, on peut alors considérer que le programme est terminé. Si des erreurs sont constatées, il sera nécessaire de revoir le travail en amont afin de corriger le programme. La correction se fera à une étape différente (généralement au niveau de la conception ou du codage) en fonction du type d'erreur constaté.\n",
    "Si on considère le programme précédent, en fonction des coefficients de l'équation (les valeurs des variables **coeff_a**, **coeff_b** et **coeff_c**), il existe trois cas de figure possibles&nbsp;:\n",
    "\n",
    "* l'équation admet deux racines réelles\n",
    "* l'équation admet une seule racine réelle\n",
    "* l'équation n'admet pas de racine réelle.\n",
    "\n",
    "Pour tester complètement ce programme, il faut donc trouver au minimum trois jeux d'essai (un jeu d'essai pas cas). Voici des propositions de jeux d'essai que vous pouvez tester en interprétant le programme ci-dessus&nbsp;:\n",
    "\n",
    "* $x^2+3x+2=0$ soit les valeurs respectives de 1, 3 et 2 pour les variables saisies **coeff_a**, **coeff_b** et **coeff_c**. Le programme doit afficher les valeurs des deux racines réelles : -2 et -1.\n",
    "* $4x^2+4x+1=0$ soit les valeurs respectives de 4, 4 et 1 pour les variables saisies **coeff_a**, **coeff_b** et **coeff_c**. Le programme doit afficher la valeur de l'unique racine réelle : -1/2.\n",
    "* $x^2+x+1=0$ soit les valeurs respectives de 1, 1 et 1 pour les variables saisies **coeff_a**, **coeff_b** et **coeff_c**. Le programme doit afficher un message indiquant qu'il n'existe pas de racine réelle."
   ]
  },
  {
   "cell_type": "markdown",
   "id": "69a7f7fc",
   "metadata": {},
   "source": [
    "## Les différents types d'erreurs"
   ]
  },
  {
   "cell_type": "markdown",
   "id": "0fb83be9",
   "metadata": {
    "tags": []
   },
   "source": [
    "### Erreur de syntaxe"
   ]
  },
  {
   "cell_type": "markdown",
   "id": "490ba491-8a22-4136-a7b5-bd0d722b6570",
   "metadata": {},
   "source": [
    "Comme tout langage, un langage de programmation se base sur des règles précises qui doivent être respectées. Une erreur de syntaxe dans un programme source correspond à un non respect des règles de syntaxe et de structure du langage choisi. C'est en quelque sorte une faute d'orthographe dans le programme. On ne peut pas énumérer toutes les erreurs de syntaxe possibles, mais en voici quelques-unes assez courantes&nbsp;:\n",
    "\n",
    "* erreur sur un mot réservé du langage, par exemple **imput** à la place de **input**\n",
    "* oubli d'une parenthèse (ouvrante ou fermante) dans une expression de calcul\n",
    "* erreur dans l'écriture d'un nom de variable\n",
    "* oubli d'un guillemet ou d'une apostrophe autout d'une chaîne de caractères\n",
    "* etc.\n",
    "\n",
    "Une erreur de syntaxe est toujours signalée lors de la phase de compilation ou d'interprétation du programme. Pour la corriger, il faut retourner à l'étape de codage. Vous trouverez ci-dessous deux exemples de scripts Python (toujours notre programme de l'équation !) dont l'interprétation indique des erreurs de syntaxe. Quelles sont ces erreurs&nbsp;? Notez bien que le message d'erreur fourni par l'interpréteur, ainsi que parfois la ligne où est censée se trouver l'erreur, ne sont pas toujours exacts. Avant d'exécuter les scripts, n'oubliez pas de réinitialiser la mémoire de l'interpréteur en cliquant sur la flèche circulaire \"Restart the kernel\"."
   ]
  },
  {
   "cell_type": "code",
   "execution_count": 2,
   "id": "756554c2-dc16-42f7-9d65-0b13111ec89c",
   "metadata": {},
   "outputs": [
    {
     "name": "stdout",
     "output_type": "stream",
     "text": [
      "Saisissez les valeurs des 3 coefficients a, b et c dans cet ordre : \n"
     ]
    },
    {
     "name": "stdin",
     "output_type": "stream",
     "text": [
      " 5\n",
      " 6\n",
      " 1\n"
     ]
    },
    {
     "ename": "NameError",
     "evalue": "name 'racine1' is not defined",
     "output_type": "error",
     "traceback": [
      "\u001b[1;31m---------------------------------------------------------------------------\u001b[0m",
      "\u001b[1;31mNameError\u001b[0m                                 Traceback (most recent call last)",
      "Input \u001b[1;32mIn [2]\u001b[0m, in \u001b[0;36m<cell line: 17>\u001b[1;34m()\u001b[0m\n\u001b[0;32m     17\u001b[0m \u001b[38;5;28;01mif\u001b[39;00m (delta \u001b[38;5;241m>\u001b[39m\u001b[38;5;241m=\u001b[39m \u001b[38;5;241m0\u001b[39m):\n\u001b[0;32m     18\u001b[0m     \u001b[38;5;28;01mif\u001b[39;00m (delta \u001b[38;5;241m>\u001b[39m \u001b[38;5;241m0\u001b[39m):\n\u001b[1;32m---> 19\u001b[0m         \u001b[43mracine1\u001b[49m \u001b[38;5;241m==\u001b[39m ((\u001b[38;5;241m-\u001b[39m\u001b[38;5;241m1\u001b[39m \u001b[38;5;241m*\u001b[39m coeff_b) \u001b[38;5;241m-\u001b[39m sqrt(delta))\u001b[38;5;241m/\u001b[39m(\u001b[38;5;241m2\u001b[39m \u001b[38;5;241m*\u001b[39m coeff_a)\n\u001b[0;32m     20\u001b[0m         racine2 \u001b[38;5;241m=\u001b[39m ((\u001b[38;5;241m-\u001b[39m\u001b[38;5;241m1\u001b[39m \u001b[38;5;241m*\u001b[39m coeff_b) \u001b[38;5;241m+\u001b[39m sqrt(delta))\u001b[38;5;241m/\u001b[39m(\u001b[38;5;241m2\u001b[39m \u001b[38;5;241m*\u001b[39m coeff_a)\n\u001b[0;32m     21\u001b[0m         \u001b[38;5;28mprint\u001b[39m(\u001b[38;5;124mf\u001b[39m\u001b[38;5;124m\"\u001b[39m\u001b[38;5;124mL\u001b[39m\u001b[38;5;124m'\u001b[39m\u001b[38;5;124méquation admet deux racines réelles égales à \u001b[39m\u001b[38;5;132;01m{\u001b[39;00mracine1\u001b[38;5;132;01m}\u001b[39;00m\u001b[38;5;124m et \u001b[39m\u001b[38;5;132;01m{\u001b[39;00mracine2\u001b[38;5;132;01m}\u001b[39;00m\u001b[38;5;124m.\u001b[39m\u001b[38;5;124m\"\u001b[39m)\n",
      "\u001b[1;31mNameError\u001b[0m: name 'racine1' is not defined"
     ]
    }
   ],
   "source": [
    "from math import sqrt\n",
    "\n",
    "# Saisie des données au clavier\n",
    "\n",
    "print(\"Saisissez les valeurs des 3 coefficients a, b et c dans cet ordre : \")\n",
    "# Saisie et mémorisation des coefficients (conversion des chaînes saisies en nombres réels)\n",
    "coeff_a = float(input())\n",
    "coeff_b = float(input())\n",
    "coeff_c = float(input())\n",
    "\n",
    "# Calcul et mémorisation du discriminant de l'équation\n",
    "\n",
    "delta = (coeff_b**2)-(4 * coeff_a * coeff_c)\n",
    "\n",
    "# Calcul des racines réelles (ou pas) en fonction de la valeur du discriminant\n",
    "\n",
    "if (delta >= 0):\n",
    "    if (delta > 0):\n",
    "        racine1 == ((-1 * coeff_b) - sqrt(delta))/(2 * coeff_a)\n",
    "        racine2 = ((-1 * coeff_b) + sqrt(delta))/(2 * coeff_a)\n",
    "        print(f\"L'équation admet deux racines réelles égales à {racine1} et {racine2}.\")\n",
    "    else:\n",
    "        racine1 = (-1 * coeff_b)/(2 * coeff_a)\n",
    "        print(f\"L'équation admet une racine réelle double égale à : {racine1}.\")\n",
    "else:\n",
    "    print(\"Cette équation n'admet pas de racine réelle.\")"
   ]
  },
  {
   "cell_type": "code",
   "execution_count": 1,
   "id": "9054fc24-d2f9-457e-93c3-574ab7dcc27c",
   "metadata": {},
   "outputs": [
    {
     "ename": "SyntaxError",
     "evalue": "f-string: expecting '}' (1654160233.py, line 24)",
     "output_type": "error",
     "traceback": [
      "\u001b[1;36m  Input \u001b[1;32mIn [1]\u001b[1;36m\u001b[0m\n\u001b[1;33m    print(f\"L'équation admet une racine réelle double égale à : {racine1.\")\u001b[0m\n\u001b[1;37m                                                                          ^\u001b[0m\n\u001b[1;31mSyntaxError\u001b[0m\u001b[1;31m:\u001b[0m f-string: expecting '}'\n"
     ]
    }
   ],
   "source": [
    "from math import sqrt\n",
    "\n",
    "# Saisie des données au clavier\n",
    "\n",
    "print(\"Saisissez les valeurs des 3 coefficients a, b et c dans cet ordre : \")\n",
    "# Saisie et mémorisation des coefficients (conversion des chaînes saisies en nombres réels)\n",
    "coeff_a = float(input())\n",
    "coeff_b = float(input())\n",
    "coeff_c = float(input())\n",
    "\n",
    "# Calcul et mémorisation du discriminant de l'équation\n",
    "\n",
    "delta = (coeff_b**2)-(4 * coeff_a * coeff_c)\n",
    "\n",
    "# Calcul des racines réelles (ou pas) en fonction de la valeur du discriminant\n",
    "\n",
    "if (delta >= 0):\n",
    "    if (delta > 0):\n",
    "        racine1 == ((-1 * coeff_b) - sqrt(delta))/(2 * coeff_a)\n",
    "        racine2 = ((-1 * coeff_b) + sqrt(delta))/(2 * coeff_a)\n",
    "        print(f\"L'équation admet deux racines réelles égales à {racine1} et {racine2}.\")\n",
    "    else:\n",
    "        racine1 = (-1 * coeff_b)/(2 * coeff_a)\n",
    "        print(f\"L'équation admet une racine réelle double égale à : {racine1.\")\n",
    "else:\n",
    "    print(\"Cette équation n'admet pas de racine réelle.\")"
   ]
  },
  {
   "cell_type": "markdown",
   "id": "e6567885",
   "metadata": {},
   "source": [
    "### Erreur sémantique"
   ]
  },
  {
   "cell_type": "markdown",
   "id": "12b2ac16-a4ae-48a5-bf31-cbad3dead883",
   "metadata": {},
   "source": [
    "Un programme contient une erreur de sémantique lorsqu'il ne produit pas le(s) résultat(s) attendu(s). Une telle erreur se détecte lors de la phase de test et nécessite de retourner à la phase de conception pour corriger l'algorithme, puis le programme source. Il faudra ensuite refaire les étapes d'interprétation (ou de compilation) puis de test."
   ]
  },
  {
   "cell_type": "markdown",
   "id": "8d4ca042",
   "metadata": {},
   "source": [
    "### Erreur à l'exécution ou à l'interprétation"
   ]
  },
  {
   "cell_type": "markdown",
   "id": "12cee300-5afb-4e2a-bb5f-11e7ad967935",
   "metadata": {},
   "source": [
    "Une erreur à l'exécution ou à l'interprétation se produit lors de situations exceptionnelles (on parle aussi d'**exception**)&nbsp;:\n",
    "\n",
    "* mémoire vive de la machine insuffisante\n",
    "* accès à des données dans un fichier qui n'existe pas\n",
    "* mauvaise saisie de l'utilisateur (par exemple, une chaîne de caractères alors qu'un nombre est attendu)\n",
    "* problème matériel sur la machine"
   ]
  }
 ],
 "metadata": {
  "kernelspec": {
   "display_name": "Python 3 (ipykernel)",
   "language": "python",
   "name": "python3"
  },
  "language_info": {
   "codemirror_mode": {
    "name": "ipython",
    "version": 3
   },
   "file_extension": ".py",
   "mimetype": "text/x-python",
   "name": "python",
   "nbconvert_exporter": "python",
   "pygments_lexer": "ipython3",
   "version": "3.9.12"
  },
  "toc-autonumbering": true,
  "toc-showmarkdowntxt": false,
  "toc-showtags": false
 },
 "nbformat": 4,
 "nbformat_minor": 5
}
