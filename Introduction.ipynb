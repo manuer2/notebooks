{
 "cells": [
  {
   "cell_type": "markdown",
   "id": "4c9a1e7f",
   "metadata": {},
   "source": [
    "# Objectifs"
   ]
  },
  {
   "cell_type": "markdown",
   "id": "977ac6b7",
   "metadata": {},
   "source": [
    "# Modalités pédagogiques"
   ]
  },
  {
   "cell_type": "markdown",
   "id": "93658ae3",
   "metadata": {},
   "source": [
    "# Bibliographie - Webographie"
   ]
  },
  {
   "cell_type": "markdown",
   "id": "dbec4265",
   "metadata": {},
   "source": [
    "# Qu'est-ce que la programmation ?"
   ]
  },
  {
   "cell_type": "markdown",
   "id": "b0b34c03",
   "metadata": {},
   "source": [
    "## Définition"
   ]
  },
  {
   "cell_type": "markdown",
   "id": "2de84470",
   "metadata": {},
   "source": [
    "## Exemple de tâche simple"
   ]
  },
  {
   "cell_type": "markdown",
   "id": "4517ae2b",
   "metadata": {},
   "source": [
    "# Les étapes de la mise au point d'un programme"
   ]
  },
  {
   "cell_type": "markdown",
   "id": "e5b8bd7c",
   "metadata": {},
   "source": [
    "## La conception"
   ]
  },
  {
   "cell_type": "markdown",
   "id": "a314c8be",
   "metadata": {},
   "source": [
    "## Le codage"
   ]
  },
  {
   "cell_type": "markdown",
   "id": "8697f8a7",
   "metadata": {},
   "source": [
    "## La transformation du programme source"
   ]
  },
  {
   "cell_type": "markdown",
   "id": "7b609799",
   "metadata": {},
   "source": [
    "### La compilation"
   ]
  },
  {
   "cell_type": "markdown",
   "id": "2d0a6aba",
   "metadata": {},
   "source": [
    "### L'interprétation"
   ]
  },
  {
   "cell_type": "markdown",
   "id": "998ab753",
   "metadata": {},
   "source": [
    "## Le test du programme"
   ]
  },
  {
   "cell_type": "markdown",
   "id": "69a7f7fc",
   "metadata": {},
   "source": [
    "## Les différents types d'erreurs"
   ]
  },
  {
   "cell_type": "markdown",
   "id": "0fb83be9",
   "metadata": {},
   "source": [
    "### Erreur de syntaxe"
   ]
  },
  {
   "cell_type": "markdown",
   "id": "e6567885",
   "metadata": {},
   "source": [
    "### Erreur sémantique"
   ]
  },
  {
   "cell_type": "markdown",
   "id": "8d4ca042",
   "metadata": {},
   "source": [
    "### Erreur à l'exécution"
   ]
  }
 ],
 "metadata": {
  "kernelspec": {
   "display_name": "Python 3 (ipykernel)",
   "language": "python",
   "name": "python3"
  },
  "language_info": {
   "codemirror_mode": {
    "name": "ipython",
    "version": 3
   },
   "file_extension": ".py",
   "mimetype": "text/x-python",
   "name": "python",
   "nbconvert_exporter": "python",
   "pygments_lexer": "ipython3",
   "version": "3.9.7"
  },
  "toc-autonumbering": true,
  "toc-showmarkdowntxt": true,
  "toc-showtags": false
 },
 "nbformat": 4,
 "nbformat_minor": 5
}
