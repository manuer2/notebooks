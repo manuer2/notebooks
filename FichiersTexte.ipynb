{
 "cells": [
  {
   "cell_type": "markdown",
   "id": "77b44762-04d0-4753-bdca-a37e8842966e",
   "metadata": {},
   "source": [
    "# La manipulation des fichiers texte\n",
    "\n",
    "L'objectif de ce chapitre est d'expliquer comment s'effectue, en langage Python, la lecture et l'écriture de données dans des fichiers. Seul le cas des fichiers de texte est abordé.\n",
    "\n",
    "## Généralités sur l'utilisation de fichiers en programmation\n",
    "\n",
    "### Pourquoi utiliser des fichiers ?\n",
    "\n",
    "Jusqu'à présent, les données que nous avons traitées dans des programmes étaient&nbsp;:\n",
    "\n",
    "* stockées dans des variables (simples ou structurées) grâce à des affectations, directement dans le code source\n",
    "* saisies au clavier puis stockées dans des variables au cours de l'exécution.\n",
    "\n",
    "Ces deux méthodes sont très limitées et inadaptées pour traiter de grandes quantités de données. Prenons l'exemple d'un programme calculant la moyenne obtenue par 1500 élèves à un contrôle de maths. Il n'est pas envisageable de déclarer dans le programme 1500 variables pour stocker les 1500 notes. Il n'est pas non plus raisonnable de saisir au clavier les 1500 notes. En supposant qu'on puisse tout de même le faire, cela signifie que si les valeurs des notes ou leur nombre changent il faudra modifier le code source du programme. Or, un programme bien conçu doit être indépendant des données qu'il traite. La quantité de données ainsi que leurs valeurs doivent pouvoir changer sans qu'on ait besoin de modifier le programme.\n",
    "\n",
    "Jusqu'à présent également, les résultats produits par nos programmes étaient simplement affichés à l'écran. Or, les résultats produits sont souvent trop volumineux pour être simplement affichés. Ils ont aussi parfois besoin d'être conservés, ce que ne permet pas l'affichage à l'écran.\n",
    "\n",
    "L'intérêt des fichiers est de bien séparer les programmes des données qu'ils traitent et des résultats qu'ils produisent. L'utilisation de fichiers permet de stocker dans des fichiers séparés&nbsp;:\n",
    "\n",
    "* le programme source\n",
    "* les données à traiter, c'est-à-dire les **entrées** ou le **fichier d'entrées**\n",
    "* les données produites, c'est-à-dire les **sorties** ou le **fichier de sorties**.\n",
    "\n",
    "Si on prend l'exemple d'un programme calculant les moyennes obtenues par des étudiants à trois examens (cf. figure ci-dessous), le fichier d'entrées contient la liste des étudiants, avec pour chacun les trois notes obtenues. Le fichier de sorties contient la même liste d'étudiants, avec pour chacun la moyenne obtenue.\n",
    "\n",
    "![Programme utilisant des fichiers](ImagesNotebook/EntreesSorties.PNG)\n",
    "\n",
    "La seule contrainte imposée par l'utilisation de fichiers pour les entrées et les sorties est la définition précise et sans ambiguïté de la syntaxe (i.e., le format) de ces fichiers. Cette définition de la syntaxe doit précéder l'écriture du programme source, qui doit en tenir compte. Dans notre exemple, une syntaxe possible pour le fichier d'entrées est montrée sur la figure suivante. Dans cette syntaxe, chaque ligne contient les caractéristiques d'un étudiant(e) séparées par des virgules : nom, prénom, note obtenue au 1er examen, note obtenue au 2e examen, note obtenue au 3e examen. \n",
    "\n",
    "![Syntaxe du fichier d'entrées](ImagesNotebook/SyntaxeEntrees.PNG)\n",
    "\n",
    "Le fichier de sorties peut reprendre la même syntaxe que le fichier d'entrées, à ceci près que les 3 notes sont remplacées par la moyenne.\n",
    "\n",
    "![Syntaxe du fichier de sorties](ImagesNotebook/SyntaxeSorties.PNG)\n",
    "\n",
    "Il existe principalement deux types de fichiers&nbsp;:\n",
    "\n",
    "* les fichiers texte\n",
    "* les fichiers binaires\n",
    "\n",
    "### Les fichiers texte\n",
    "\n",
    "#### Contenu\n",
    "\n",
    "Comme son nom l'indique, un fichier texte contient des données textuelles, lisibles grâce à l'utilisation d'un **éditeur de texte** tel que **Notepad++**, **Bloc-notes**, **Xemacs** ou **Sublime Text**. Ces données textuelles peuvent être&nbsp;:\n",
    "\n",
    "* des caractères imprimables : lettres, chiffres, ponctuation, symboles, etc\n",
    "* des espaces\n",
    "* des caractères de fin de paragraphe ou de fin de ligne.\n",
    "\n",
    "Tous les programmes sources, quel que soit le langage utilisé, sont mémorisés dans des fichiers texte. Un fichier texte peut également être utilisé pour conserver des données textuelles brutes, c'est-à-dire sans aucune mise en forme.\n",
    "\n",
    "#### Notion d'encodage\n",
    "\n",
    "Dans la mémoire vive d'un ordinateur ou sur un support de stockage tel qu'un disque dur, toutes les données, quels que soient leurs types, sont codées à l'aide d'un **langage binaire**, dont l'alphabet se compose de deux symboles uniquement : **0** et **1**. Chaque caractère d'un fichier texte est donc mémorisé à l'aide d'une **suite de bits**, c'est-à-dire une suite de chiffres dont la valeur est 0 ou 1. La suite de bits représentant un caractère dépend de l'**encodage** utilisé. En informatique, un encodage est un processus permettant de traduire un caractère en une suite plus ou moins longue de bits qui correspond à sa représentation binaire. Il existe de nombreux encodages, parmi lesquels nous pouvons citer les plus couramment utilisés&nbsp;:\n",
    "\n",
    "* ASCII : un des premiers encodages utilisés en informatique. Il n'est quasiment plus utilisé aujourd'hui car il ne permet l'encodage que de 128 caractères différents.\n",
    "* ISO-8859-1 ou ANSI : encodage dit « occidental » permettant de coder tous les caractères latins.\n",
    "* UTF-8 : encodage le plus répandu depuis 2016. Il permet de coder de nombreux caractères issus de nombreux alphabets (latin, arabe, cyrillique, etc).\n",
    "\n",
    "Le tableau suivant montre les représentations binaires des caractères « e » et « é » avec les trois encodages cités ci-dessus.\n",
    "\n",
    "| Caractère | ASCII | ANSI | UTF-8 |\n",
    "| :-: | :-: | :-: | :-: |\n",
    "| e | 01100101 | 01100101 | 01100101 |\n",
    "| é | non défini | 11101001 | 11000011 |\n",
    "\n",
    "Nous pouvons remarquer que la représentation binaire de « e » est identique dans les trois encodages. En revanche, le « é » ne peut être codé en ASCII. De plus, sa représentation binaire est différente en ANSI et en UTF-8. Ces observations sont identiques pour tous les caractères accentués.\n",
    "\n",
    "Lorsqu'on travaille avec un fichier texte, il est primordial de savoir avec quel encodage il a été mémorisé. Supposons par exemple que nous créons un fichier texte, en utilisant l'encodage ANSI. Le contenu du fichier est le suivant&nbsp;:\n",
    "\n",
    "![Fichier texte initial](ImagesNotebook/Fichier_ANSI_Init.PNG)\n",
    "\n",
    "Nous envoyons via la messagerie électronique ce fichier à deux amis A et B. Notre ami A récupère le fichier, puis l'ouvre dans son éditeur de texte en utilisant également l'encodage ANSI. Voici ce qui s'affiche sur l'écran de A&nbsp;:\n",
    "\n",
    "![Fichier ouvert avec ANSI](ImagesNotebook/Fichier_ANSI_Init.PNG)\n",
    "\n",
    "Dans ce cas, tout se passe bien : l'encodage utilisé par A pour lire le fichier est le même que celui avec lequel nous l'avons créé. \n",
    "\n",
    "Notre ami B récupère également le fichier, mais l'ouvre dans son éditeur en utilisant l'encodage UTF-8. Voici ce qui s'affiche sur l'écran de B&nbsp;:\n",
    "\n",
    "![Fichier ouvert avec UTF-8](ImagesNotebook/Fichier_UTF-8.PNG)\n",
    "\n",
    "Dans ce cas, tous les caractères apparaissent normalement, sauf les caractères accentués ! Ce qui est normal puisque ces caractères ne sont pas codés de la même façon en ANSI et en UTF-8. Leur lecture avec un encodage UTF-8, alors qu'ils ont été mémorisés avec ANSI, ne peut donc pas s'effectuer correctement.\n",
    "\n",
    "Autre exemple illustrant l'importance de l'encodage pour le traitement des fichiers texte : voici ci-dessous un fichier texte encodé en UTF-8&nbsp;:\n",
    "\n",
    "![Fichier encodé avec UTF-8](ImagesNotebook/Exemple2_utf-8.PNG)\n",
    "\n",
    "Voici ci-dessous le même fichier ouvert avec un encodage ANSI&nbsp;:\n",
    "\n",
    "![Fichier lu avec ANSI](ImagesNotebook/Exemple2_ansi.PNG)\n",
    "\n",
    "Tous les caractères accentués ont été mal décodés et apparaissent comme des suites de deux caractères telles que « Ã© » (à la place de « é ») ou « Ã¯ » (à la place de « ï »).\n",
    "\n",
    "L'encodage est donc une information essentielle lorsqu'on traite des fichiers texte. Dans la plupart des langages de programmation, l'encodage est une information qui doit être fournie aux différentes instructions/fonctions/méthodes qui lisent les données contenues dans les fichiers texte. Tous les éditeurs permettent généralement de paramétrer l'encodage utilisé pour créer un fichier, ou de modifier l'encodage d'un fichier existant. Lorsqu'on ne connaît pas l'encodage d'un fichier texte, une bonne méthode est d'ouvrir ce fichier avec un éditeur, et de tester plusieurs encodages jusqu'à obtenir celui avec lequel le contenu du fichier (en particulier les caractères accentués !) est lisible.\n",
    "\n",
    "### Les fichiers binaires\n",
    "\n",
    "Un **fichier binaire** est un fichier contenant des données non textuelles qui sont illisibles avec un éditeur de texte. Voici quelques exemples de fichiers binaires&nbsp;:\n",
    "\n",
    "* une image (format, JPEG, GIF, PNG, etc)\n",
    "* un son (format WAV, MP3, etc)\n",
    "* une vidéo (format AVI, MOV, MP4, etc)\n",
    "* un programme exécutable (fichier ayant l'extension .exe)\n",
    "* un document Word, Excel, Libre Office, etc\n",
    "\n",
    "La plupart du temps (à l'exception des programmes exécutables), les fichiers binaires sont créés à l'aide de logiciele dédiés (Paint, Gimp, Word, Excel, etc). Seuls ces logiciels dédiés permettent d'en lire les contenus.\n",
    "\n",
    "Prenons l'exemple d'un fichier contenant une image au format PNG. Lorsqu'on ouvre ce fichier avec le logiciel de traitement d'images Irfanview, l'image s'affiche correctement&nbsp;:\n",
    "\n",
    "![Image lue avec Irfanview](ImagesNotebook/png_irfanview.PNG)\n",
    "\n",
    "Lorsqu'on essaie d'ouvrir le même fichier avec un éditeur de texte, voici ce qui s'affiche&nbsp;:\n",
    "\n",
    "![Image lue avec éditeur](ImagesNotebook/png_texte.PNG)\n",
    "\n",
    "Voici ce que donne un diaporama Powerpoint... ouvert avec Powerpoint&nbsp;:\n",
    "\n",
    "![Diaporama lu avec Powerpoint](ImagesNotebook/diapo_ppt.PNG)\n",
    "\n",
    "et ouvert avec un éditeur de texte&nbsp;:\n",
    "\n",
    "![Diaporama lu avec éditeur](ImagesNotebook/diapo_texte.PNG)\n",
    "\n",
    "### Manipulation des fichiers texte : quelles fonctionnalités ?\n",
    "\n",
    "Dans ce chapitre, nous nous intéresserons à la manipulation des fichiers texte uniquement. Pour pouvoir traiter correctement les fichiers texte, en tant que fichiers d'entrées ou de sorties, les programmes doivent être en mesure&nbsp;:\n",
    "\n",
    "* d'ouvrir un fichier se trouvant sur un support de stockage\n",
    "* de lire tout le contenu d'un fichier\n",
    "* de créer un nouveau fichier\n",
    "* d'écrire des données dans un fichier\n",
    "* de modifier des données se trouvant dans un fichier\n",
    "* de fermer un fichier\n",
    "\n",
    "La plupart des langages proposent toutes ces fonctionnalités.\n",
    "\n",
    "## Manipulation des fichiers texte en Python\n",
    "\n",
    "Comme vous pourrez le constater dans la suite de cette section, un fichier en Python est considéré comme un objet. Voici donc les principales fonctions et méthodes permettant de traiter des fichiers texte.\n",
    "\n",
    "### Récupération du **dossier courant** : la fonction **getcwd()** du module **os**\n",
    "\n",
    "Le **dossier courant** est le dossier dans lequel s'exécute un programme. Ce dossier peut varier d'un environnement de programmation à un autre. Dans PyCharm, lorsqu'on exécute un programme Python, le dossier courant est celui où est stocké le programme. Dans VSCode, le dossier courant est le dossier qui a été ouvert pour travailler (qui n'est pas forcément celui où est stocké le programme qu'on exécute !). La fonction **getcwd()** permet de connaître le dossier courant dans lequel s'exécute un programme. Elle retourne une chaîne contenant le chemin complet du dossier courant."
   ]
  },
  {
   "cell_type": "code",
   "execution_count": 1,
   "id": "0519da7e-6901-4183-bcfd-97097b92e670",
   "metadata": {},
   "outputs": [
    {
     "name": "stdout",
     "output_type": "stream",
     "text": [
      "Le dossier courant est : C:\\Users\\martienne_e.\n"
     ]
    }
   ],
   "source": [
    "import os\n",
    "courant = os.getcwd()\n",
    "print(f\"Le dossier courant est : {courant}.\")"
   ]
  },
  {
   "cell_type": "markdown",
   "id": "8311bdcf-47d0-426e-b6b4-8072dc535d7c",
   "metadata": {},
   "source": [
    "Lorsqu'un programme traite des fichiers, **ceux-ci doivent impérativement être stockés dans le dossier courant**.\n",
    "\n",
    "### Modification du dossier courant : la fonction **chdir()** du module **os**\n",
    "\n",
    "Il est possible de modifier le dossier courant avec la fonction **chdir()**. La syntaxe de cette fonction est la suivante&nbsp;:"
   ]
  },
  {
   "cell_type": "code",
   "execution_count": null,
   "id": "f1b63164-4a80-452e-9c32-1dc4bae24c1a",
   "metadata": {},
   "outputs": [],
   "source": [
    "os.chdir(chemin)"
   ]
  },
  {
   "cell_type": "markdown",
   "id": "9b429c56-9646-46c0-980d-c87207f715d9",
   "metadata": {},
   "source": [
    "où `chemin` est une chaîne contenant le chemin complet du nouveau dossier courant (dossier dans lequel doivent impérativement figurer les fichiers à traiter !!). Le programme suivant est un exemple d'utilisation de la fonction **chdir()** permettant de paramétrer le dossier `'C:\\Users\\martienne_e\\data'` comme nouveau dossier courant."
   ]
  },
  {
   "cell_type": "code",
   "execution_count": 1,
   "id": "4dca324e-8a4f-4599-a454-6742fed711e9",
   "metadata": {},
   "outputs": [
    {
     "name": "stdout",
     "output_type": "stream",
     "text": [
      "Le dossier courant est : C:\\Users\\martienne_e\n",
      "Le nouveau dossier courant est : C:\\Users\\martienne_e\\data\n"
     ]
    }
   ],
   "source": [
    "import os\n",
    "courant = os.getcwd()\n",
    "print(f\"Le dossier courant est : {courant}\")\n",
    "nouveau = courant + '\\data'\n",
    "os.chdir(nouveau)\n",
    "courant = os.getcwd()\n",
    "print(f\"Le nouveau dossier courant est : {courant}\")"
   ]
  },
  {
   "cell_type": "markdown",
   "id": "91bdf9a1-3d9a-44ed-90a1-41eedbfdc044",
   "metadata": {},
   "source": [
    "### Ouverture d'un fichier : la fonction **open()**\n",
    "\n",
    "Pour traiter un fichier dans un programme, la première chose à faire est d'ouvrir le fichier (un fichier est comme un livre : il faut l'ouvrir avant de pouvoir le lire !). C'est la fonction **open()** qui permet d'ouvrir un fichier. Elle prend en paramètres&nbsp;:\n",
    "\n",
    "* une chaîne (ou une variable de type chaîne) contenant le nom complet du fichier à ouvrir\n",
    "* une chaîne (ou une variable de type chaîne) représentant le **mode d'ouverture** du fichier.\n",
    "\n",
    "Le **mode d'ouverture** d'un fichier va déterminer le type du fichier et la manière dont on va l'utiliser. Il est représenté par une chaîne pouvant contenir les caractères suivants&nbsp;:\n",
    "\n",
    "* `'t'` pour un fichier de type texte (type par défaut).\n",
    "* `'b'` pour un fichier de type binaire.\n",
    "* `'r'` pour ouvrir un fichier en lecture seule, ce qui signifie qu'il sera possible de lire les données qu'il contient mais pas d'y écrire des données.\n",
    "* `'w'` pour ouvrir un fichier en écriture. Dans ce mode, il sera uniquement possible d'écrire dans le fichier. Si le fichier existe déjà, tout son contenu sera remplacé par les nouvelles données écrites par le programme. Si le fichier n'existe pas, il sera créé.\n",
    "* `'a'` pour ouvrir un fichier en ajout. Dans ce mode, il sera uniquement possible d'écrire dans le fichier. Si le fichier existe déjà, les données écrites viendront s'ajouter au contenu du fichier. Si le fichier n'existe pas, il sera créé.\n",
    "* `'x'` pour ouvrir un fichier en écriture et en création exclusive. Dans ce mode, le fichier ne doit pas exister sinon une erreur se produit. Le programme va créer le fichier et écrire les données qu'il produit dedans.\n",
    "\n",
    "Voici deux exemples de modes d'ouverture pouvant être fournis en paramètres de la fonction **open()**&nbsp;:\n",
    "\n",
    "* `'tr'` : fichier texte à ouvrir en lecture seule\n",
    "* `'bw'` : fichier binaire à ouvrir en écriture.\n",
    "\n",
    "Tout interpréteur Python considère par défaut que l'encodage des fichiers texte est celui du système utilisé (exemple : cp1252 sous Windows). Pour ouvrir un fichier texte en utilisant un encodage différent de celui par défaut, il faut ajouter à la fonction **open()** un troisième paramètre optionnel, nommé `encoding`, dont la valeur est une chaîne correspondant au nom de l'encodage à utiliser.\n",
    "\n",
    "La fonction retourne en résultat un **objet fichier** (objet référençant un fichier) qui sera utilisé dans la suite du programme pour manipuler le fichier.\n",
    "\n",
    "Voici des exemples d'utilisation de la fonction **open()**&nbsp;:"
   ]
  },
  {
   "cell_type": "code",
   "execution_count": 4,
   "id": "719a32d5-b30d-4c3a-8715-12b1e88b13f6",
   "metadata": {},
   "outputs": [
    {
     "name": "stdout",
     "output_type": "stream",
     "text": [
      "Objet fichier : <_io.TextIOWrapper name='data.txt' mode='rt' encoding='UTF-8'>\n"
     ]
    }
   ],
   "source": [
    "fichtxt = open('data.txt', 'rt', encoding='UTF-8')\n",
    "print(f\"Objet fichier : {fichtxt}\")"
   ]
  },
  {
   "cell_type": "markdown",
   "id": "20a10eae-e21c-4892-a6ed-a341cff0ca98",
   "metadata": {},
   "source": [
    "La fonction ouvre en lecture seule le fichier texte `data.txt` situé dans le dossier courant. L'encodage utilisé est UTF-8. Elle retourne l'objet référençant ce fichier dans la variable `fichtxt`."
   ]
  },
  {
   "cell_type": "code",
   "execution_count": 5,
   "id": "53ccb661-8a59-45d8-b7c3-042a96811fe8",
   "metadata": {},
   "outputs": [
    {
     "name": "stdout",
     "output_type": "stream",
     "text": [
      "Objet fichier : <_io.TextIOWrapper name='sample.txt' mode='rt' encoding='cp1252'>\n"
     ]
    }
   ],
   "source": [
    "fichdata = open('sample.txt', 'rt')\n",
    "print(f\"Objet fichier : {fichdata}\")"
   ]
  },
  {
   "cell_type": "markdown",
   "id": "201747b0-2f93-4ba3-8bb5-53de9d03041b",
   "metadata": {},
   "source": [
    "La fonction ouvre en lecture seule le fichier texte `sample.txt` situé dans le dossier courant. L'encodage utilisé est celui par défaut : cp1252 (Windows). Elle retourne l'objet référençant ce fichier dans la variable `fichdata`."
   ]
  },
  {
   "cell_type": "markdown",
   "id": "0ca5add7-5158-4156-a151-0f1dc3f0e29c",
   "metadata": {},
   "source": [
    "### Fermeture d'un fichier : la méthode **close()**\n",
    "\n",
    "Dans un programme, dès qu'un fichier n'est plus utilisé il doit être fermé (comme un livre !!). La méthode **close()** permet de fermer un fichier. Elle ne prend aucun paramètre et s'applique à l'objet fichier à fermer (valeur de retour de la fonction **open()**). \n",
    "\n",
    "Voici les deux exemples précédents, dans lesquels ont été ajoutées les fermetures des deux fichiers."
   ]
  },
  {
   "cell_type": "code",
   "execution_count": 6,
   "id": "788fe801-ea1a-4db8-b56c-d0615c2d368d",
   "metadata": {},
   "outputs": [
    {
     "name": "stdout",
     "output_type": "stream",
     "text": [
      "Objet fichier : <_io.TextIOWrapper name='data.txt' mode='rt' encoding='UTF-8'>\n"
     ]
    }
   ],
   "source": [
    "# Ouverture du fichier\n",
    "fichtxt = open('data.txt', 'rt', encoding='UTF-8')\n",
    "\n",
    "# Affichage de l'objet référençant le fichier\n",
    "print(f\"Objet fichier : {fichtxt}\")\n",
    "\n",
    "# Fermeture du fichier\n",
    "fichtxt.close()"
   ]
  },
  {
   "cell_type": "code",
   "execution_count": 7,
   "id": "7e376a2a-a302-446e-b8d9-260d807af9c1",
   "metadata": {},
   "outputs": [
    {
     "name": "stdout",
     "output_type": "stream",
     "text": [
      "Objet fichier : <_io.TextIOWrapper name='sample.txt' mode='rt' encoding='cp1252'>\n"
     ]
    }
   ],
   "source": [
    "# Ouverture du fichier\n",
    "fichdata = open('sample.txt', 'rt')\n",
    "\n",
    "# Affichage de l'objet référençant le fichier\n",
    "print(f\"Objet fichier : {fichdata}\")\n",
    "\n",
    "# Fermeture du fichier\n",
    "fichdata.close()"
   ]
  },
  {
   "cell_type": "markdown",
   "id": "72f603cf-a668-4bbd-89f0-63a37bda0bd2",
   "metadata": {},
   "source": [
    "Un fichier ouvert dans un programme et non fermé avant la fin du programme risque d'être endommagé. Il faut donc bien penser à fermer un fichier dès qu'il n'est plus utilisé. L'instruction **with**, que nous aborderons plus loin dans ce chapitre, permet la fermeture implicite et donc l'utilisation sécurisée d'un fichier."
   ]
  },
  {
   "cell_type": "markdown",
   "id": "af24152c-7c7b-40a7-9bf7-1f2ad89719ee",
   "metadata": {},
   "source": [
    "### Lecture intégrale d'un fichier : les méthodes **read()** et **readlines()**\n",
    "\n",
    "La méthode **read()** s'applique à un objet fichier, et permet de lire son contenu. Lorsqu'aucun paramètre ne lui est fourni, elle retourne une chaîne contenant tous les caractères contenus dans le fichier. Voici un exemple de lecture complète et d'affichage du contenu d'un fichier (pour info : le fichier `data.txt` contient un poème de Charles Baudelaire)."
   ]
  },
  {
   "cell_type": "code",
   "execution_count": 12,
   "id": "3df9868f-3d74-4800-b4a4-c2264ca9e0d2",
   "metadata": {},
   "outputs": [
    {
     "name": "stdout",
     "output_type": "stream",
     "text": [
      "Souvent, pour s’amuser, les hommes d’équipage\n",
      "Prennent des albatros, vastes oiseaux des mers,\n",
      "Qui suivent, indolents compagnons de voyage,\n",
      "Le navire glissant sur les gouffres amers.\n",
      "\n",
      "A peine les ont-ils déposés sur les planches,\n",
      "Que ces rois de l’azur, maladroits et honteux,\n",
      "Laissent piteusement leurs grandes ailes blanches\n",
      "Comme des avirons traîner à côté d’eux.\n",
      "\n",
      "Ce voyageur ailé, comme il est gauche et veule !\n",
      "Lui, naguère si beau, qu’il est comique et laid !\n",
      "L’un agace son bec avec un brûle-gueule,\n",
      "L’autre mime, en boitant, l’infirme qui volait !\n",
      "\n",
      "Le Poète est semblable au prince des nuées\n",
      "Qui hante la tempête et se rit de l’archer ;\n",
      "Exilé sur le sol au milieu des huées,\n",
      "Ses ailes de géant l’empêchent de marcher.\n",
      "\n",
      "Charles Baudelaire\n"
     ]
    }
   ],
   "source": [
    "# Ouverture du fichier\n",
    "fichtxt = open('data.txt', 'rt', encoding='UTF-8')\n",
    "\n",
    "# Lecture de tous les caractères et stockage dans une chaîne\n",
    "contenu = fichtxt.read()\n",
    "\n",
    "# Fermeture du fichier\n",
    "fichtxt.close()\n",
    "\n",
    "# Affichage de la chaîne\n",
    "print(contenu)"
   ]
  },
  {
   "cell_type": "markdown",
   "id": "32507c86-5d18-4523-8357-4d87dcc77ff7",
   "metadata": {},
   "source": [
    "Il est possible de fournir en paramètre de la fonction **read()** un nombre entier indiquant le nombre de caractères à lire (à partir du début du fichier). L'exemple suivant montre comment lire uniquement les 15 premiers caractères d'un fichier."
   ]
  },
  {
   "cell_type": "code",
   "execution_count": 14,
   "id": "895d92d6-cbff-4c37-9252-18738e13e9a8",
   "metadata": {},
   "outputs": [
    {
     "name": "stdout",
     "output_type": "stream",
     "text": [
      "Souvent, pour s\n"
     ]
    }
   ],
   "source": [
    "# Ouverture du fichier\n",
    "fichtxt = open('data.txt', 'rt', encoding='UTF-8')\n",
    "\n",
    "# Lecture des 15 premiers caractères et stockage dans une chaîne\n",
    "contenu = fichtxt.read(15)\n",
    "\n",
    "# Fermeture du fichier\n",
    "fichtxt.close()\n",
    "\n",
    "# Affichage de la chaîne\n",
    "print(contenu)"
   ]
  },
  {
   "cell_type": "markdown",
   "id": "1bc9361a-70e9-4aef-94c3-b61b4778a8c6",
   "metadata": {},
   "source": [
    "Tout comme la méthode **read()**, la méthode **readlines()** permet de lire le contenu d'un fichier. Elle s'applique à l'objet fichier, et retourne le contenu du fichier sous la forme d'une liste de chaînes, où chaque chaîne correspond à une ligne du fichier (1<sup>re</sup> chaîne = 1<sup>re</sup> ligne, 2<sup>e</sup> chaîne = 2<sup>e</sup> ligne, etc). Il s'agit donc d'une méthode adaptée pour effectuer un traitement ligne par ligne du contenu d'un fichier. Lorsqu'aucun paramètre ne lui est fourni, elle retourne toutes les lignes du fichier. Il est possible de stopper la lecture des lignes lorsqu'un nombre de caractères (à partir du premier) a été atteint. Il suffit pour cela de fournir ce nombre en paramètre de la fonction. Dans ce cas, la lecture des lignes s'arrête lorsque le nombre de caractères souhaité a été atteint.\n",
    "\n",
    "Le programme suivant lit toutes les lignes du fichier `data.txt`, affiche la liste de chaînes obtenues, puis chaque ligne du fichier une par une."
   ]
  },
  {
   "cell_type": "code",
   "execution_count": 19,
   "id": "71364f2d-89d0-4795-9d6e-091009bad6d6",
   "metadata": {},
   "outputs": [
    {
     "name": "stdout",
     "output_type": "stream",
     "text": [
      "Liste des chaînes lues dans le fichier : \n",
      "['Souvent, pour s’amuser, les hommes d’équipage\\n', 'Prennent des albatros, vastes oiseaux des mers,\\n', 'Qui suivent, indolents compagnons de voyage,\\n', 'Le navire glissant sur les gouffres amers.\\n', '\\n', 'A peine les ont-ils déposés sur les planches,\\n', 'Que ces rois de l’azur, maladroits et honteux,\\n', 'Laissent piteusement leurs grandes ailes blanches\\n', 'Comme des avirons traîner à côté d’eux.\\n', '\\n', 'Ce voyageur ailé, comme il est gauche et veule !\\n', 'Lui, naguère si beau, qu’il est comique et laid !\\n', 'L’un agace son bec avec un brûle-gueule,\\n', 'L’autre mime, en boitant, l’infirme qui volait !\\n', '\\n', 'Le Poète est semblable au prince des nuées\\n', 'Qui hante la tempête et se rit de l’archer ;\\n', 'Exilé sur le sol au milieu des huées,\\n', 'Ses ailes de géant l’empêchent de marcher.\\n', '\\n', 'Charles Baudelaire']\n",
      "\n",
      "Affichage ligne par ligne :\n",
      "\n",
      "Souvent, pour s’amuser, les hommes d’équipage\n",
      "Prennent des albatros, vastes oiseaux des mers,\n",
      "Qui suivent, indolents compagnons de voyage,\n",
      "Le navire glissant sur les gouffres amers.\n",
      "\n",
      "A peine les ont-ils déposés sur les planches,\n",
      "Que ces rois de l’azur, maladroits et honteux,\n",
      "Laissent piteusement leurs grandes ailes blanches\n",
      "Comme des avirons traîner à côté d’eux.\n",
      "\n",
      "Ce voyageur ailé, comme il est gauche et veule !\n",
      "Lui, naguère si beau, qu’il est comique et laid !\n",
      "L’un agace son bec avec un brûle-gueule,\n",
      "L’autre mime, en boitant, l’infirme qui volait !\n",
      "\n",
      "Le Poète est semblable au prince des nuées\n",
      "Qui hante la tempête et se rit de l’archer ;\n",
      "Exilé sur le sol au milieu des huées,\n",
      "Ses ailes de géant l’empêchent de marcher.\n",
      "\n",
      "Charles Baudelaire"
     ]
    }
   ],
   "source": [
    "# Ouverture du fichier\n",
    "fichtxt = open('data.txt', 'rt', encoding='UTF-8')\n",
    "\n",
    "# Lecture des lignes et stockage dans une liste de chaînes\n",
    "lignes = fichtxt.readlines()\n",
    "\n",
    "# Fermeture du fichier\n",
    "fichtxt.close()\n",
    "\n",
    "# Affichage de la liste de chaînes\n",
    "print(f\"Liste des chaînes lues dans le fichier : \\n{lignes}\\n\")\n",
    "\n",
    "# Affichage des lignes une par une\n",
    "print(\"Affichage ligne par ligne :\\n\")\n",
    "for l in lignes:\n",
    "    print(l, end=\"\")"
   ]
  },
  {
   "cell_type": "markdown",
   "id": "75abf4d5-db62-49c2-adb0-e13839ed1033",
   "metadata": {},
   "source": [
    "Dans la liste de chaînes, on peut remarquer que chaque chaîne se termine par le caractère spécial de retour à la ligne `\\n`.\n",
    "\n",
    "Le programme suivant lit les lignes du fichier `data.txt` jusqu'à ce qu'une limite de 100 caractères soit atteinte. Il affiche ensuite une par une les lignes lues."
   ]
  },
  {
   "cell_type": "code",
   "execution_count": 20,
   "id": "02cb4f11-b838-4213-98a9-5906185696e8",
   "metadata": {},
   "outputs": [
    {
     "name": "stdout",
     "output_type": "stream",
     "text": [
      "Affichage ligne par ligne :\n",
      "\n",
      "Souvent, pour s’amuser, les hommes d’équipage\n",
      "Prennent des albatros, vastes oiseaux des mers,\n",
      "Qui suivent, indolents compagnons de voyage,\n"
     ]
    }
   ],
   "source": [
    "# Ouverture du fichier\n",
    "fichtxt = open('data.txt', 'rt', encoding='UTF-8')\n",
    "\n",
    "# Lecture des lignes et stockage dans une liste de chaînes, jusqu'au 100e caractère\n",
    "lignes = fichtxt.readlines(100)\n",
    "\n",
    "# Fermeture du fichier\n",
    "fichtxt.close()\n",
    "\n",
    "# Affichage des lignes une par une\n",
    "print(\"Affichage ligne par ligne :\\n\")\n",
    "for l in lignes:\n",
    "    print(l, end=\"\")"
   ]
  },
  {
   "cell_type": "markdown",
   "id": "357b15be-6f1c-49b5-baea-746635f4c0f8",
   "metadata": {},
   "source": [
    "On remarque que seules les 3 premières lignes du fichier ont été lues, ce qui signifie que le 100<sup>e</sup> caractère doit se trouver quelque part sur la 3<sup>e</sup> ligne."
   ]
  },
  {
   "cell_type": "markdown",
   "id": "602c7cda-c108-49cb-9cbd-9350ead20600",
   "metadata": {},
   "source": [
    "### Écriture dans un fichier : la méthode **write()**\n",
    "\n",
    "La méthode **write()** s'applique à un objet fichier, prend en paramètre une chaîne, et permet d'écrire cette chaîne dans le fichier. Cela suppose donc que le fichier soit ouvert soit en écriture, soit en ajout, et que toutes les données à écrire dans le fichier soient converties au préalable en chaînes. Lorsque plusieurs appels à **write()** sont effectués successivement sur le même fichier, les chaînes sont écrites les unes à la suite des autres dans le fichier.\n",
    "\n",
    "Le programme suivant copie le contenu du fichier `data.txt` dans un fichier `data_copie.txt`. La méthode **read()** est utilisée pour lire le contenu du fichier `data.txt`."
   ]
  },
  {
   "cell_type": "code",
   "execution_count": 27,
   "id": "32cca390-908d-4c97-9b16-1ebb57d05719",
   "metadata": {},
   "outputs": [],
   "source": [
    "# Ouverture du fichier data.txt en lecture seule\n",
    "original = open('data.txt', 'rt', encoding='UTF-8')\n",
    "\n",
    "# Lecture du contenu du fichier data.txt\n",
    "contenu = original.read()\n",
    "\n",
    "# Fermeture du fichier data.txt\n",
    "original.close()\n",
    "\n",
    "# Ouverture du fichier data_copie.txt en écriture\n",
    "copie = open('data_copie.txt', 'wt', encoding='UTF-8')\n",
    "\n",
    "# Ecriture du contenu de data.txt dans data_copie.txt\n",
    "copie.write(contenu)\n",
    "\n",
    "# Fermeture du fichier data_copie.txt\n",
    "copie.close()"
   ]
  },
  {
   "cell_type": "markdown",
   "id": "7a5d2e6e-f260-431a-b8b3-fef967549e05",
   "metadata": {},
   "source": [
    "Le programme suivant ajoute une chaîne à la fin du fichier `data_copie.txt` créé précédemment, puis affiche le contenu de ce fichier."
   ]
  },
  {
   "cell_type": "code",
   "execution_count": 28,
   "id": "1c46df3d-4dd4-41ff-ad70-230522755df9",
   "metadata": {},
   "outputs": [
    {
     "name": "stdout",
     "output_type": "stream",
     "text": [
      "Souvent, pour s’amuser, les hommes d’équipage\n",
      "Prennent des albatros, vastes oiseaux des mers,\n",
      "Qui suivent, indolents compagnons de voyage,\n",
      "Le navire glissant sur les gouffres amers.\n",
      "\n",
      "A peine les ont-ils déposés sur les planches,\n",
      "Que ces rois de l’azur, maladroits et honteux,\n",
      "Laissent piteusement leurs grandes ailes blanches\n",
      "Comme des avirons traîner à côté d’eux.\n",
      "\n",
      "Ce voyageur ailé, comme il est gauche et veule !\n",
      "Lui, naguère si beau, qu’il est comique et laid !\n",
      "L’un agace son bec avec un brûle-gueule,\n",
      "L’autre mime, en boitant, l’infirme qui volait !\n",
      "\n",
      "Le Poète est semblable au prince des nuées\n",
      "Qui hante la tempête et se rit de l’archer ;\n",
      "Exilé sur le sol au milieu des huées,\n",
      "Ses ailes de géant l’empêchent de marcher.\n",
      "\n",
      "Charles Baudelaire\n",
      "Né le 9 avril 1821 à Paris, mort le 31 août 1867 à Paris.\n",
      "\n"
     ]
    }
   ],
   "source": [
    "# Ouverture du fichier data_copie.txt en ajout\n",
    "fich = open('data_copie.txt', 'at', encoding='UTF-8')\n",
    "\n",
    "# Ecriture de la chaîne à la fin du fichier\n",
    "fich.write('\\nNé le 9 avril 1821 à Paris, mort le 31 août 1867 à Paris.\\n')\n",
    "\n",
    "# Ouverture du fichier data_copie.txt en lecture\n",
    "fich = open('data_copie.txt', 'rt', encoding='UTF-8')\n",
    "\n",
    "# Lecture du contenu du fichier après ajout\n",
    "contenu = fich.read()\n",
    "\n",
    "# Affichage du contenu\n",
    "print(contenu)\n",
    "\n",
    "# Fermeture du fichier\n",
    "fich.close()"
   ]
  },
  {
   "cell_type": "markdown",
   "id": "3343783c-e688-42fd-9d48-e72d468f10f7",
   "metadata": {},
   "source": [
    "### L'instruction **with** et la fermeture automatique de fichier\n",
    "\n",
    "Nous avons évoqué précédemment l'importance de fermer les fichiers, dès que leurs utilisations sont terminées. Pour ne pas avoir à se soucier de la fermeture des fichiers (et accessoirement ne pas risquer de perdre les données qu'ils contiennent !), il est possible (voire même fortement recommandé !) d'utiliser l'instruction **with**. Sa syntaxe est la suivante&nbsp;:"
   ]
  },
  {
   "cell_type": "code",
   "execution_count": null,
   "id": "71b0fbaa-abf4-4bf0-b52d-27c9e693824f",
   "metadata": {},
   "outputs": [],
   "source": [
    "with open() as obj_fich:\n",
    "    bloc"
   ]
  },
  {
   "cell_type": "markdown",
   "id": "b7243f93-f523-4b1f-a443-6c3b5008126d",
   "metadata": {},
   "source": [
    "où&nbsp;:\n",
    "\n",
    "* `open()` est un appel à la fonction du même nom permettant d'ouvrir un fichier\n",
    "* `obj_fich` est un objet fichier, dont la valeur est celle retournée par l'appel à `open()`\n",
    "* `bloc` est un bloc d'instructions, contenant notamment des opérations sur le fichier référencé par `obj_fich`.\n",
    "\n",
    "L'intérêt de cette instruction **with** est qu'elle va **appliquer automatiquement la méthode close()** sur l'objet fichier `obj_fich`, dès que l'exécution du bloc d'instructions sera terminée, et même si cette terminaison est dûe à une erreur. Utiliser **with**, c'est donc avoir l'assurance que les fichiers seront fermés quoi qu'il arrive.\n",
    "\n",
    "Le programme suivant lit le contenu intégral d'un fichier `demo.txt` puis l'affiche, en utilisant l'instruction **with**."
   ]
  },
  {
   "cell_type": "code",
   "execution_count": 19,
   "id": "75993f5f-ce11-4c91-a9f5-c0fba348c4e1",
   "metadata": {},
   "outputs": [
    {
     "name": "stdout",
     "output_type": "stream",
     "text": [
      "Ligne 1\n",
      "Ligne 2\n",
      "Ligne 3\n",
      "Ligne 4\n",
      "Ligne 5\n",
      "Ligne 6\n",
      "Ligne 7\n",
      "Ligne 8\n",
      "Ligne 9\n",
      "Ligne 10\n"
     ]
    }
   ],
   "source": [
    "with open('demo.txt', 'rt', encoding='UTF-8') as fich:\n",
    "    contenu = fich.read()\n",
    "    print(contenu)"
   ]
  },
  {
   "cell_type": "markdown",
   "id": "79fa5b84-8793-41ec-ae32-6947b9967cbc",
   "metadata": {},
   "source": [
    "Il est possible d'imbriquer deux instructions **with** (ou plus !), notamment dans un programme manipulant plusieurs fichiers texte. Le programme suivant copie le contenu du fichier `demo.txt` dans le fichier `demo_copie.txt`. Deux instructions **with** sont utilisées&nbsp;:\n",
    "\n",
    "* une première pour ouvrir le fichier `demo.txt` en lecture seule\n",
    "* une seconde, imbriquée dans la première, pour l'ouverture du fichier `demo_copie.txt` en écriture."
   ]
  },
  {
   "cell_type": "code",
   "execution_count": 20,
   "id": "f3aa1f21-5da1-47e4-82f0-038e6ebe743e",
   "metadata": {},
   "outputs": [],
   "source": [
    "with open('demo.txt', 'rt', encoding='UTF-8') as fich:\n",
    "    with open('demo_copie.txt', 'wt', encoding='UTF-8') as nouveau:\n",
    "        contenu = fich.read()\n",
    "        nouveau.write(contenu)"
   ]
  },
  {
   "cell_type": "markdown",
   "id": "d9db4fb3-5d76-408e-b5ef-b2cea0979941",
   "metadata": {},
   "source": [
    "Notons au passage que l'imbrication des instructions **with** aurait pu se faire « dans l'autre sens »."
   ]
  },
  {
   "cell_type": "code",
   "execution_count": 21,
   "id": "9b0aa625-793f-45dc-9107-4ace8d89ebe5",
   "metadata": {},
   "outputs": [],
   "source": [
    "with open('demo_copie.txt', 'wt', encoding='UTF-8') as nouveau:\n",
    "    with open('demo.txt', 'rt', encoding='UTF-8') as fich:\n",
    "        contenu = fich.read()\n",
    "        nouveau.write(contenu)"
   ]
  },
  {
   "cell_type": "markdown",
   "id": "05119655-614c-4ba2-8d65-8b66d2499a71",
   "metadata": {},
   "source": [
    "### Parcours d'un fichier ligne par ligne : la boucle **for** et la méthode **readline()** associée à une boucle **while**\n",
    "\n",
    "La boucle `for` permet d'effectuer un traitement ligne par ligne d'un fichier texte. Sa syntaxe est la suivante&nbsp;:"
   ]
  },
  {
   "cell_type": "code",
   "execution_count": null,
   "id": "715132fa-0b33-4a7c-bad7-d6a446a4ef09",
   "metadata": {},
   "outputs": [],
   "source": [
    "for ligne in obj_fich:\n",
    "    bloc"
   ]
  },
  {
   "cell_type": "markdown",
   "id": "98dbb5f8-7410-44fe-9a9c-83280d7e9080",
   "metadata": {},
   "source": [
    "où&nbsp;:\n",
    "\n",
    "* `ligne` est une variable de type chaîne\n",
    "* `obj_fich` est un l'objet référençant le fichier à parcourir\n",
    "* `bloc` est un bloc d'instructions\n",
    "\n",
    "La variable `ligne` va prendre pour valeurs successives, une par une, toutes les lignes du fichier (une ligne = une chaîne). Chaque ligne sera terminée par le caractère de retour à la  ligne `'\\n'`. Pour chaque ligne du fichier, une exécution de `bloc` est réalisée.\n",
    "\n",
    "Le programme suivant effectue un parcours ligne par ligne du fichier `data_copie.txt`.  Sur chaque ligne, l'application de la méthode `strip()` permet de supprimer le caractère de retour à la ligne `'\\n'`. Puis, le nombre de caractères de la ligne est affiché à l'écran."
   ]
  },
  {
   "cell_type": "code",
   "execution_count": 22,
   "id": "fd7171c6-ed45-43d9-946c-a5edc297dc94",
   "metadata": {},
   "outputs": [
    {
     "name": "stdout",
     "output_type": "stream",
     "text": [
      "45\n",
      "47\n",
      "44\n",
      "42\n",
      "0\n",
      "45\n",
      "46\n",
      "49\n",
      "39\n",
      "0\n",
      "48\n",
      "49\n",
      "40\n",
      "48\n",
      "0\n",
      "42\n",
      "44\n",
      "37\n",
      "42\n",
      "0\n",
      "18\n",
      "57\n"
     ]
    }
   ],
   "source": [
    "with open('data_copie.txt', 'rt', encoding='UTF-8') as fich:\n",
    "    # Parcours du fichier ligne par ligne, suppression du caractère de retour à la ligne \\n et affichage du nombre de caractères de chaque ligne\n",
    "    for ligne in fich:\n",
    "        ligne = ligne.strip('\\n')\n",
    "        print(len(ligne))"
   ]
  },
  {
   "cell_type": "markdown",
   "id": "e327ac6a-6318-449a-b3d4-d270df67ed51",
   "metadata": {},
   "source": [
    "On remarque que certaines lignes comportent 0 caractère. Ce sont les lignes vides qui ne contiennent que le caractère de retour à la ligne `'\\n'` (caractère que la méthode `strip()` permet de supprimer avant le calcul du nombre de caractères).\n",
    "\n",
    "La méthode **readline()** permet de lire une ligne dans un fichier, et de se positionner sur la ligne suivante. Elle retourne&nbsp;:\n",
    "\n",
    "* le contenu de la ligne lue (sous la forme d'une chaîne terminée par `'\\n'`), si la fin du fichier n'est pas encore atteinte\n",
    "* une chaîne vide si la fin de fichier est atteinte.\n",
    "\n",
    "Le programme suivant lit puis affiche la première ligne du fichier nommé `demo.txt` (après lui avoir retiré le caractère de fin de ligne)."
   ]
  },
  {
   "cell_type": "code",
   "execution_count": 14,
   "id": "11f54422-6a5e-46d3-8df3-457f9cac6ef7",
   "metadata": {},
   "outputs": [
    {
     "name": "stdout",
     "output_type": "stream",
     "text": [
      "Voici le contenu de la première ligne du fichier : Ligne 1.\n"
     ]
    }
   ],
   "source": [
    "with open('demo.txt', 'rt', encoding='UTF-8') as fich:\n",
    "    premligne = fich.readline()   # Lecture de la première ligne\n",
    "    premligne = premligne.strip('\\n')  # Suppression du caractère de fin de ligne\n",
    "    print(f\"Voici le contenu de la première ligne du fichier : {premligne}.\")"
   ]
  },
  {
   "cell_type": "markdown",
   "id": "ce846b4d-7bc9-4a78-82ce-c568a7c72870",
   "metadata": {},
   "source": [
    "Associée à une boucle **while**, la méthode **readline()** permet d'effectuer un parcours ligne par ligne d'un fichier, pour appliquer à chaque ligne le même traitement. Le programme ci-dessous parcourt toutes les lignes du fichier `demo.txt` en affichant pour chacune son contenu et son nombre de caractères."
   ]
  },
  {
   "cell_type": "code",
   "execution_count": 15,
   "id": "8a6ccc6c-8a7b-4ba5-9012-4175d7f82b66",
   "metadata": {},
   "outputs": [
    {
     "name": "stdout",
     "output_type": "stream",
     "text": [
      "Contenu : Ligne 1, Nombre de caractères : 7\n",
      "Contenu : Ligne 2, Nombre de caractères : 7\n",
      "Contenu : Ligne 3, Nombre de caractères : 7\n",
      "Contenu : Ligne 4, Nombre de caractères : 7\n",
      "Contenu : Ligne 5, Nombre de caractères : 7\n",
      "Contenu : Ligne 6, Nombre de caractères : 7\n",
      "Contenu : Ligne 7, Nombre de caractères : 7\n",
      "Contenu : Ligne 8, Nombre de caractères : 7\n",
      "Contenu : Ligne 9, Nombre de caractères : 7\n",
      "Contenu : Ligne 10, Nombre de caractères : 8\n"
     ]
    }
   ],
   "source": [
    "with open('demo.txt', 'rt', encoding='UTF-8') as fich:\n",
    "    premligne = fich.readline()    # Lecture de la première ligne\n",
    "    while premligne:               # Equivalent à while premligne != '':\n",
    "        premligne = premligne.strip('\\n')   # Suppression du caractère de fin de ligne\n",
    "        print(f\"Contenu : {premligne}, Nombre de caractères : {len(premligne)}\")\n",
    "        premligne = fich.readline()  # Lecture de la ligne suivante"
   ]
  },
  {
   "cell_type": "markdown",
   "id": "5efa0031-701f-4514-9a09-2affcd2c5f31",
   "metadata": {},
   "source": [
    "## Utilisation des fichiers au format CSV en Python : le module csv\n",
    "\n",
    "Dans cette section, nous présentons les principales fonctions du module CSV de Python, permettant le traitement des fichiers texte au format CSV.\n",
    "\n",
    "### Qu'est-ce que le format CSV ?\n",
    "\n",
    "**CSV** signifie **Comma-Separated Values**, autrement dit **valeurs séparées par des virgules**. Il s'agit d'un format de données textuelles permettant de stocker des données **tabulaires**, c'est-à-dire des données qui pourraient être représentées dans un tableau. Il est très utilisé dans les systèmes de gestion de bases de données, ainsi que dans les logiciels tableurs, pour faciliter l'échange de données d'un logiciel à l'autre.\n",
    "\n",
    "Dans un fichier au format CSV&nbsp;:\n",
    "\n",
    "* chaque ligne correspond à une ligne d'un tableau, la première ligne pouvant contenir les intitulés des différents colonnes (cette première ligne d'intitulés n'est pas obligatoire)\n",
    "* sur chaque ligne, les contenus des différentes colonnes sont séparés à l'aide d'un **caractère séparateur**\n",
    "* certaines colonnes peuvent avoir un contenu vide.\n",
    "\n",
    "Voici ci-dessous un exemple de fichier au format CSV. La première ligne est la ligne d'intitulés (7 intitulés, donc 7 colonnes). Le caractère séparateur est la virgule « , ». Aucune des lignes ne comporte de colonne vide.\n",
    "\n",
    "![Fichier au format CSV](ImagesNotebook/Exemple_Fichier_CSV.PNG)\n",
    "\n",
    "### Dialecte d'un fichier CSV\n",
    "\n",
    "Le dialecte d'un fichier CSV désigne l'ensemble des principes utilisés pour formater les données qu'il contient. Le format CSV n'étant pas normalisé, il existe de nombreux dialectes différents. Dans l'exemple ci-dessous, le dialecte du fichier se compose de trois principes de formatage&nbsp;:\n",
    "\n",
    "* l'utilisation du point-virgule « ; » comme caractère séparateur des colonnes\n",
    "* les guillemets doubles anglo-saxons « \"\" » autour des données textuelles (pour les distinguer des données numériques)\n",
    "* l'utilisation du point « . » comme séparateur décimal des données numériques.\n",
    "\n",
    "![](ImagesNotebook/dialecte_CSV.PNG)"
   ]
  }
 ],
 "metadata": {
  "kernelspec": {
   "display_name": "Python 3 (ipykernel)",
   "language": "python",
   "name": "python3"
  },
  "language_info": {
   "codemirror_mode": {
    "name": "ipython",
    "version": 3
   },
   "file_extension": ".py",
   "mimetype": "text/x-python",
   "name": "python",
   "nbconvert_exporter": "python",
   "pygments_lexer": "ipython3",
   "version": "3.9.12"
  },
  "toc-autonumbering": true
 },
 "nbformat": 4,
 "nbformat_minor": 5
}
