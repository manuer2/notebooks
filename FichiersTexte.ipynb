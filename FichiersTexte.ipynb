{
 "cells": [
  {
   "cell_type": "markdown",
   "id": "77b44762-04d0-4753-bdca-a37e8842966e",
   "metadata": {},
   "source": [
    "# La manipulation des fichiers texte en Python\n",
    "\n",
    "L'objectif de ce chapitre est d'expliquer comment s'effectue, en langage Python, la lecture et l'écriture de données dans des fichiers. Seul le cas des fichiers de texte est abordé.\n",
    "\n",
    "## Généralités sur l'utilisation de fichiers en programmation\n",
    "\n",
    "### Pourquoi utiliser des fichiers ?\n",
    "\n",
    "Jusqu'à présent, les données que nous avons traitées dans des programmes étaient&nbsp;:\n",
    "\n",
    "* stockées dans des variables (simples ou structurées) grâce à des affectations, directement dans le code source\n",
    "* saisies au clavier puis stockées dans des variables au cours de l'exécution.\n",
    "\n",
    "Ces deux méthodes sont très limitées et inadaptées pour traiter de grandes quantités de données. Prenons l'exemple d'un programme calculant la moyenne obtenue par 1500 élèves à un contrôle de maths. Il n'est pas envisageable de déclarer dans le programme 1500 variables pour stocker les 1500 notes. Il n'est pas non plus raisonnable de saisir au clavier les 1500 notes. En supposant qu'on puisse tout de même le faire, cela signifie que si les valeurs des notes ou leur nombre changent il faudra modifier le code source du programme. Or, un programme bien conçu doit être indépendant des données qu'il traite. La quantité de données ainsi que leurs valeurs doivent pouvoir changer sans qu'on ait besoin de modifier le programme.\n",
    "\n",
    "Jusqu'à présent également, les résultats produits par nos programmes étaient simplement affichés à l'écran. Or, les résultats produits sont souvent trop volumineux pour être simplement affichés. Ils ont aussi parfois besoin d'être conservés, ce que ne permet pas l'affichage à l'écran.\n",
    "\n",
    "L'intérêt des fichiers est de bien séparer les programmes des données qu'ils traitent et des résultats qu'ils produisent. L'utilisation de fichiers permet de stocker dans des fichiers séparés&nbsp;:\n",
    "\n",
    "* le programme source\n",
    "* les données à traiter, c'est-à-dire les **entrées** ou le **fichier d'entrées**\n",
    "* les données produites, c'est-à-dire les **sorties** ou le **fichier de sorties**.\n",
    "\n",
    "Si on prend l'exemple d'un programme calculant les moyennes obtenues par des étudiants à trois examens (cf. figure ci-dessous), le fichier d'entrées contient la liste des étudiants, avec pour chacun les trois notes obtenues. Le fichier de sorties contient la même liste d'étudiants, avec pour chacun la moyenne obtenue.\n",
    "\n",
    "![Programme utilisant des fichiers pour les entrées et les sorties](ImagesNotebook/EntreesSorties.PNG)\n",
    "\n",
    "La seule contrainte imposée par l'utilisation de fichiers pour les entrées et les sorties est la définition précise et sans ambiguïté de la syntaxe (i.e., le format) de ces fichiers. Cette définition de la syntaxe doit précéder l'écriture du programme source, qui doit en tenir compte. Dans notre exemple, une syntaxe possible pour le fichier d'entrées est montrée sur la figure suivante. Dans cette syntaxe, chaque ligne contient les caractéristiques d'un étudiant(e) séparées par des virgules : nom, prénom, note obtenue au 1er examen, note obtenue au 2e examen, note obtenue au 3e examen. \n",
    "\n",
    "![Syntaxe du fichier d'entrées](ImagesNotebook/SyntaxeEntrees.PNG)\n",
    "\n",
    "Le fichier de sorties peut reprendre la même syntaxe que le fichier d'entrées, à ceci près que les 3 notes sont remplacées par la moyenne.\n",
    "\n",
    "![Syntaxe du fichier de sorties](ImagesNotebook/SyntaxeSorties.PNG)\n",
    "\n",
    "Il existe principalement deux types de fichiers&nbsp;:\n",
    "\n",
    "* les fichiers texte\n",
    "* les fichiers binaires\n",
    "\n",
    "### Les fichiers texte\n",
    "\n",
    "#### Contenu\n",
    "\n",
    "Comme son nom l'indique, un fichier texte contient des données textuelles, lisibles grâce à l'utilisation d'un **éditeur de texte** tel que **Notepad++**, **Bloc-notes**, **Xemacs** ou **Sublime Text**. Ces données textuelles peuvent être&nbsp;:\n",
    "\n",
    "* des caractères imprimables : lettres, chiffres, ponctuation, symboles, etc\n",
    "* des espaces\n",
    "* des caractères de fin de paragraphe ou de fin de ligne\n",
    "\n",
    "Tous les programmes sources, quel que soit le langage utilisé, sont mémorisés dans des fichiers texte. Un fichier texte peut également être utilisé pour conserver des données textuelles brutes, c'est-à-dire sans aucune mise en forme.\n",
    "\n",
    "#### Notion d'encodage\n",
    "\n",
    "### Les fichiers binaires"
   ]
  },
  {
   "cell_type": "markdown",
   "id": "a52e0d86-3090-4ce5-a2f5-0ed27fbf6022",
   "metadata": {},
   "source": [
    "## Utilisation des fichiers texte en Python"
   ]
  },
  {
   "cell_type": "markdown",
   "id": "5efa0031-701f-4514-9a09-2affcd2c5f31",
   "metadata": {},
   "source": [
    "## Utilisation des fichiers au format CSV en Python : le module csv"
   ]
  }
 ],
 "metadata": {
  "kernelspec": {
   "display_name": "Python 3 (ipykernel)",
   "language": "python",
   "name": "python3"
  },
  "language_info": {
   "codemirror_mode": {
    "name": "ipython",
    "version": 3
   },
   "file_extension": ".py",
   "mimetype": "text/x-python",
   "name": "python",
   "nbconvert_exporter": "python",
   "pygments_lexer": "ipython3",
   "version": "3.9.12"
  }
 },
 "nbformat": 4,
 "nbformat_minor": 5
}
