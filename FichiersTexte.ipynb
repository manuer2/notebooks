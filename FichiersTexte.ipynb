{
 "cells": [
  {
   "cell_type": "markdown",
   "id": "77b44762-04d0-4753-bdca-a37e8842966e",
   "metadata": {},
   "source": [
    "# La manipulation des fichiers texte\n",
    "\n",
    "L'objectif de ce chapitre est d'expliquer comment s'effectue, en langage Python, la lecture et l'écriture de données dans des fichiers. Seul le cas des fichiers de texte est abordé.\n",
    "\n",
    "## Généralités sur l'utilisation de fichiers en programmation\n",
    "\n",
    "### Pourquoi utiliser des fichiers ?\n",
    "\n",
    "Jusqu'à présent, les données que nous avons traitées dans des programmes étaient&nbsp;:\n",
    "\n",
    "* stockées dans des variables (simples ou structurées) grâce à des affectations, directement dans le code source\n",
    "* saisies au clavier puis stockées dans des variables au cours de l'exécution.\n",
    "\n",
    "Ces deux méthodes sont très limitées et inadaptées pour traiter de grandes quantités de données. Prenons l'exemple d'un programme calculant la moyenne obtenue par 1500 élèves à un contrôle de maths. Il n'est pas envisageable de déclarer dans le programme 1500 variables pour stocker les 1500 notes. Il n'est pas non plus raisonnable de saisir au clavier les 1500 notes. En supposant qu'on puisse tout de même le faire, cela signifie que si les valeurs des notes ou leur nombre changent il faudra modifier le code source du programme. Or, un programme bien conçu doit être indépendant des données qu'il traite. La quantité de données ainsi que leurs valeurs doivent pouvoir changer sans qu'on ait besoin de modifier le programme.\n",
    "\n",
    "Jusqu'à présent également, les résultats produits par nos programmes étaient simplement affichés à l'écran. Or, les résultats produits sont souvent trop volumineux pour être simplement affichés. Ils ont aussi parfois besoin d'être conservés, ce que ne permet pas l'affichage à l'écran.\n",
    "\n",
    "L'intérêt des fichiers est de bien séparer les programmes des données qu'ils traitent et des résultats qu'ils produisent. L'utilisation de fichiers permet de stocker dans des fichiers séparés&nbsp;:\n",
    "\n",
    "* le programme source\n",
    "* les données à traiter, c'est-à-dire les **entrées** ou le **fichier d'entrées**\n",
    "* les données produites, c'est-à-dire les **sorties** ou le **fichier de sorties**.\n",
    "\n",
    "Si on prend l'exemple d'un programme calculant les moyennes obtenues par des étudiants à trois examens (cf. figure ci-dessous), le fichier d'entrées contient la liste des étudiants, avec pour chacun les trois notes obtenues. Le fichier de sorties contient la même liste d'étudiants, avec pour chacun la moyenne obtenue.\n",
    "\n",
    "![Programme utilisant des fichiers](ImagesNotebook/EntreesSorties.PNG)\n",
    "\n",
    "La seule contrainte imposée par l'utilisation de fichiers pour les entrées et les sorties est la définition précise et sans ambiguïté de la syntaxe (i.e., le format) de ces fichiers. Cette définition de la syntaxe doit précéder l'écriture du programme source, qui doit en tenir compte. Dans notre exemple, une syntaxe possible pour le fichier d'entrées est montrée sur la figure suivante. Dans cette syntaxe, chaque ligne contient les caractéristiques d'un étudiant(e) séparées par des virgules : nom, prénom, note obtenue au 1er examen, note obtenue au 2e examen, note obtenue au 3e examen. \n",
    "\n",
    "![Syntaxe du fichier d'entrées](ImagesNotebook/SyntaxeEntrees.PNG)\n",
    "\n",
    "Le fichier de sorties peut reprendre la même syntaxe que le fichier d'entrées, à ceci près que les 3 notes sont remplacées par la moyenne.\n",
    "\n",
    "![Syntaxe du fichier de sorties](ImagesNotebook/SyntaxeSorties.PNG)\n",
    "\n",
    "Il existe principalement deux types de fichiers&nbsp;:\n",
    "\n",
    "* les fichiers texte\n",
    "* les fichiers binaires\n",
    "\n",
    "### Les fichiers texte\n",
    "\n",
    "#### Contenu\n",
    "\n",
    "Comme son nom l'indique, un fichier texte contient des données textuelles, lisibles grâce à l'utilisation d'un **éditeur de texte** tel que **Notepad++**, **Bloc-notes**, **Xemacs** ou **Sublime Text**. Ces données textuelles peuvent être&nbsp;:\n",
    "\n",
    "* des caractères imprimables : lettres, chiffres, ponctuation, symboles, etc\n",
    "* des espaces\n",
    "* des caractères de fin de paragraphe ou de fin de ligne.\n",
    "\n",
    "Tous les programmes sources, quel que soit le langage utilisé, sont mémorisés dans des fichiers texte. Un fichier texte peut également être utilisé pour conserver des données textuelles brutes, c'est-à-dire sans aucune mise en forme.\n",
    "\n",
    "#### Notion d'encodage\n",
    "\n",
    "Dans la mémoire vive d'un ordinateur ou sur un support de stockage tel qu'un disque dur, toutes les données, quels que soient leurs types, sont codées à l'aide d'un **langage binaire**, dont l'alphabet se compose de deux symboles uniquement : **0** et **1**. Chaque caractère d'un fichier texte est donc mémorisé à l'aide d'une **suite de bits**, c'est-à-dire une suite de chiffres dont la valeur est 0 ou 1. La suite de bits représentant un caractère dépend de l'**encodage** utilisé. En informatique, un encodage est un processus permettant de traduire un caractère en une suite plus ou moins longue de bits qui correspond à sa représentation binaire. Il existe de nombreux encodages, parmi lesquels nous pouvons citer les plus couramment utilisés&nbsp;:\n",
    "\n",
    "* ASCII : un des premiers encodages utilisés en informatique. Il n'est quasiment plus utilisé aujourd'hui car il ne permet l'encodage que de 128 caractères différents.\n",
    "* ISO-8859-1 ou ANSI : encodage dit « occidental » permettant de coder tous les caractères latins.\n",
    "* UTF-8 : encodage le plus répandu depuis 2016. Il permet de coder de nombreux caractères issus de nombreux alphabets (latin, arabe, cyrillique, etc).\n",
    "\n",
    "Le tableau suivant montre les représentations binaires des caractères « e » et « é » avec les trois encodages cités ci-dessus.\n",
    "\n",
    "| Caractère | ASCII | ANSI | UTF-8 |\n",
    "| :-: | :-: | :-: | :-: |\n",
    "| e | 01100101 | 01100101 | 01100101 |\n",
    "| é | non défini | 11101001 | 11000011 |\n",
    "\n",
    "Nous pouvons remarquer que la représentation binaire de « e » est identique dans les trois encodages. En revanche, le « é » ne peut être codé en ASCII. De plus, sa représentation binaire est différente en ANSI et en UTF-8. Ces observations sont identiques pour tous les caractères accentués.\n",
    "\n",
    "Lorsqu'on travaille avec un fichier texte, il est primordial de savoir avec quel encodage il a été mémorisé. Supposons par exemple que nous créons un fichier texte, en utilisant l'encodage ANSI. Le contenu du fichier est le suivant&nbsp;:\n",
    "\n",
    "![Fichier texte initial](ImagesNotebook/Fichier_ANSI_Init.PNG)\n",
    "\n",
    "Nous envoyons via la messagerie électronique ce fichier à deux amis A et B. Notre ami A récupère le fichier, puis l'ouvre dans son éditeur de texte en utilisant également l'encodage ANSI. Voici ce qui s'affiche sur l'écran de A&nbsp;:\n",
    "\n",
    "![Fichier ouvert avec ANSI](ImagesNotebook/Fichier_ANSI_Init.PNG)\n",
    "\n",
    "Dans ce cas, tout se passe bien : l'encodage utilisé par A pour lire le fichier est le même que celui avec lequel nous l'avons créé. \n",
    "\n",
    "Notre ami B récupère également le fichier, mais l'ouvre dans son éditeur en utilisant l'encodage UTF-8. Voici ce qui s'affiche sur l'écran de B&nbsp;:\n",
    "\n",
    "![Fichier ouvert avec UTF-8](ImagesNotebook/Fichier_UTF-8.PNG)\n",
    "\n",
    "Dans ce cas, tous les caractères apparaissent normalement, sauf les caractères accentués ! Ce qui est normal puisque ces caractères ne sont pas codés de la même façon en ANSI et en UTF-8. Leur lecture avec un encodage UTF-8, alors qu'ils ont été mémorisés avec ANSI, ne peut donc pas s'effectuer correctement.\n",
    "\n",
    "Autre exemple illustrant l'importance de l'encodage pour le traitement des fichiers texte : voici ci-dessous un fichier texte encodé en UTF-8&nbsp;:\n",
    "\n",
    "![Fichier encodé avec UTF-8](ImagesNotebook/Exemple2_utf-8.PNG)\n",
    "\n",
    "Voici ci-dessous le même fichier ouvert avec un encodage ANSI&nbsp;:\n",
    "\n",
    "![Fichier lu avec ANSI](ImagesNotebook/Exemple2_ansi.PNG)\n",
    "\n",
    "Tous les caractères accentués ont été mal décodés et apparaissent comme des suites de deux caractères telles que « Ã© » (à la place de « é ») ou « Ã¯ » (à la place de « ï »).\n",
    "\n",
    "L'encodage est donc une information essentielle lorsqu'on traite des fichiers texte. Dans la plupart des langages de programmation, l'encodage est une information qui doit être fournie aux différentes instructions/fonctions/méthodes qui lisent les données contenues dans les fichiers texte. Tous les éditeurs permettent généralement de paramétrer l'encodage utilisé pour créer un fichier, ou de modifier l'encodage d'un fichier existant. Lorsqu'on ne connaît pas l'encodage d'un fichier texte, une bonne méthode est d'ouvrir ce fichier avec un éditeur, et de tester plusieurs encodages jusqu'à obtenir celui avec lequel le contenu du fichier (en particulier les caractères accentués !) est lisible.\n",
    "\n",
    "### Les fichiers binaires\n",
    "\n",
    "Un **fichier binaire** est un fichier contenant des données non textuelles qui sont illisibles avec un éditeur de texte. Voici quelques exemples de fichiers binaires&nbsp;:\n",
    "\n",
    "* une image (format, JPEG, GIF, PNG, etc)\n",
    "* un son (format WAV, MP3, etc)\n",
    "* une vidéo (format AVI, MOV, MP4, etc)\n",
    "* un programme exécutable (fichier ayant l'extension .exe)\n",
    "* un document Word, Excel, Libre Office, etc\n",
    "\n",
    "La plupart du temps (à l'exception des programmes exécutables), les fichiers binaires sont créés à l'aide de logiciele dédiés (Paint, Gimp, Word, Excel, etc). Seuls ces logiciels dédiés permettent d'en lire les contenus.\n",
    "\n",
    "Prenons l'exemple d'un fichier contenant une image au format PNG. Lorsqu'on ouvre ce fichier avec le logiciel de traitement d'images Irfanview, l'image s'affiche correctement&nbsp;:\n",
    "\n",
    "![Image lue avec Irfanview](ImagesNotebook/png_irfanview.PNG)\n",
    "\n",
    "Lorsqu'on essaie d'ouvrir le même fichier avec un éditeur de texte, voici ce qui s'affiche&nbsp;:\n",
    "\n",
    "![Image lue avec éditeur](ImagesNotebook/png_texte.PNG)\n",
    "\n",
    "Voici ce que donne un diaporama Powerpoint... ouvert avec Powerpoint&nbsp;:\n",
    "\n",
    "![Diaporama lu avec Powerpoint](ImagesNotebook/diapo_ppt.PNG)\n",
    "\n",
    "et ouvert avec un éditeur de texte&nbsp;:\n",
    "\n",
    "![Diaporama lu avec éditeur](ImagesNotebook/diapo_texte.PNG)\n",
    "\n",
    "### Manipulation des fichiers texte : quelles fonctionnalités ?\n",
    "\n",
    "Dans ce chapitre, nous nous intéresserons à la manipulation des fichiers texte uniquement. Pour pouvoir traiter correctement les fichiers texte, en tant que fichiers d'entrées ou de sorties, les programmes doivent être en mesure&nbsp;:\n",
    "\n",
    "* d'ouvrir un fichier se trouvant sur un support de stockage\n",
    "* de lire tout le contenu d'un fichier\n",
    "* de créer un nouveau fichier\n",
    "* d'écrire des données dans un fichier\n",
    "* de modifier des données se trouvant dans un fichier\n",
    "* de fermer un fichier\n",
    "\n",
    "La plupart des langages proposent toutes ces fonctionnalités.\n",
    "\n",
    "## Manipulation des fichiers texte en Python\n",
    "\n",
    "Comme vous pourrez le constater dans la suite de cette section, un fichier en Python est considéré comme un objet. Voici donc les principales fonctions et méthodes permettant de traiter des fichiers texte.\n",
    "\n",
    "### Récupération du **dossier courant** : la fonction **getcwd()** du module **os**\n",
    "\n",
    "Le **dossier courant** est le dossier dans lequel s'exécute un programme Python. Ce dossier peut varier d'un environnement de programmation à un autre. Dans PyCharm, lorsqu'on exécute un programme Python, le dossier courant est celui où est stocké le programme. Dans VSCode, le dossier courant est le dossier qui a été ouvert pour travailler (qui n'est pas forcément celui où est stocké le programme qu'on exécute !). La fonction **getcwd()** permet de connaître le dossier courant dans lequel s'exécute un programme. Elle retourne une chaîne contenant le chemin complet du dossier courant."
   ]
  },
  {
   "cell_type": "code",
   "execution_count": 1,
   "id": "0519da7e-6901-4183-bcfd-97097b92e670",
   "metadata": {},
   "outputs": [
    {
     "name": "stdout",
     "output_type": "stream",
     "text": [
      "Le dossier courant est : C:\\Users\\martienne_e.\n"
     ]
    }
   ],
   "source": [
    "import os\n",
    "courant = os.getcwd()\n",
    "print(f\"Le dossier courant est : {courant}.\")"
   ]
  },
  {
   "cell_type": "markdown",
   "id": "8311bdcf-47d0-426e-b6b4-8072dc535d7c",
   "metadata": {},
   "source": [
    "Lorsqu'un programme traite des fichiers, **ceux-ci doivent impérativement être stockés dans le dossier courant**.\n",
    "\n",
    "### Modification du dossier courant : la fonction **chdir()** du module **os**\n",
    "\n",
    "Il est possible de modifier le dossier courant avec la fonction **chdir()**. La syntaxe de cette fonction est la suivante&nbsp;:"
   ]
  },
  {
   "cell_type": "code",
   "execution_count": null,
   "id": "f1b63164-4a80-452e-9c32-1dc4bae24c1a",
   "metadata": {},
   "outputs": [],
   "source": [
    "os.chdir(chemin)"
   ]
  },
  {
   "cell_type": "markdown",
   "id": "9b429c56-9646-46c0-980d-c87207f715d9",
   "metadata": {},
   "source": [
    "où `chemin` est une chaîne contenant le chemin complet du nouveau dossier courant (dossier dans lequel doivent impérativement figurer les fichiers à traiter !!). Le programme suivant est un exemple d'utilisation de la fonction **chdir()** permettant de paramétrer le dossier `'C:\\Users\\martienne_e\\data'` comme nouveau dossier courant."
   ]
  },
  {
   "cell_type": "code",
   "execution_count": 2,
   "id": "4dca324e-8a4f-4599-a454-6742fed711e9",
   "metadata": {},
   "outputs": [
    {
     "name": "stdout",
     "output_type": "stream",
     "text": [
      "Le dossier courant est : C:\\Users\\martienne_e\n",
      "Le nouveau dossier courant est : C:\\Users\\martienne_e\\data\n"
     ]
    }
   ],
   "source": [
    "import os\n",
    "courant = os.getcwd()\n",
    "print(f\"Le dossier courant est : {courant}\")\n",
    "nouveau = courant + '\\data'\n",
    "os.chdir(nouveau)\n",
    "courant = os.getcwd()\n",
    "print(f\"Le nouveau dossier courant est : {courant}\")"
   ]
  },
  {
   "cell_type": "markdown",
   "id": "91bdf9a1-3d9a-44ed-90a1-41eedbfdc044",
   "metadata": {},
   "source": [
    "### Ouverture d'un fichier : la fonction **open()**"
   ]
  },
  {
   "cell_type": "markdown",
   "id": "0ca5add7-5158-4156-a151-0f1dc3f0e29c",
   "metadata": {},
   "source": [
    "### Fermeture d'un fichier : la méthode **close()**\n"
   ]
  },
  {
   "cell_type": "markdown",
   "id": "af24152c-7c7b-40a7-9bf7-1f2ad89719ee",
   "metadata": {},
   "source": [
    "### Lecture intégrale d'un fichier : les méthodes **read()** et **readlines()**\n"
   ]
  },
  {
   "cell_type": "markdown",
   "id": "602c7cda-c108-49cb-9cbd-9350ead20600",
   "metadata": {},
   "source": [
    "### Écriture dans un fichier : la méthode **write()**\n"
   ]
  },
  {
   "cell_type": "markdown",
   "id": "e0faa4de-6cf8-4351-a691-a6e9b8caf97e",
   "metadata": {},
   "source": [
    "### Parcours d'un fichier ligne par ligne avec la boucle **for**\n"
   ]
  },
  {
   "cell_type": "markdown",
   "id": "3343783c-e688-42fd-9d48-e72d468f10f7",
   "metadata": {},
   "source": [
    "### Le bloc **with** et la fermeture implicite d'un fichier"
   ]
  },
  {
   "cell_type": "markdown",
   "id": "5efa0031-701f-4514-9a09-2affcd2c5f31",
   "metadata": {},
   "source": [
    "## Utilisation des fichiers au format CSV en Python : le module csv"
   ]
  }
 ],
 "metadata": {
  "kernelspec": {
   "display_name": "Python 3 (ipykernel)",
   "language": "python",
   "name": "python3"
  },
  "language_info": {
   "codemirror_mode": {
    "name": "ipython",
    "version": 3
   },
   "file_extension": ".py",
   "mimetype": "text/x-python",
   "name": "python",
   "nbconvert_exporter": "python",
   "pygments_lexer": "ipython3",
   "version": "3.9.12"
  },
  "toc-autonumbering": true
 },
 "nbformat": 4,
 "nbformat_minor": 5
}
