{
 "cells": [
  {
   "cell_type": "markdown",
   "id": "b2152bf3",
   "metadata": {},
   "source": [
    "# Introduction à Python"
   ]
  },
  {
   "cell_type": "markdown",
   "id": "e08c1220",
   "metadata": {},
   "source": [
    "## Petit exemple de script Python"
   ]
  },
  {
   "cell_type": "code",
   "execution_count": 2,
   "id": "1fce534a",
   "metadata": {},
   "outputs": [
    {
     "name": "stdout",
     "output_type": "stream",
     "text": [
      "Saisissez la valeur de c :6\n",
      "La somme est : 14\n"
     ]
    }
   ],
   "source": [
    "a=3\n",
    "b=5\n",
    "c=int(input(\"Saisissez la valeur de c :\"))\n",
    "somme=a+b+c\n",
    "print(f\"La somme est : {somme}\")"
   ]
  },
  {
   "cell_type": "raw",
   "id": "5bc8485c",
   "metadata": {},
   "source": [
    "C'est tout pour le moment !!!"
   ]
  }
 ],
 "metadata": {
  "kernelspec": {
   "display_name": "Python 3 (ipykernel)",
   "language": "python",
   "name": "python3"
  },
  "language_info": {
   "codemirror_mode": {
    "name": "ipython",
    "version": 3
   },
   "file_extension": ".py",
   "mimetype": "text/x-python",
   "name": "python",
   "nbconvert_exporter": "python",
   "pygments_lexer": "ipython3",
   "version": "3.9.12"
  }
 },
 "nbformat": 4,
 "nbformat_minor": 5
}
